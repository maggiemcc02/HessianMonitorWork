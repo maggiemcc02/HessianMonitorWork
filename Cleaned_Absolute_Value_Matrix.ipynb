{
  "nbformat": 4,
  "nbformat_minor": 0,
  "metadata": {
    "colab": {
      "provenance": [],
      "authorship_tag": "ABX9TyMO1ERstTk+ZUYy9XWX1cAh",
      "include_colab_link": true
    },
    "kernelspec": {
      "name": "python3",
      "display_name": "Python 3"
    },
    "language_info": {
      "name": "python"
    }
  },
  "cells": [
    {
      "cell_type": "markdown",
      "metadata": {
        "id": "view-in-github",
        "colab_type": "text"
      },
      "source": [
        "<a href=\"https://colab.research.google.com/github/maggiemcc02/HessianMonitorWork/blob/main/Cleaned_Absolute_Value_Matrix.ipynb\" target=\"_parent\"><img src=\"https://colab.research.google.com/assets/colab-badge.svg\" alt=\"Open In Colab\"/></a>"
      ]
    },
    {
      "cell_type": "markdown",
      "source": [
        "# Introduction\n",
        "\n",
        "\n",
        "In this notebook I work on implementing the absolute value of a matrix. This is needed for my 2D Hessian Monitor Function"
      ],
      "metadata": {
        "id": "n5kRHE4m9dre"
      }
    },
    {
      "cell_type": "code",
      "source": [
        "import numpy as np\n",
        "import scipy.linalg as sci\n",
        "import sympy as sp"
      ],
      "metadata": {
        "id": "UclQzm5nRsSy"
      },
      "execution_count": null,
      "outputs": []
    },
    {
      "cell_type": "markdown",
      "source": [
        "# Algebraic Work\n"
      ],
      "metadata": {
        "id": "NJSrDfTFR4xn"
      }
    },
    {
      "cell_type": "code",
      "source": [
        "# define a 2x2 symmetric matrix\n",
        "\n",
        "a, b, c = sp.symbols('a b c')\n",
        "A = sp.Matrix([[a, c], [c, b]])\n",
        "A"
      ],
      "metadata": {
        "colab": {
          "base_uri": "https://localhost:8080/",
          "height": 58
        },
        "id": "iCzLX7oQRyTH",
        "outputId": "11b9fb0b-5d59-4cbd-d5de-73d4f7f20f14"
      },
      "execution_count": null,
      "outputs": [
        {
          "output_type": "execute_result",
          "data": {
            "text/plain": [
              "Matrix([\n",
              "[a, c],\n",
              "[c, b]])"
            ],
            "text/latex": "$\\displaystyle \\left[\\begin{matrix}a & c\\\\c & b\\end{matrix}\\right]$"
          },
          "metadata": {},
          "execution_count": 2
        }
      ]
    },
    {
      "cell_type": "code",
      "source": [
        "# show it is symmetric\n",
        "\n",
        "sp.transpose(A)"
      ],
      "metadata": {
        "colab": {
          "base_uri": "https://localhost:8080/",
          "height": 58
        },
        "id": "2yqeeOYLR-ij",
        "outputId": "28594f2a-2b61-42ba-8555-dd543ba0da2f"
      },
      "execution_count": null,
      "outputs": [
        {
          "output_type": "execute_result",
          "data": {
            "text/plain": [
              "Matrix([\n",
              "[a, c],\n",
              "[c, b]])"
            ],
            "text/latex": "$\\displaystyle \\left[\\begin{matrix}a & c\\\\c & b\\end{matrix}\\right]$"
          },
          "metadata": {},
          "execution_count": 3
        }
      ]
    },
    {
      "cell_type": "code",
      "source": [
        "# find the eigenvalues\n",
        "\n",
        "L1, L2, = A.eigenvals()\n",
        "\n",
        "# This matches my algebraic work!\n",
        "\n",
        "L1"
      ],
      "metadata": {
        "colab": {
          "base_uri": "https://localhost:8080/",
          "height": 56
        },
        "id": "H2sdpj79SJ6d",
        "outputId": "095da296-b268-4621-9318-b3bd331fbb34"
      },
      "execution_count": null,
      "outputs": [
        {
          "output_type": "execute_result",
          "data": {
            "text/plain": [
              "a/2 + b/2 - sqrt(a**2 - 2*a*b + b**2 + 4*c**2)/2"
            ],
            "text/latex": "$\\displaystyle \\frac{a}{2} + \\frac{b}{2} - \\frac{\\sqrt{a^{2} - 2 a b + b^{2} + 4 c^{2}}}{2}$"
          },
          "metadata": {},
          "execution_count": 4
        }
      ]
    },
    {
      "cell_type": "code",
      "source": [
        "v1, v2 = A.eigenvects()\n",
        "\n",
        "v1\n",
        "\n",
        "# matches my workings (other option for v)"
      ],
      "metadata": {
        "colab": {
          "base_uri": "https://localhost:8080/"
        },
        "id": "k3b1gz1wWCcD",
        "outputId": "2c87c47e-8323-48fb-a164-acdcf7b06807"
      },
      "execution_count": null,
      "outputs": [
        {
          "output_type": "execute_result",
          "data": {
            "text/plain": [
              "(a/2 + b/2 - sqrt(a**2 - 2*a*b + b**2 + 4*c**2)/2,\n",
              " 1,\n",
              " [Matrix([\n",
              "  [-b/c + (a/2 + b/2 - sqrt(a**2 - 2*a*b + b**2 + 4*c**2)/2)/c],\n",
              "  [                                                          1]])])"
            ]
          },
          "metadata": {},
          "execution_count": 5
        }
      ]
    },
    {
      "cell_type": "code",
      "source": [
        "# fine the eigenvectors\n",
        "\n",
        "Q, L = A.diagonalize()\n",
        "\n",
        "Q # same result as what I have except they took free variable = 1"
      ],
      "metadata": {
        "colab": {
          "base_uri": "https://localhost:8080/",
          "height": 61
        },
        "id": "Kqj5Ly3XSY_O",
        "outputId": "b7d9e832-2bfd-4ed0-b99b-680b5c5f9ec3"
      },
      "execution_count": null,
      "outputs": [
        {
          "output_type": "execute_result",
          "data": {
            "text/plain": [
              "Matrix([\n",
              "[(a - b - sqrt(a**2 - 2*a*b + b**2 + 4*c**2))/(2*c), (a - b + sqrt(a**2 - 2*a*b + b**2 + 4*c**2))/(2*c)],\n",
              "[                                                 1,                                                  1]])"
            ],
            "text/latex": "$\\displaystyle \\left[\\begin{matrix}\\frac{a - b - \\sqrt{a^{2} - 2 a b + b^{2} + 4 c^{2}}}{2 c} & \\frac{a - b + \\sqrt{a^{2} - 2 a b + b^{2} + 4 c^{2}}}{2 c}\\\\1 & 1\\end{matrix}\\right]$"
          },
          "metadata": {},
          "execution_count": 6
        }
      ]
    },
    {
      "cell_type": "code",
      "source": [
        "L"
      ],
      "metadata": {
        "colab": {
          "base_uri": "https://localhost:8080/",
          "height": 68
        },
        "id": "5OrEC1q0So6O",
        "outputId": "52fb41d7-ddc7-40de-a87c-b33b206c3b84"
      },
      "execution_count": null,
      "outputs": [
        {
          "output_type": "execute_result",
          "data": {
            "text/plain": [
              "Matrix([\n",
              "[a/2 + b/2 - sqrt(a**2 - 2*a*b + b**2 + 4*c**2)/2,                                                0],\n",
              "[                                               0, a/2 + b/2 + sqrt(a**2 - 2*a*b + b**2 + 4*c**2)/2]])"
            ],
            "text/latex": "$\\displaystyle \\left[\\begin{matrix}\\frac{a}{2} + \\frac{b}{2} - \\frac{\\sqrt{a^{2} - 2 a b + b^{2} + 4 c^{2}}}{2} & 0\\\\0 & \\frac{a}{2} + \\frac{b}{2} + \\frac{\\sqrt{a^{2} - 2 a b + b^{2} + 4 c^{2}}}{2}\\end{matrix}\\right]$"
          },
          "metadata": {},
          "execution_count": 7
        }
      ]
    },
    {
      "cell_type": "code",
      "source": [
        "# Plug in values\n",
        "Q.subs(a, 1)"
      ],
      "metadata": {
        "colab": {
          "base_uri": "https://localhost:8080/",
          "height": 61
        },
        "id": "9xI2glukYBWp",
        "outputId": "7b9dc4bd-44d4-441a-aa62-43dc3914667c"
      },
      "execution_count": null,
      "outputs": [
        {
          "output_type": "execute_result",
          "data": {
            "text/plain": [
              "Matrix([\n",
              "[(-b - sqrt(b**2 - 2*b + 4*c**2 + 1) + 1)/(2*c), (-b + sqrt(b**2 - 2*b + 4*c**2 + 1) + 1)/(2*c)],\n",
              "[                                             1,                                              1]])"
            ],
            "text/latex": "$\\displaystyle \\left[\\begin{matrix}\\frac{- b - \\sqrt{b^{2} - 2 b + 4 c^{2} + 1} + 1}{2 c} & \\frac{- b + \\sqrt{b^{2} - 2 b + 4 c^{2} + 1} + 1}{2 c}\\\\1 & 1\\end{matrix}\\right]$"
          },
          "metadata": {},
          "execution_count": 8
        }
      ]
    },
    {
      "cell_type": "code",
      "source": [
        "Abs_L = sp.Abs(L)\n",
        "\n",
        "Abs_L"
      ],
      "metadata": {
        "colab": {
          "base_uri": "https://localhost:8080/",
          "height": 78
        },
        "id": "dwkpK3Pla8dV",
        "outputId": "da24e18d-d55d-44fe-fd32-954240d20309"
      },
      "execution_count": null,
      "outputs": [
        {
          "output_type": "execute_result",
          "data": {
            "text/plain": [
              "Matrix([\n",
              "[Abs(a/2 + b/2 - sqrt(a**2 - 2*a*b + b**2 + 4*c**2)/2),                                                     0],\n",
              "[                                                    0, Abs(a/2 + b/2 + sqrt(a**2 - 2*a*b + b**2 + 4*c**2)/2)]])"
            ],
            "text/latex": "$\\displaystyle \\left[\\begin{matrix}\\left|{\\frac{a}{2} + \\frac{b}{2} - \\frac{\\sqrt{a^{2} - 2 a b + b^{2} + 4 c^{2}}}{2}}\\right| & 0\\\\0 & \\left|{\\frac{a}{2} + \\frac{b}{2} + \\frac{\\sqrt{a^{2} - 2 a b + b^{2} + 4 c^{2}}}{2}}\\right|\\end{matrix}\\right]$"
          },
          "metadata": {},
          "execution_count": 9
        }
      ]
    },
    {
      "cell_type": "code",
      "source": [
        "Q_inv = Q.inv()\n",
        "\n",
        "Q_inv"
      ],
      "metadata": {
        "colab": {
          "base_uri": "https://localhost:8080/",
          "height": 70
        },
        "id": "oMPWP_CabTjk",
        "outputId": "db87f3eb-e6c0-46ca-896f-1a08d81b71ae"
      },
      "execution_count": null,
      "outputs": [
        {
          "output_type": "execute_result",
          "data": {
            "text/plain": [
              "Matrix([\n",
              "[-c/sqrt(a**2 - 2*a*b + b**2 + 4*c**2),  (a - b + sqrt(a**2 - 2*a*b + b**2 + 4*c**2))/(2*sqrt(a**2 - 2*a*b + b**2 + 4*c**2))],\n",
              "[ c/sqrt(a**2 - 2*a*b + b**2 + 4*c**2), (-a + b + sqrt(a**2 - 2*a*b + b**2 + 4*c**2))/(2*sqrt(a**2 - 2*a*b + b**2 + 4*c**2))]])"
            ],
            "text/latex": "$\\displaystyle \\left[\\begin{matrix}- \\frac{c}{\\sqrt{a^{2} - 2 a b + b^{2} + 4 c^{2}}} & \\frac{a - b + \\sqrt{a^{2} - 2 a b + b^{2} + 4 c^{2}}}{2 \\sqrt{a^{2} - 2 a b + b^{2} + 4 c^{2}}}\\\\\\frac{c}{\\sqrt{a^{2} - 2 a b + b^{2} + 4 c^{2}}} & \\frac{- a + b + \\sqrt{a^{2} - 2 a b + b^{2} + 4 c^{2}}}{2 \\sqrt{a^{2} - 2 a b + b^{2} + 4 c^{2}}}\\end{matrix}\\right]$"
          },
          "metadata": {},
          "execution_count": 10
        }
      ]
    },
    {
      "cell_type": "code",
      "source": [
        "abs_A = Q * Abs_L * Q.inv()\n",
        "\n",
        "abs_A"
      ],
      "metadata": {
        "colab": {
          "base_uri": "https://localhost:8080/",
          "height": 107
        },
        "id": "sY3p_C9CbHse",
        "outputId": "a8dead46-43a2-4da9-8cec-d9fb62e5deb3"
      },
      "execution_count": null,
      "outputs": [
        {
          "output_type": "execute_result",
          "data": {
            "text/plain": [
              "Matrix([\n",
              "[-(a - b - sqrt(a**2 - 2*a*b + b**2 + 4*c**2))*Abs(a/2 + b/2 - sqrt(a**2 - 2*a*b + b**2 + 4*c**2)/2)/(2*sqrt(a**2 - 2*a*b + b**2 + 4*c**2)) + (a - b + sqrt(a**2 - 2*a*b + b**2 + 4*c**2))*Abs(a/2 + b/2 + sqrt(a**2 - 2*a*b + b**2 + 4*c**2)/2)/(2*sqrt(a**2 - 2*a*b + b**2 + 4*c**2)), (-a + b + sqrt(a**2 - 2*a*b + b**2 + 4*c**2))*(a - b + sqrt(a**2 - 2*a*b + b**2 + 4*c**2))*Abs(a/2 + b/2 + sqrt(a**2 - 2*a*b + b**2 + 4*c**2)/2)/(4*c*sqrt(a**2 - 2*a*b + b**2 + 4*c**2)) + (a - b - sqrt(a**2 - 2*a*b + b**2 + 4*c**2))*(a - b + sqrt(a**2 - 2*a*b + b**2 + 4*c**2))*Abs(a/2 + b/2 - sqrt(a**2 - 2*a*b + b**2 + 4*c**2)/2)/(4*c*sqrt(a**2 - 2*a*b + b**2 + 4*c**2))],\n",
              "[                                                                                              -c*Abs(a/2 + b/2 - sqrt(a**2 - 2*a*b + b**2 + 4*c**2)/2)/sqrt(a**2 - 2*a*b + b**2 + 4*c**2) + c*Abs(a/2 + b/2 + sqrt(a**2 - 2*a*b + b**2 + 4*c**2)/2)/sqrt(a**2 - 2*a*b + b**2 + 4*c**2),                                                                                               (-a + b + sqrt(a**2 - 2*a*b + b**2 + 4*c**2))*Abs(a/2 + b/2 + sqrt(a**2 - 2*a*b + b**2 + 4*c**2)/2)/(2*sqrt(a**2 - 2*a*b + b**2 + 4*c**2)) + (a - b + sqrt(a**2 - 2*a*b + b**2 + 4*c**2))*Abs(a/2 + b/2 - sqrt(a**2 - 2*a*b + b**2 + 4*c**2)/2)/(2*sqrt(a**2 - 2*a*b + b**2 + 4*c**2))]])"
            ],
            "text/latex": "$\\displaystyle \\left[\\begin{matrix}- \\frac{\\left(a - b - \\sqrt{a^{2} - 2 a b + b^{2} + 4 c^{2}}\\right) \\left|{\\frac{a}{2} + \\frac{b}{2} - \\frac{\\sqrt{a^{2} - 2 a b + b^{2} + 4 c^{2}}}{2}}\\right|}{2 \\sqrt{a^{2} - 2 a b + b^{2} + 4 c^{2}}} + \\frac{\\left(a - b + \\sqrt{a^{2} - 2 a b + b^{2} + 4 c^{2}}\\right) \\left|{\\frac{a}{2} + \\frac{b}{2} + \\frac{\\sqrt{a^{2} - 2 a b + b^{2} + 4 c^{2}}}{2}}\\right|}{2 \\sqrt{a^{2} - 2 a b + b^{2} + 4 c^{2}}} & \\frac{\\left(- a + b + \\sqrt{a^{2} - 2 a b + b^{2} + 4 c^{2}}\\right) \\left(a - b + \\sqrt{a^{2} - 2 a b + b^{2} + 4 c^{2}}\\right) \\left|{\\frac{a}{2} + \\frac{b}{2} + \\frac{\\sqrt{a^{2} - 2 a b + b^{2} + 4 c^{2}}}{2}}\\right|}{4 c \\sqrt{a^{2} - 2 a b + b^{2} + 4 c^{2}}} + \\frac{\\left(a - b - \\sqrt{a^{2} - 2 a b + b^{2} + 4 c^{2}}\\right) \\left(a - b + \\sqrt{a^{2} - 2 a b + b^{2} + 4 c^{2}}\\right) \\left|{\\frac{a}{2} + \\frac{b}{2} - \\frac{\\sqrt{a^{2} - 2 a b + b^{2} + 4 c^{2}}}{2}}\\right|}{4 c \\sqrt{a^{2} - 2 a b + b^{2} + 4 c^{2}}}\\\\- \\frac{c \\left|{\\frac{a}{2} + \\frac{b}{2} - \\frac{\\sqrt{a^{2} - 2 a b + b^{2} + 4 c^{2}}}{2}}\\right|}{\\sqrt{a^{2} - 2 a b + b^{2} + 4 c^{2}}} + \\frac{c \\left|{\\frac{a}{2} + \\frac{b}{2} + \\frac{\\sqrt{a^{2} - 2 a b + b^{2} + 4 c^{2}}}{2}}\\right|}{\\sqrt{a^{2} - 2 a b + b^{2} + 4 c^{2}}} & \\frac{\\left(- a + b + \\sqrt{a^{2} - 2 a b + b^{2} + 4 c^{2}}\\right) \\left|{\\frac{a}{2} + \\frac{b}{2} + \\frac{\\sqrt{a^{2} - 2 a b + b^{2} + 4 c^{2}}}{2}}\\right|}{2 \\sqrt{a^{2} - 2 a b + b^{2} + 4 c^{2}}} + \\frac{\\left(a - b + \\sqrt{a^{2} - 2 a b + b^{2} + 4 c^{2}}\\right) \\left|{\\frac{a}{2} + \\frac{b}{2} - \\frac{\\sqrt{a^{2} - 2 a b + b^{2} + 4 c^{2}}}{2}}\\right|}{2 \\sqrt{a^{2} - 2 a b + b^{2} + 4 c^{2}}}\\end{matrix}\\right]$"
          },
          "metadata": {},
          "execution_count": 11
        }
      ]
    },
    {
      "cell_type": "markdown",
      "source": [
        "# Numerical Work"
      ],
      "metadata": {
        "id": "956Wh_ttX4k5"
      }
    },
    {
      "cell_type": "code",
      "source": [
        "A = np.array([[1, 2], [2, 4]])\n",
        "\n",
        "A"
      ],
      "metadata": {
        "colab": {
          "base_uri": "https://localhost:8080/"
        },
        "id": "EXmm3pnMX4bh",
        "outputId": "e6a2925e-c826-459c-98b6-221e763ed9d0"
      },
      "execution_count": null,
      "outputs": [
        {
          "output_type": "execute_result",
          "data": {
            "text/plain": [
              "array([[1, 2],\n",
              "       [2, 4]])"
            ]
          },
          "metadata": {},
          "execution_count": 12
        }
      ]
    },
    {
      "cell_type": "code",
      "source": [
        "# find its eigenvalues and eigenvectors\n",
        "\n",
        "eigvals, eigvects = np.linalg.eig(A)\n",
        "\n",
        "eigvects"
      ],
      "metadata": {
        "colab": {
          "base_uri": "https://localhost:8080/"
        },
        "id": "iTG0s4F0Xd30",
        "outputId": "a0bc55df-aacb-4bad-884a-ec9418fdf08d"
      },
      "execution_count": null,
      "outputs": [
        {
          "output_type": "execute_result",
          "data": {
            "text/plain": [
              "array([[-0.89442719, -0.4472136 ],\n",
              "       [ 0.4472136 , -0.89442719]])"
            ]
          },
          "metadata": {},
          "execution_count": 15
        }
      ]
    },
    {
      "cell_type": "code",
      "source": [
        "# create the parts of the diagonalization of A\n",
        "\n",
        "Q = eigvects\n",
        "Q_inv = np.linalg.inv(Q)\n",
        "\n",
        "D = np.diag(eigvals)\n",
        "\n",
        "print(Q)\n",
        "print()\n",
        "print(Q_inv)\n",
        "print()\n",
        "print(D)"
      ],
      "metadata": {
        "colab": {
          "base_uri": "https://localhost:8080/"
        },
        "id": "vts4d-l0Ywv-",
        "outputId": "afae6f5d-a5bd-4da0-d00f-67d03a9a706c"
      },
      "execution_count": null,
      "outputs": [
        {
          "output_type": "stream",
          "name": "stdout",
          "text": [
            "[[-0.89442719 -0.4472136 ]\n",
            " [ 0.4472136  -0.89442719]]\n",
            "\n",
            "[[-0.89442719  0.4472136 ]\n",
            " [-0.4472136  -0.89442719]]\n",
            "\n",
            "[[0. 0.]\n",
            " [0. 5.]]\n"
          ]
        }
      ]
    },
    {
      "cell_type": "code",
      "source": [
        "# check the diagonalization\n",
        "\n",
        "A_approx = Q @ D @ Q_inv\n",
        "\n",
        "A_approx"
      ],
      "metadata": {
        "colab": {
          "base_uri": "https://localhost:8080/"
        },
        "id": "XPm8mXIuZN_y",
        "outputId": "699acebb-8767-48f1-a610-0e60f454e334"
      },
      "execution_count": null,
      "outputs": [
        {
          "output_type": "execute_result",
          "data": {
            "text/plain": [
              "array([[1., 2.],\n",
              "       [2., 4.]])"
            ]
          },
          "metadata": {},
          "execution_count": 21
        }
      ]
    },
    {
      "cell_type": "code",
      "source": [
        "# compute the absolute value of A\n",
        "\n",
        "abs_D = np.abs(D)\n",
        "\n",
        "A_abs = Q @ abs_D @ Q_inv\n",
        "\n",
        "A_abs"
      ],
      "metadata": {
        "colab": {
          "base_uri": "https://localhost:8080/"
        },
        "id": "RWz1lcfIZd56",
        "outputId": "5c624537-1778-45b5-9ab7-5d2c3b71c7bf"
      },
      "execution_count": null,
      "outputs": [
        {
          "output_type": "execute_result",
          "data": {
            "text/plain": [
              "array([[1., 2.],\n",
              "       [2., 4.]])"
            ]
          },
          "metadata": {},
          "execution_count": 23
        }
      ]
    },
    {
      "cell_type": "code",
      "source": [
        "# let's check my formulas\n",
        "\n",
        "a = 1\n",
        "b = 4\n",
        "c = 2\n",
        "\n",
        "\n",
        "\n",
        "# eigenvalues\n",
        "\n",
        "L1 = ( (a+b) - np.sqrt( (a-b)**2 + 4*c**2 )) / 2\n",
        "L2 = ( (a+b) + np.sqrt( (a-b)**2 + 4*c**2 )) / 2\n",
        "\n",
        "\n",
        "\n",
        "\n",
        "# eigenvectors (normalized)\n",
        "\n",
        "sc1 = 1 / (np.sqrt( c**2 + (L1 - a)**2 ))\n",
        "vect1 = np.array([c, L1 - a])\n",
        "v1 = sc1 * vect1\n",
        "\n",
        "sc2 = 1 / (np.sqrt( c**2 + (L2 - a)**2 ))\n",
        "vect2 = np.array([c, L2 - a])\n",
        "v2 = sc2 * vect2\n",
        "\n",
        "\n",
        "\n",
        "print('Eigenvalues and their Eigenvectors')\n",
        "print()\n",
        "print(\"λ1 =\", L1, \"with eigenvector : \", v1)\n",
        "print()\n",
        "print(\"λ2 =\", L2, \"with eigenvector : \", v2)\n"
      ],
      "metadata": {
        "colab": {
          "base_uri": "https://localhost:8080/"
        },
        "id": "I-6N4fVrZi4I",
        "outputId": "cbfb5986-dac1-4371-de52-74726aeeee11"
      },
      "execution_count": null,
      "outputs": [
        {
          "output_type": "stream",
          "name": "stdout",
          "text": [
            "Eigenvalues and their Eigenvectors\n",
            "\n",
            "λ1 = 0.0 with eigenvector :  [ 0.89442719 -0.4472136 ]\n",
            "\n",
            "λ2 = 5.0 with eigenvector :  [0.4472136  0.89442719]\n"
          ]
        }
      ]
    },
    {
      "cell_type": "code",
      "source": [],
      "metadata": {
        "id": "EodUzxoOZ9e3"
      },
      "execution_count": null,
      "outputs": []
    }
  ]
}