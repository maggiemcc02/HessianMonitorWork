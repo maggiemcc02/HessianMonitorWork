{
  "nbformat": 4,
  "nbformat_minor": 0,
  "metadata": {
    "colab": {
      "provenance": [],
      "toc_visible": true,
      "include_colab_link": true
    },
    "kernelspec": {
      "name": "python3",
      "display_name": "Python 3"
    },
    "language_info": {
      "name": "python"
    }
  },
  "cells": [
    {
      "cell_type": "markdown",
      "metadata": {
        "id": "view-in-github",
        "colab_type": "text"
      },
      "source": [
        "<a href=\"https://colab.research.google.com/github/maggiemcc02/HessianMonitorWork/blob/main/ExternalOperator_Examples.ipynb\" target=\"_parent\"><img src=\"https://colab.research.google.com/assets/colab-badge.svg\" alt=\"Open In Colab\"/></a>"
      ]
    },
    {
      "cell_type": "markdown",
      "source": [
        "# Introduction\n",
        "\n",
        "In this notebook I explore some simple examples where I make use of ExternalOperator in my weak forms\n",
        "\n",
        "In particular, I explore which numpy tools work with ExternalOperator without me having to convert between numpy and firedrake objects. I also explore the tools that require me to convert objects between librairies.\n",
        "\n",
        "\n",
        "Overall, I think these examples can tell me alot about how I will need to use the ExternalOperator to compute my Hessian based monitor function!"
      ],
      "metadata": {
        "id": "0GHQ44qBKOnC"
      }
    },
    {
      "cell_type": "markdown",
      "source": [
        "## Imports"
      ],
      "metadata": {
        "id": "Lc50tWshKMlc"
      }
    },
    {
      "cell_type": "code",
      "execution_count": null,
      "metadata": {
        "id": "gF-gC6bYD90D"
      },
      "outputs": [],
      "source": [
        "# install firedrake\n",
        "\n",
        "# hide output\n",
        "%%capture\n",
        "\n",
        "try:\n",
        "    import firedrake\n",
        "except ImportError:\n",
        "    !wget \"https://fem-on-colab.github.io/releases/firedrake-install-real.sh\" -O \"/tmp/firedrake-install.sh\" && bash \"/tmp/firedrake-install.sh\"\n",
        "    import firedrake"
      ]
    },
    {
      "cell_type": "code",
      "execution_count": null,
      "metadata": {
        "id": "8rqrhhMuECYs"
      },
      "outputs": [],
      "source": [
        "# Code in this cell makes plots appear an appropriate size and resolution in the browser window\n",
        "\n",
        "%config InlineBackend.figure_format = 'svg'\n",
        "\n",
        "import matplotlib.pyplot as plt\n",
        "\n",
        "plt.rcParams['figure.figsize'] = (11, 6)"
      ]
    },
    {
      "cell_type": "code",
      "execution_count": null,
      "metadata": {
        "id": "tEmo6H13EF8f"
      },
      "outputs": [],
      "source": [
        "# import firedrake tools\n",
        "from firedrake import *\n",
        "import numpy as np\n",
        "import matplotlib.pyplot as plt # firedrake makes use of matplotlib tools\n",
        "from firedrake.pyplot import tripcolor, tricontour, triplot #firedrake plotting\n",
        "from IPython.display import display\n",
        "from mpl_toolkits import mplot3d\n",
        "import scipy as sci\n"
      ]
    },
    {
      "cell_type": "code",
      "source": [
        "import mpi4py\n",
        "import mpi4py.rc\n",
        "#mpi4py.rc.threaded = False"
      ],
      "metadata": {
        "colab": {
          "base_uri": "https://localhost:8080/",
          "height": 297
        },
        "id": "t0WUOmZ3iemm",
        "outputId": "657156c2-dc36-45da-8b3f-22dac6a1662c"
      },
      "execution_count": null,
      "outputs": [
        {
          "output_type": "error",
          "ename": "TypeError",
          "evalue": "object has no attribute 'threaded'",
          "traceback": [
            "\u001b[0;31m---------------------------------------------------------------------------\u001b[0m",
            "\u001b[0;31mTypeError\u001b[0m                                 Traceback (most recent call last)",
            "\u001b[0;32m<ipython-input-6-6295bc8a0f0c>\u001b[0m in \u001b[0;36m<cell line: 3>\u001b[0;34m()\u001b[0m\n\u001b[1;32m      1\u001b[0m \u001b[0;32mimport\u001b[0m \u001b[0mmpi4py\u001b[0m\u001b[0;34m\u001b[0m\u001b[0;34m\u001b[0m\u001b[0m\n\u001b[1;32m      2\u001b[0m \u001b[0;32mimport\u001b[0m \u001b[0mmpi4py\u001b[0m\u001b[0;34m.\u001b[0m\u001b[0mrc\u001b[0m\u001b[0;34m\u001b[0m\u001b[0;34m\u001b[0m\u001b[0m\n\u001b[0;32m----> 3\u001b[0;31m \u001b[0mmpi4py\u001b[0m\u001b[0;34m.\u001b[0m\u001b[0mrc\u001b[0m\u001b[0;34m.\u001b[0m\u001b[0mthreaded\u001b[0m \u001b[0;34m=\u001b[0m \u001b[0;32mFalse\u001b[0m\u001b[0;34m\u001b[0m\u001b[0;34m\u001b[0m\u001b[0m\n\u001b[0m",
            "\u001b[0;32m/usr/local/lib/python3.10/dist-packages/mpi4py/__init__.py\u001b[0m in \u001b[0;36m__setattr__\u001b[0;34m(self, name, value)\u001b[0m\n\u001b[1;32m     66\u001b[0m         \u001b[0;34m\"\"\"Set option.\"\"\"\u001b[0m\u001b[0;34m\u001b[0m\u001b[0;34m\u001b[0m\u001b[0m\n\u001b[1;32m     67\u001b[0m         \u001b[0;32mif\u001b[0m \u001b[0;32mnot\u001b[0m \u001b[0mhasattr\u001b[0m\u001b[0;34m(\u001b[0m\u001b[0mself\u001b[0m\u001b[0;34m,\u001b[0m \u001b[0mname\u001b[0m\u001b[0;34m)\u001b[0m\u001b[0;34m:\u001b[0m\u001b[0;34m\u001b[0m\u001b[0;34m\u001b[0m\u001b[0m\n\u001b[0;32m---> 68\u001b[0;31m             \u001b[0;32mraise\u001b[0m \u001b[0mTypeError\u001b[0m\u001b[0;34m(\u001b[0m\u001b[0;34mf\"object has no attribute {name!r}\"\u001b[0m\u001b[0;34m)\u001b[0m\u001b[0;34m\u001b[0m\u001b[0;34m\u001b[0m\u001b[0m\n\u001b[0m\u001b[1;32m     69\u001b[0m         \u001b[0msuper\u001b[0m\u001b[0;34m(\u001b[0m\u001b[0;34m)\u001b[0m\u001b[0;34m.\u001b[0m\u001b[0m__setattr__\u001b[0m\u001b[0;34m(\u001b[0m\u001b[0mname\u001b[0m\u001b[0;34m,\u001b[0m \u001b[0mvalue\u001b[0m\u001b[0;34m)\u001b[0m\u001b[0;34m\u001b[0m\u001b[0;34m\u001b[0m\u001b[0m\n\u001b[1;32m     70\u001b[0m \u001b[0;34m\u001b[0m\u001b[0m\n",
            "\u001b[0;31mTypeError\u001b[0m: object has no attribute 'threaded'"
          ]
        }
      ]
    },
    {
      "cell_type": "markdown",
      "source": [
        "# Scalar Functions"
      ],
      "metadata": {
        "id": "ZJ1HTw1TFxzL"
      }
    },
    {
      "cell_type": "markdown",
      "source": [
        "## Firedrake Example"
      ],
      "metadata": {
        "id": "kS1zmvCz-hml"
      }
    },
    {
      "cell_type": "code",
      "source": [
        "# external operator check\n",
        "\n",
        "class TranslationOperator(AbstractExternalOperator):\n",
        "\n",
        "  def __init__(self, *operands, function_space, **kwargs):\n",
        "      AbstractExternalOperator.__init__(self, *operands, function_space=function_space, **kwargs)\n",
        "\n",
        "  @assemble_method(0, (0,))\n",
        "  def assemble_N(self, *args, **kwargs):\n",
        "      \"\"\"Evaluate N\"\"\"\n",
        "      print('Being Used')\n",
        "      print()\n",
        "      u, f = self.ufl_operands\n",
        "      N = assemble(u - f)\n",
        "      return N\n",
        "\n",
        "  @assemble_method((1, 0), (0, 1))\n",
        "  def assemble_Jacobian(self, *args, **kwargs):\n",
        "      \"\"\"Evaluate the Jacobian of N\"\"\"\n",
        "      dNdu = Function(self.function_space()).assign(1)\n",
        "\n",
        "      print(\"Jacobian being used\")\n",
        "      print()\n",
        "\n",
        "      # Construct the Jacobian matrix\n",
        "      integral_types = set(['cell'])\n",
        "      assembly_opts = kwargs.get('assembly_opts')\n",
        "      J = self._matrix_builder((), assembly_opts, integral_types)\n",
        "      print(type(J))\n",
        "      print()\n",
        "      with dNdu.dat.vec as vec:\n",
        "          J.petscmat.setDiagonal(vec)\n",
        "      print(type(J))\n",
        "      print()\n",
        "      return J"
      ],
      "metadata": {
        "id": "k_PLt3-g8KWm"
      },
      "execution_count": null,
      "outputs": []
    },
    {
      "cell_type": "code",
      "source": [
        "mesh = UnitSquareMesh(8, 8)\n",
        "V = FunctionSpace(mesh, \"CG\", 1)\n",
        "\n",
        "u = Function(V)\n",
        "v = TestFunction(V)\n",
        "f = Function(V).interpolate(1)\n",
        "bcs = DirichletBC(V, 0, \"on_boundary\")\n",
        "\n",
        "# This Fails - WHY?\n",
        "\n",
        "# NJ = TranslationOperator(u, f, function_space=V).assemble_Jacobian()\n",
        "# print(type(NJ))\n",
        "# print()\n",
        "\n",
        "\n",
        "N = TranslationOperator(u, f, function_space=V)\n",
        "F = (inner(grad(u), grad(v)) + inner(N, v)) * dx\n",
        "solve(F == 0, u, bcs=bcs)"
      ],
      "metadata": {
        "colab": {
          "base_uri": "https://localhost:8080/"
        },
        "id": "3iFH3Vgm8KN5",
        "outputId": "27eb6910-a113-4a20-a354-2be8b8d47fab"
      },
      "execution_count": null,
      "outputs": [
        {
          "output_type": "stream",
          "name": "stdout",
          "text": [
            "Being Used\n",
            "\n",
            "Jacobian being used\n",
            "\n",
            "<class 'firedrake.matrix.Matrix'>\n",
            "\n",
            "<class 'firedrake.matrix.Matrix'>\n",
            "\n",
            "Being Used\n",
            "\n"
          ]
        }
      ]
    },
    {
      "cell_type": "markdown",
      "source": [
        "## Use Numpy Absolute Value in the Weak Form"
      ],
      "metadata": {
        "id": "5bQmyWng-jVH"
      }
    },
    {
      "cell_type": "code",
      "source": [
        "class AbsVal(AbstractExternalOperator):\n",
        "\n",
        "  def __init__(self, *operands, function_space, **kwargs):\n",
        "      AbstractExternalOperator.__init__(self, *operands, function_space=function_space, **kwargs)\n",
        "\n",
        "  @assemble_method(0, (0,))\n",
        "  def assemble_N(self, *args, **kwargs):\n",
        "      \"\"\"Evaluate N\"\"\"\n",
        "      f = self.ufl_operands[0]\n",
        "      N = np.abs(f)\n",
        "      return N\n"
      ],
      "metadata": {
        "id": "iyL2drbv-6xI"
      },
      "execution_count": null,
      "outputs": []
    },
    {
      "cell_type": "code",
      "source": [
        "mesh = UnitSquareMesh(24, 24)\n",
        "xi, eta = SpatialCoordinate(mesh)\n",
        "V = FunctionSpace(mesh, \"CG\", 1)\n",
        "\n",
        "f = Function(V).interpolate(xi**2 - 1)\n",
        "\n",
        "# print(f.dat.data)\n",
        "# print()\n",
        "\n",
        "N = AbsVal(f, function_space =  V).assemble_N()\n",
        "print(N)\n",
        "print(\"N is of type\", type(N), \"without any conversions\")"
      ],
      "metadata": {
        "colab": {
          "base_uri": "https://localhost:8080/"
        },
        "id": "bqAXL3v5-old",
        "outputId": "54f6197f-3398-4d51-e5d8-931c14f4d85c"
      },
      "execution_count": null,
      "outputs": [
        {
          "output_type": "stream",
          "name": "stdout",
          "text": [
            "|w₂₉|\n",
            "N is of type <class 'ufl.algebra.Abs'> without any conversions\n"
          ]
        }
      ]
    },
    {
      "cell_type": "code",
      "source": [
        "u = Function(V)\n",
        "v = TestFunction(V)\n",
        "\n",
        "bcs = DirichletBC(V, 0, \"on_boundary\")\n",
        "\n",
        "F = (inner(grad(u), grad(v)) - inner(N, v)) * dx\n",
        "solve(F == 0, u, bcs=bcs)"
      ],
      "metadata": {
        "id": "jjUnfj9ZBTFe"
      },
      "execution_count": null,
      "outputs": []
    },
    {
      "cell_type": "markdown",
      "source": [
        "## Use Numpy Multiplication in the Weak Form"
      ],
      "metadata": {
        "id": "Jrt2I69NIfjV"
      }
    },
    {
      "cell_type": "code",
      "source": [
        "# multiply\n",
        "\n",
        "class MyMult(AbstractExternalOperator):\n",
        "\n",
        "  def __init__(self, *operands, function_space, **kwargs):\n",
        "      AbstractExternalOperator.__init__(self, *operands, function_space=function_space, **kwargs)\n",
        "\n",
        "  @assemble_method(0, (0,))\n",
        "  def assemble_N(self, *args, **kwargs):\n",
        "      \"\"\"Evaluate N\"\"\"\n",
        "      a, b = self.ufl_operands\n",
        "      N = np.multiply(a, b)\n",
        "      return N"
      ],
      "metadata": {
        "id": "tHCWvBDgCrye"
      },
      "execution_count": null,
      "outputs": []
    },
    {
      "cell_type": "code",
      "source": [
        "# now lets solve a problem\n",
        "\n",
        "mesh = UnitSquareMesh(24, 24)\n",
        "xi, eta = SpatialCoordinate(mesh)\n",
        "V = FunctionSpace(mesh, \"CG\", 1)\n",
        "u = Function(V)\n",
        "v = TestFunction(V)\n",
        "f = Function(V).interpolate(xi**2)\n",
        "g = Function(V).interpolate(2)\n",
        "\n",
        "bcs = DirichletBC(V, 0, \"on_boundary\")\n",
        "\n",
        "N = MyMult(g, f, function_space=V).assemble_N()\n",
        "\n",
        "print(\"N is of type\", type(N), \"without any conversions\")\n",
        "\n",
        "\n",
        "F = (inner(grad(u), grad(v)) - inner(N, v)) * dx\n",
        "solve(F == 0, u, bcs=bcs)"
      ],
      "metadata": {
        "colab": {
          "base_uri": "https://localhost:8080/"
        },
        "id": "POABBNi-EN_a",
        "outputId": "9e152cdf-b885-4285-ae20-153f7d375621"
      },
      "execution_count": null,
      "outputs": [
        {
          "output_type": "stream",
          "name": "stdout",
          "text": [
            "N is of type <class 'ufl.algebra.Product'> without any conversions\n"
          ]
        }
      ]
    },
    {
      "cell_type": "markdown",
      "source": [
        "## Use Numpy sin(x) in the Weak Form (Conversions Required!)"
      ],
      "metadata": {
        "id": "6sCdFwRZImYs"
      }
    },
    {
      "cell_type": "code",
      "source": [
        "class MySin(AbstractExternalOperator):\n",
        "\n",
        "  def __init__(self, *operands, function_space, **kwargs):\n",
        "      AbstractExternalOperator.__init__(self, *operands, function_space=function_space, **kwargs)\n",
        "\n",
        "  @assemble_method(0, (0,))\n",
        "  def assemble_N(self, *args, **kwargs):\n",
        "      \"\"\"Evaluate N\"\"\"\n",
        "      my_x = self.ufl_operands[0]\n",
        "\n",
        "\n",
        "      # N = np.sin(my_x)\n",
        "      # above fails because of a\n",
        "      # TypeError: loop of ufunc does not support argument 0 of type Function which has no callable sin method\n",
        "\n",
        "      N = np.sin(my_x.dat.data) # apparently I need to convert to numpy array !?\n",
        "\n",
        "      return N"
      ],
      "metadata": {
        "id": "OerQn3z6ImKH"
      },
      "execution_count": null,
      "outputs": []
    },
    {
      "cell_type": "code",
      "source": [
        "# now lets solve a problem\n",
        "\n",
        "mesh = UnitSquareMesh(24, 24)\n",
        "xi, eta = SpatialCoordinate(mesh)\n",
        "V = FunctionSpace(mesh, \"CG\", 1)\n",
        "u = Function(V)\n",
        "v = TestFunction(V)\n",
        "my_x = Function(V).interpolate(xi**2)\n",
        "\n",
        "bcs = DirichletBC(V, 0, \"on_boundary\")\n",
        "\n",
        "\n",
        "N = MySin(my_x, function_space=V).assemble_N()\n",
        "\n",
        "print(\"N is resturned as a \", type(N), 'so I need to convert it to ufl')\n",
        "\n",
        "\n",
        "N_new = Function(V)\n",
        "N_new.dat.data[:] = N[:]\n",
        "\n",
        "\n",
        "F = (inner(grad(u), grad(v)) - inner(N_new, v)) * dx\n",
        "solve(F == 0, u, bcs=bcs)"
      ],
      "metadata": {
        "colab": {
          "base_uri": "https://localhost:8080/"
        },
        "id": "WhVkfsT4I2dA",
        "outputId": "b4a291c9-368c-4ca0-cddf-f5b264606c07"
      },
      "execution_count": null,
      "outputs": [
        {
          "output_type": "stream",
          "name": "stdout",
          "text": [
            "N is resturned as a  <class 'numpy.ndarray'> so I need to convert it to ufl\n"
          ]
        }
      ]
    },
    {
      "cell_type": "markdown",
      "source": [
        "## Use Numpy exp(x) in the Weak Form (Conversions Required!)"
      ],
      "metadata": {
        "id": "yJJFuz3iEhsz"
      }
    },
    {
      "cell_type": "code",
      "source": [
        "class MyExp(AbstractExternalOperator):\n",
        "\n",
        "  def __init__(self, *operands, function_space, **kwargs):\n",
        "      AbstractExternalOperator.__init__(self, *operands, function_space=function_space, **kwargs)\n",
        "\n",
        "  @assemble_method(0, (0,))\n",
        "  def assemble_N(self, *args, **kwargs):\n",
        "      \"\"\"Evaluate N\"\"\"\n",
        "      my_x = self.ufl_operands[0]\n",
        "\n",
        "\n",
        "      # N = np.exp(my_x)\n",
        "      # above fails because of a\n",
        "      # TypeError: loop of ufunc does not support argument 0 of type Function which has no callable exp method\n",
        "\n",
        "      N = np.exp(my_x.dat.data) # apparently I need to convert to numpy array !?\n",
        "\n",
        "      return N"
      ],
      "metadata": {
        "id": "XXRVJJwQEhs0"
      },
      "execution_count": null,
      "outputs": []
    },
    {
      "cell_type": "code",
      "source": [
        "# now lets solve a problem\n",
        "\n",
        "mesh = UnitSquareMesh(24, 24)\n",
        "xi, eta = SpatialCoordinate(mesh)\n",
        "V = FunctionSpace(mesh, \"CG\", 1)\n",
        "u = Function(V)\n",
        "v = TestFunction(V)\n",
        "my_x = Function(V).interpolate(xi**2)\n",
        "\n",
        "bcs = DirichletBC(V, 0, \"on_boundary\")\n",
        "\n",
        "\n",
        "N = MyExp(my_x, function_space=V).assemble_N()\n",
        "\n",
        "print(\"N is resturned as a \", type(N), 'so I need to convert it to ufl')\n",
        "\n",
        "\n",
        "N_new = Function(V)\n",
        "N_new.dat.data[:] = N[:]\n",
        "\n",
        "\n",
        "F = (inner(grad(u), grad(v)) - inner(N_new, v)) * dx\n",
        "solve(F == 0, u, bcs=bcs)"
      ],
      "metadata": {
        "colab": {
          "base_uri": "https://localhost:8080/"
        },
        "outputId": "5b2bb0b2-9df2-43c2-8f11-62242af20a0c",
        "id": "ulSBKE6GEhs0"
      },
      "execution_count": null,
      "outputs": [
        {
          "output_type": "stream",
          "name": "stdout",
          "text": [
            "N is resturned as a  <class 'numpy.ndarray'> so I need to convert it to ufl\n"
          ]
        }
      ]
    },
    {
      "cell_type": "markdown",
      "source": [
        "# Vectors"
      ],
      "metadata": {
        "id": "e8YHepuk_duL"
      }
    },
    {
      "cell_type": "markdown",
      "source": [
        "## Use Numpy Absolute Value in Weak Form"
      ],
      "metadata": {
        "id": "8OMTRBS9HcHf"
      }
    },
    {
      "cell_type": "code",
      "source": [
        "class MyAbsVect(AbstractExternalOperator):\n",
        "\n",
        "  def __init__(self, *operands, function_space, **kwargs):\n",
        "      AbstractExternalOperator.__init__(self, *operands, function_space=function_space, **kwargs)\n",
        "\n",
        "  @assemble_method(0, (0,))\n",
        "  def assemble_N(self, *args, **kwargs):\n",
        "      \"\"\"Evaluate N\"\"\"\n",
        "      a = self.ufl_operands[0]\n",
        "      N = np.abs(a)\n",
        "      return N"
      ],
      "metadata": {
        "id": "_1elHw_X4AYF"
      },
      "execution_count": null,
      "outputs": []
    },
    {
      "cell_type": "code",
      "source": [
        "V = VectorFunctionSpace(mesh, \"CG\", 1)\n",
        "\n",
        "f = Function(V).interpolate(as_vector( [xi**2 - 1, eta**2 - 1] ))\n",
        "\n",
        "N = MyAbsVect(f, function_space =  V).assemble_N()\n",
        "\n",
        "print(\"N is\")\n",
        "print(N)\n",
        "print()\n",
        "print(\"N is resturned as a \", type(N), 'so I need to convert it to ufl')\n",
        "print()\n",
        "\n",
        "\n",
        "Nnew = as_vector([N[0], N[1]]) # is this the best appraoch?\n"
      ],
      "metadata": {
        "colab": {
          "base_uri": "https://localhost:8080/"
        },
        "id": "AQfFIcfI_LW_",
        "outputId": "8b8e7d93-43bc-4403-cf01-0423bc48740b"
      },
      "execution_count": null,
      "outputs": [
        {
          "output_type": "stream",
          "name": "stdout",
          "text": [
            "N is\n",
            "[Abs(Indexed(Coefficient(WithGeometry(FunctionSpace(<firedrake.mesh.MeshTopology object at 0x7dcebc17eb60>, VectorElement(FiniteElement('Lagrange', triangle, 1), dim=2), name=None), Mesh(VectorElement(FiniteElement('Lagrange', triangle, 1), dim=2), 40)), 100), MultiIndex((FixedIndex(0),))))\n",
            " Abs(Indexed(Coefficient(WithGeometry(FunctionSpace(<firedrake.mesh.MeshTopology object at 0x7dcebc17eb60>, VectorElement(FiniteElement('Lagrange', triangle, 1), dim=2), name=None), Mesh(VectorElement(FiniteElement('Lagrange', triangle, 1), dim=2), 40)), 100), MultiIndex((FixedIndex(1),))))]\n",
            "\n",
            "N is resturned as a  <class 'numpy.ndarray'> so I need to convert it to ufl\n",
            "\n"
          ]
        }
      ]
    },
    {
      "cell_type": "code",
      "source": [
        "u = Function(V)\n",
        "v = TestFunction(V)\n",
        "f = Function(V).interpolate(as_vector([xi**2, 1]))\n",
        "g = Function(V).interpolate(as_vector([2, 1]))\n",
        "\n",
        "bcs = DirichletBC(V, 0, \"on_boundary\")\n",
        "\n",
        "\n",
        "F = (inner(grad(u), grad(v)) - inner(Nnew, v)) * dx\n",
        "\n",
        "solve(F == 0, u, bcs=bcs)"
      ],
      "metadata": {
        "id": "Q6iGW17-MSA9",
        "colab": {
          "base_uri": "https://localhost:8080/",
          "height": 946
        },
        "outputId": "fb6ef1e7-a3d9-48f3-e1dd-2e107d6af3cc"
      },
      "execution_count": null,
      "outputs": [
        {
          "output_type": "error",
          "ename": "KeyboardInterrupt",
          "evalue": "",
          "traceback": [
            "\u001b[0;31m---------------------------------------------------------------------------\u001b[0m",
            "\u001b[0;31mKeyError\u001b[0m                                  Traceback (most recent call last)",
            "\u001b[0;32m/usr/local/lib/python3.10/dist-packages/pyop2/global_kernel.py\u001b[0m in \u001b[0;36m__call__\u001b[0;34m(self, comm, *args)\u001b[0m\n\u001b[1;32m    348\u001b[0m         \u001b[0;32mtry\u001b[0m\u001b[0;34m:\u001b[0m\u001b[0;34m\u001b[0m\u001b[0;34m\u001b[0m\u001b[0m\n\u001b[0;32m--> 349\u001b[0;31m             \u001b[0mfunc\u001b[0m \u001b[0;34m=\u001b[0m \u001b[0mself\u001b[0m\u001b[0;34m.\u001b[0m\u001b[0m_func_cache\u001b[0m\u001b[0;34m[\u001b[0m\u001b[0mkey\u001b[0m\u001b[0;34m]\u001b[0m\u001b[0;34m\u001b[0m\u001b[0;34m\u001b[0m\u001b[0m\n\u001b[0m\u001b[1;32m    350\u001b[0m         \u001b[0;32mexcept\u001b[0m \u001b[0mKeyError\u001b[0m\u001b[0;34m:\u001b[0m\u001b[0;34m\u001b[0m\u001b[0;34m\u001b[0m\u001b[0m\n",
            "\u001b[0;31mKeyError\u001b[0m: 138327080709952",
            "\nDuring handling of the above exception, another exception occurred:\n",
            "\u001b[0;31mOSError\u001b[0m                                   Traceback (most recent call last)",
            "\u001b[0;32m/usr/local/lib/python3.10/dist-packages/pyop2/compilation.py\u001b[0m in \u001b[0;36mget_so\u001b[0;34m(self, jitmodule, extension)\u001b[0m\n\u001b[1;32m    341\u001b[0m             \u001b[0;31m# Are we in the cache?\u001b[0m\u001b[0;34m\u001b[0m\u001b[0;34m\u001b[0m\u001b[0m\n\u001b[0;32m--> 342\u001b[0;31m             \u001b[0;32mreturn\u001b[0m \u001b[0mctypes\u001b[0m\u001b[0;34m.\u001b[0m\u001b[0mCDLL\u001b[0m\u001b[0;34m(\u001b[0m\u001b[0msoname\u001b[0m\u001b[0;34m)\u001b[0m\u001b[0;34m\u001b[0m\u001b[0;34m\u001b[0m\u001b[0m\n\u001b[0m\u001b[1;32m    343\u001b[0m         \u001b[0;32mexcept\u001b[0m \u001b[0mOSError\u001b[0m\u001b[0;34m:\u001b[0m\u001b[0;34m\u001b[0m\u001b[0;34m\u001b[0m\u001b[0m\n",
            "\u001b[0;32m/usr/lib/python3.10/ctypes/__init__.py\u001b[0m in \u001b[0;36m__init__\u001b[0;34m(self, name, mode, handle, use_errno, use_last_error, winmode)\u001b[0m\n\u001b[1;32m    373\u001b[0m         \u001b[0;32mif\u001b[0m \u001b[0mhandle\u001b[0m \u001b[0;32mis\u001b[0m \u001b[0;32mNone\u001b[0m\u001b[0;34m:\u001b[0m\u001b[0;34m\u001b[0m\u001b[0;34m\u001b[0m\u001b[0m\n\u001b[0;32m--> 374\u001b[0;31m             \u001b[0mself\u001b[0m\u001b[0;34m.\u001b[0m\u001b[0m_handle\u001b[0m \u001b[0;34m=\u001b[0m \u001b[0m_dlopen\u001b[0m\u001b[0;34m(\u001b[0m\u001b[0mself\u001b[0m\u001b[0;34m.\u001b[0m\u001b[0m_name\u001b[0m\u001b[0;34m,\u001b[0m \u001b[0mmode\u001b[0m\u001b[0;34m)\u001b[0m\u001b[0;34m\u001b[0m\u001b[0;34m\u001b[0m\u001b[0m\n\u001b[0m\u001b[1;32m    375\u001b[0m         \u001b[0;32melse\u001b[0m\u001b[0;34m:\u001b[0m\u001b[0;34m\u001b[0m\u001b[0;34m\u001b[0m\u001b[0m\n",
            "\u001b[0;31mOSError\u001b[0m: /root/.cache/firedrake/pyop2/f7/3fdbbbd6421be36da12f3e6b9f8499.so: cannot open shared object file: No such file or directory",
            "\nDuring handling of the above exception, another exception occurred:\n",
            "\u001b[0;31mKeyboardInterrupt\u001b[0m                         Traceback (most recent call last)",
            "\u001b[0;32m<ipython-input-18-40ee0b421681>\u001b[0m in \u001b[0;36m<cell line: 11>\u001b[0;34m()\u001b[0m\n\u001b[1;32m      9\u001b[0m \u001b[0mF\u001b[0m \u001b[0;34m=\u001b[0m \u001b[0;34m(\u001b[0m\u001b[0minner\u001b[0m\u001b[0;34m(\u001b[0m\u001b[0mgrad\u001b[0m\u001b[0;34m(\u001b[0m\u001b[0mu\u001b[0m\u001b[0;34m)\u001b[0m\u001b[0;34m,\u001b[0m \u001b[0mgrad\u001b[0m\u001b[0;34m(\u001b[0m\u001b[0mv\u001b[0m\u001b[0;34m)\u001b[0m\u001b[0;34m)\u001b[0m \u001b[0;34m-\u001b[0m \u001b[0minner\u001b[0m\u001b[0;34m(\u001b[0m\u001b[0mNnew\u001b[0m\u001b[0;34m,\u001b[0m \u001b[0mv\u001b[0m\u001b[0;34m)\u001b[0m\u001b[0;34m)\u001b[0m \u001b[0;34m*\u001b[0m \u001b[0mdx\u001b[0m\u001b[0;34m\u001b[0m\u001b[0;34m\u001b[0m\u001b[0m\n\u001b[1;32m     10\u001b[0m \u001b[0;34m\u001b[0m\u001b[0m\n\u001b[0;32m---> 11\u001b[0;31m \u001b[0msolve\u001b[0m\u001b[0;34m(\u001b[0m\u001b[0mF\u001b[0m \u001b[0;34m==\u001b[0m \u001b[0;36m0\u001b[0m\u001b[0;34m,\u001b[0m \u001b[0mu\u001b[0m\u001b[0;34m,\u001b[0m \u001b[0mbcs\u001b[0m\u001b[0;34m=\u001b[0m\u001b[0mbcs\u001b[0m\u001b[0;34m)\u001b[0m\u001b[0;34m\u001b[0m\u001b[0;34m\u001b[0m\u001b[0m\n\u001b[0m",
            "\u001b[0;32mpetsc4py/PETSc/Log.pyx\u001b[0m in \u001b[0;36mpetsc4py.PETSc.Log.EventDecorator.decorator.wrapped_func\u001b[0;34m()\u001b[0m\n",
            "\u001b[0;32mpetsc4py/PETSc/Log.pyx\u001b[0m in \u001b[0;36mpetsc4py.PETSc.Log.EventDecorator.decorator.wrapped_func\u001b[0;34m()\u001b[0m\n",
            "\u001b[0;32m/usr/local/lib/python3.10/dist-packages/firedrake/adjoint_utils/solving.py\u001b[0m in \u001b[0;36mwrapper\u001b[0;34m(*args, **kwargs)\u001b[0m\n\u001b[1;32m     55\u001b[0m \u001b[0;34m\u001b[0m\u001b[0m\n\u001b[1;32m     56\u001b[0m         \u001b[0;32mwith\u001b[0m \u001b[0mstop_annotating\u001b[0m\u001b[0;34m(\u001b[0m\u001b[0;34m)\u001b[0m\u001b[0;34m:\u001b[0m\u001b[0;34m\u001b[0m\u001b[0;34m\u001b[0m\u001b[0m\n\u001b[0;32m---> 57\u001b[0;31m             \u001b[0moutput\u001b[0m \u001b[0;34m=\u001b[0m \u001b[0msolve\u001b[0m\u001b[0;34m(\u001b[0m\u001b[0;34m*\u001b[0m\u001b[0margs\u001b[0m\u001b[0;34m,\u001b[0m \u001b[0;34m**\u001b[0m\u001b[0mkwargs\u001b[0m\u001b[0;34m)\u001b[0m\u001b[0;34m\u001b[0m\u001b[0;34m\u001b[0m\u001b[0m\n\u001b[0m\u001b[1;32m     58\u001b[0m \u001b[0;34m\u001b[0m\u001b[0m\n\u001b[1;32m     59\u001b[0m         \u001b[0;32mif\u001b[0m \u001b[0mannotate\u001b[0m\u001b[0;34m:\u001b[0m\u001b[0;34m\u001b[0m\u001b[0;34m\u001b[0m\u001b[0m\n",
            "\u001b[0;32m/usr/local/lib/python3.10/dist-packages/firedrake/solving.py\u001b[0m in \u001b[0;36msolve\u001b[0;34m(*args, **kwargs)\u001b[0m\n\u001b[1;32m    138\u001b[0m     \u001b[0;31m# Call variational problem solver if we get an equation\u001b[0m\u001b[0;34m\u001b[0m\u001b[0;34m\u001b[0m\u001b[0m\n\u001b[1;32m    139\u001b[0m     \u001b[0;32mif\u001b[0m \u001b[0misinstance\u001b[0m\u001b[0;34m(\u001b[0m\u001b[0margs\u001b[0m\u001b[0;34m[\u001b[0m\u001b[0;36m0\u001b[0m\u001b[0;34m]\u001b[0m\u001b[0;34m,\u001b[0m \u001b[0mufl\u001b[0m\u001b[0;34m.\u001b[0m\u001b[0mclasses\u001b[0m\u001b[0;34m.\u001b[0m\u001b[0mEquation\u001b[0m\u001b[0;34m)\u001b[0m\u001b[0;34m:\u001b[0m\u001b[0;34m\u001b[0m\u001b[0;34m\u001b[0m\u001b[0m\n\u001b[0;32m--> 140\u001b[0;31m         \u001b[0m_solve_varproblem\u001b[0m\u001b[0;34m(\u001b[0m\u001b[0;34m*\u001b[0m\u001b[0margs\u001b[0m\u001b[0;34m,\u001b[0m \u001b[0;34m**\u001b[0m\u001b[0mkwargs\u001b[0m\u001b[0;34m)\u001b[0m\u001b[0;34m\u001b[0m\u001b[0;34m\u001b[0m\u001b[0m\n\u001b[0m\u001b[1;32m    141\u001b[0m     \u001b[0;32melse\u001b[0m\u001b[0;34m:\u001b[0m\u001b[0;34m\u001b[0m\u001b[0;34m\u001b[0m\u001b[0m\n\u001b[1;32m    142\u001b[0m         \u001b[0;31m# Solve pre-assembled system\u001b[0m\u001b[0;34m\u001b[0m\u001b[0;34m\u001b[0m\u001b[0m\n",
            "\u001b[0;32m/usr/local/lib/python3.10/dist-packages/firedrake/solving.py\u001b[0m in \u001b[0;36m_solve_varproblem\u001b[0;34m(*args, **kwargs)\u001b[0m\n\u001b[1;32m    192\u001b[0m                                                \u001b[0moptions_prefix\u001b[0m\u001b[0;34m=\u001b[0m\u001b[0moptions_prefix\u001b[0m\u001b[0;34m,\u001b[0m\u001b[0;34m\u001b[0m\u001b[0;34m\u001b[0m\u001b[0m\n\u001b[1;32m    193\u001b[0m                                                appctx=appctx)\n\u001b[0;32m--> 194\u001b[0;31m         \u001b[0msolver\u001b[0m\u001b[0;34m.\u001b[0m\u001b[0msolve\u001b[0m\u001b[0;34m(\u001b[0m\u001b[0;34m)\u001b[0m\u001b[0;34m\u001b[0m\u001b[0;34m\u001b[0m\u001b[0m\n\u001b[0m\u001b[1;32m    195\u001b[0m \u001b[0;34m\u001b[0m\u001b[0m\n\u001b[1;32m    196\u001b[0m \u001b[0;34m\u001b[0m\u001b[0m\n",
            "\u001b[0;32mpetsc4py/PETSc/Log.pyx\u001b[0m in \u001b[0;36mpetsc4py.PETSc.Log.EventDecorator.decorator.wrapped_func\u001b[0;34m()\u001b[0m\n",
            "\u001b[0;32mpetsc4py/PETSc/Log.pyx\u001b[0m in \u001b[0;36mpetsc4py.PETSc.Log.EventDecorator.decorator.wrapped_func\u001b[0;34m()\u001b[0m\n",
            "\u001b[0;32m/usr/local/lib/python3.10/dist-packages/firedrake/adjoint_utils/variational_solver.py\u001b[0m in \u001b[0;36mwrapper\u001b[0;34m(self, **kwargs)\u001b[0m\n\u001b[1;32m     87\u001b[0m \u001b[0;34m\u001b[0m\u001b[0m\n\u001b[1;32m     88\u001b[0m             \u001b[0;32mwith\u001b[0m \u001b[0mstop_annotating\u001b[0m\u001b[0;34m(\u001b[0m\u001b[0;34m)\u001b[0m\u001b[0;34m:\u001b[0m\u001b[0;34m\u001b[0m\u001b[0;34m\u001b[0m\u001b[0m\n\u001b[0;32m---> 89\u001b[0;31m                 \u001b[0mout\u001b[0m \u001b[0;34m=\u001b[0m \u001b[0msolve\u001b[0m\u001b[0;34m(\u001b[0m\u001b[0mself\u001b[0m\u001b[0;34m,\u001b[0m \u001b[0;34m**\u001b[0m\u001b[0mkwargs\u001b[0m\u001b[0;34m)\u001b[0m\u001b[0;34m\u001b[0m\u001b[0;34m\u001b[0m\u001b[0m\n\u001b[0m\u001b[1;32m     90\u001b[0m \u001b[0;34m\u001b[0m\u001b[0m\n\u001b[1;32m     91\u001b[0m             \u001b[0;32mif\u001b[0m \u001b[0mannotate\u001b[0m\u001b[0;34m:\u001b[0m\u001b[0;34m\u001b[0m\u001b[0;34m\u001b[0m\u001b[0m\n",
            "\u001b[0;32m/usr/local/lib/python3.10/dist-packages/firedrake/variational_solver.py\u001b[0m in \u001b[0;36msolve\u001b[0;34m(self, bounds)\u001b[0m\n\u001b[1;32m    322\u001b[0m                                  self._transfer_operators):\n\u001b[1;32m    323\u001b[0m                     \u001b[0mstack\u001b[0m\u001b[0;34m.\u001b[0m\u001b[0menter_context\u001b[0m\u001b[0;34m(\u001b[0m\u001b[0mctx\u001b[0m\u001b[0;34m)\u001b[0m\u001b[0;34m\u001b[0m\u001b[0;34m\u001b[0m\u001b[0m\n\u001b[0;32m--> 324\u001b[0;31m                 \u001b[0mself\u001b[0m\u001b[0;34m.\u001b[0m\u001b[0msnes\u001b[0m\u001b[0;34m.\u001b[0m\u001b[0msolve\u001b[0m\u001b[0;34m(\u001b[0m\u001b[0;32mNone\u001b[0m\u001b[0;34m,\u001b[0m \u001b[0mwork\u001b[0m\u001b[0;34m)\u001b[0m\u001b[0;34m\u001b[0m\u001b[0;34m\u001b[0m\u001b[0m\n\u001b[0m\u001b[1;32m    325\u001b[0m             \u001b[0mwork\u001b[0m\u001b[0;34m.\u001b[0m\u001b[0mcopy\u001b[0m\u001b[0;34m(\u001b[0m\u001b[0mu\u001b[0m\u001b[0;34m)\u001b[0m\u001b[0;34m\u001b[0m\u001b[0;34m\u001b[0m\u001b[0m\n\u001b[1;32m    326\u001b[0m         \u001b[0mself\u001b[0m\u001b[0;34m.\u001b[0m\u001b[0m_setup\u001b[0m \u001b[0;34m=\u001b[0m \u001b[0;32mTrue\u001b[0m\u001b[0;34m\u001b[0m\u001b[0;34m\u001b[0m\u001b[0m\n",
            "\u001b[0;32mpetsc4py/PETSc/SNES.pyx\u001b[0m in \u001b[0;36mpetsc4py.PETSc.SNES.solve\u001b[0;34m()\u001b[0m\n",
            "\u001b[0;32mpetsc4py/PETSc/PETSc.pyx\u001b[0m in \u001b[0;36mpetsc4py.PETSc.PetscPythonErrorHandler\u001b[0;34m()\u001b[0m\n",
            "\u001b[0;32mpetsc4py/PETSc/PETSc.pyx\u001b[0m in \u001b[0;36mpetsc4py.PETSc.PetscPythonErrorHandler\u001b[0;34m()\u001b[0m\n",
            "\u001b[0;32mpetsc4py/PETSc/PETSc.pyx\u001b[0m in \u001b[0;36mpetsc4py.PETSc.PetscPythonErrorHandler\u001b[0;34m()\u001b[0m\n",
            "\u001b[0;32mpetsc4py/PETSc/petscsnes.pxi\u001b[0m in \u001b[0;36mpetsc4py.PETSc.SNES_Function\u001b[0;34m()\u001b[0m\n",
            "\u001b[0;32m/usr/local/lib/python3.10/dist-packages/firedrake/solving_utils.py\u001b[0m in \u001b[0;36mform_function\u001b[0;34m(snes, X, F)\u001b[0m\n\u001b[1;32m    399\u001b[0m             \u001b[0mctx\u001b[0m\u001b[0;34m.\u001b[0m\u001b[0m_pre_function_callback\u001b[0m\u001b[0;34m(\u001b[0m\u001b[0mX\u001b[0m\u001b[0;34m)\u001b[0m\u001b[0;34m\u001b[0m\u001b[0;34m\u001b[0m\u001b[0m\n\u001b[1;32m    400\u001b[0m \u001b[0;34m\u001b[0m\u001b[0m\n\u001b[0;32m--> 401\u001b[0;31m         \u001b[0mctx\u001b[0m\u001b[0;34m.\u001b[0m\u001b[0m_assemble_residual\u001b[0m\u001b[0;34m(\u001b[0m\u001b[0mtensor\u001b[0m\u001b[0;34m=\u001b[0m\u001b[0mctx\u001b[0m\u001b[0;34m.\u001b[0m\u001b[0m_F\u001b[0m\u001b[0;34m)\u001b[0m\u001b[0;34m\u001b[0m\u001b[0;34m\u001b[0m\u001b[0m\n\u001b[0m\u001b[1;32m    402\u001b[0m \u001b[0;34m\u001b[0m\u001b[0m\n\u001b[1;32m    403\u001b[0m         \u001b[0;32mif\u001b[0m \u001b[0mctx\u001b[0m\u001b[0;34m.\u001b[0m\u001b[0m_post_function_callback\u001b[0m \u001b[0;32mis\u001b[0m \u001b[0;32mnot\u001b[0m \u001b[0;32mNone\u001b[0m\u001b[0;34m:\u001b[0m\u001b[0;34m\u001b[0m\u001b[0;34m\u001b[0m\u001b[0m\n",
            "\u001b[0;32m/usr/local/lib/python3.10/dist-packages/firedrake/assemble.py\u001b[0m in \u001b[0;36massemble\u001b[0;34m(self, tensor)\u001b[0m\n\u001b[1;32m    979\u001b[0m         \u001b[0;32mif\u001b[0m \u001b[0mneeds_zeroing\u001b[0m\u001b[0;34m:\u001b[0m\u001b[0;34m\u001b[0m\u001b[0;34m\u001b[0m\u001b[0m\n\u001b[1;32m    980\u001b[0m             \u001b[0mtype\u001b[0m\u001b[0;34m(\u001b[0m\u001b[0mself\u001b[0m\u001b[0;34m)\u001b[0m\u001b[0;34m.\u001b[0m\u001b[0m_as_pyop2_type\u001b[0m\u001b[0;34m(\u001b[0m\u001b[0mtensor\u001b[0m\u001b[0;34m)\u001b[0m\u001b[0;34m.\u001b[0m\u001b[0mzero\u001b[0m\u001b[0;34m(\u001b[0m\u001b[0;34m)\u001b[0m\u001b[0;34m\u001b[0m\u001b[0;34m\u001b[0m\u001b[0m\n\u001b[0;32m--> 981\u001b[0;31m         \u001b[0mself\u001b[0m\u001b[0;34m.\u001b[0m\u001b[0mexecute_parloops\u001b[0m\u001b[0;34m(\u001b[0m\u001b[0mtensor\u001b[0m\u001b[0;34m)\u001b[0m\u001b[0;34m\u001b[0m\u001b[0;34m\u001b[0m\u001b[0m\n\u001b[0m\u001b[1;32m    982\u001b[0m         \u001b[0;32mfor\u001b[0m \u001b[0mbc\u001b[0m \u001b[0;32min\u001b[0m \u001b[0mself\u001b[0m\u001b[0;34m.\u001b[0m\u001b[0m_bcs\u001b[0m\u001b[0;34m:\u001b[0m\u001b[0;34m\u001b[0m\u001b[0;34m\u001b[0m\u001b[0m\n\u001b[1;32m    983\u001b[0m             \u001b[0mself\u001b[0m\u001b[0;34m.\u001b[0m\u001b[0m_apply_bc\u001b[0m\u001b[0;34m(\u001b[0m\u001b[0mtensor\u001b[0m\u001b[0;34m,\u001b[0m \u001b[0mbc\u001b[0m\u001b[0;34m)\u001b[0m\u001b[0;34m\u001b[0m\u001b[0;34m\u001b[0m\u001b[0m\n",
            "\u001b[0;32m/usr/local/lib/python3.10/dist-packages/firedrake/assemble.py\u001b[0m in \u001b[0;36mexecute_parloops\u001b[0;34m(self, tensor)\u001b[0m\n\u001b[1;32m   1214\u001b[0m         \u001b[0;32mwith\u001b[0m \u001b[0mtensor\u001b[0m\u001b[0;34m.\u001b[0m\u001b[0mdat\u001b[0m\u001b[0;34m.\u001b[0m\u001b[0mfrozen_halo\u001b[0m\u001b[0;34m(\u001b[0m\u001b[0mop2\u001b[0m\u001b[0;34m.\u001b[0m\u001b[0mINC\u001b[0m\u001b[0;34m)\u001b[0m\u001b[0;34m:\u001b[0m\u001b[0;34m\u001b[0m\u001b[0;34m\u001b[0m\u001b[0m\n\u001b[1;32m   1215\u001b[0m             \u001b[0;32mfor\u001b[0m \u001b[0mparloop\u001b[0m \u001b[0;32min\u001b[0m \u001b[0mself\u001b[0m\u001b[0;34m.\u001b[0m\u001b[0mparloops\u001b[0m\u001b[0;34m(\u001b[0m\u001b[0mtensor\u001b[0m\u001b[0;34m)\u001b[0m\u001b[0;34m:\u001b[0m\u001b[0;34m\u001b[0m\u001b[0;34m\u001b[0m\u001b[0m\n\u001b[0;32m-> 1216\u001b[0;31m                 \u001b[0mparloop\u001b[0m\u001b[0;34m(\u001b[0m\u001b[0;34m)\u001b[0m\u001b[0;34m\u001b[0m\u001b[0;34m\u001b[0m\u001b[0m\n\u001b[0m\u001b[1;32m   1217\u001b[0m \u001b[0;34m\u001b[0m\u001b[0m\n\u001b[1;32m   1218\u001b[0m     \u001b[0;34m@\u001b[0m\u001b[0mproperty\u001b[0m\u001b[0;34m\u001b[0m\u001b[0;34m\u001b[0m\u001b[0m\n",
            "\u001b[0;32mpetsc4py/PETSc/Log.pyx\u001b[0m in \u001b[0;36mpetsc4py.PETSc.Log.EventDecorator.decorator.wrapped_func\u001b[0;34m()\u001b[0m\n",
            "\u001b[0;32mpetsc4py/PETSc/Log.pyx\u001b[0m in \u001b[0;36mpetsc4py.PETSc.Log.EventDecorator.decorator.wrapped_func\u001b[0;34m()\u001b[0m\n",
            "\u001b[0;32m/usr/local/lib/python3.10/dist-packages/pyop2/parloop.py\u001b[0m in \u001b[0;36m__call__\u001b[0;34m(self)\u001b[0m\n\u001b[1;32m    249\u001b[0m         \u001b[0morig_lgmaps\u001b[0m \u001b[0;34m=\u001b[0m \u001b[0mself\u001b[0m\u001b[0;34m.\u001b[0m\u001b[0mreplace_lgmaps\u001b[0m\u001b[0;34m(\u001b[0m\u001b[0;34m)\u001b[0m\u001b[0;34m\u001b[0m\u001b[0;34m\u001b[0m\u001b[0m\n\u001b[1;32m    250\u001b[0m         \u001b[0mself\u001b[0m\u001b[0;34m.\u001b[0m\u001b[0mglobal_to_local_begin\u001b[0m\u001b[0;34m(\u001b[0m\u001b[0;34m)\u001b[0m\u001b[0;34m\u001b[0m\u001b[0;34m\u001b[0m\u001b[0m\n\u001b[0;32m--> 251\u001b[0;31m         \u001b[0mself\u001b[0m\u001b[0;34m.\u001b[0m\u001b[0m_compute\u001b[0m\u001b[0;34m(\u001b[0m\u001b[0mself\u001b[0m\u001b[0;34m.\u001b[0m\u001b[0miterset\u001b[0m\u001b[0;34m.\u001b[0m\u001b[0mcore_part\u001b[0m\u001b[0;34m)\u001b[0m\u001b[0;34m\u001b[0m\u001b[0;34m\u001b[0m\u001b[0m\n\u001b[0m\u001b[1;32m    252\u001b[0m         \u001b[0mself\u001b[0m\u001b[0;34m.\u001b[0m\u001b[0mglobal_to_local_end\u001b[0m\u001b[0;34m(\u001b[0m\u001b[0;34m)\u001b[0m\u001b[0;34m\u001b[0m\u001b[0;34m\u001b[0m\u001b[0m\n\u001b[1;32m    253\u001b[0m         \u001b[0mself\u001b[0m\u001b[0;34m.\u001b[0m\u001b[0m_compute\u001b[0m\u001b[0;34m(\u001b[0m\u001b[0mself\u001b[0m\u001b[0;34m.\u001b[0m\u001b[0miterset\u001b[0m\u001b[0;34m.\u001b[0m\u001b[0mowned_part\u001b[0m\u001b[0;34m)\u001b[0m\u001b[0;34m\u001b[0m\u001b[0;34m\u001b[0m\u001b[0m\n",
            "\u001b[0;32m/usr/local/lib/python3.10/dist-packages/pyop2/parloop.py\u001b[0m in \u001b[0;36m_compute\u001b[0;34m(self, part)\u001b[0m\n\u001b[1;32m    230\u001b[0m         \u001b[0;32mwith\u001b[0m \u001b[0mself\u001b[0m\u001b[0;34m.\u001b[0m\u001b[0m_compute_event\u001b[0m\u001b[0;34m(\u001b[0m\u001b[0;34m)\u001b[0m\u001b[0;34m:\u001b[0m\u001b[0;34m\u001b[0m\u001b[0;34m\u001b[0m\u001b[0m\n\u001b[1;32m    231\u001b[0m             \u001b[0mPETSc\u001b[0m\u001b[0;34m.\u001b[0m\u001b[0mLog\u001b[0m\u001b[0;34m.\u001b[0m\u001b[0mlogFlops\u001b[0m\u001b[0;34m(\u001b[0m\u001b[0mpart\u001b[0m\u001b[0;34m.\u001b[0m\u001b[0msize\u001b[0m\u001b[0;34m*\u001b[0m\u001b[0mself\u001b[0m\u001b[0;34m.\u001b[0m\u001b[0mnum_flops\u001b[0m\u001b[0;34m)\u001b[0m\u001b[0;34m\u001b[0m\u001b[0;34m\u001b[0m\u001b[0m\n\u001b[0;32m--> 232\u001b[0;31m             \u001b[0mself\u001b[0m\u001b[0;34m.\u001b[0m\u001b[0mglobal_kernel\u001b[0m\u001b[0;34m(\u001b[0m\u001b[0mself\u001b[0m\u001b[0;34m.\u001b[0m\u001b[0mcomm\u001b[0m\u001b[0;34m,\u001b[0m \u001b[0mpart\u001b[0m\u001b[0;34m.\u001b[0m\u001b[0moffset\u001b[0m\u001b[0;34m,\u001b[0m \u001b[0mpart\u001b[0m\u001b[0;34m.\u001b[0m\u001b[0moffset\u001b[0m\u001b[0;34m+\u001b[0m\u001b[0mpart\u001b[0m\u001b[0;34m.\u001b[0m\u001b[0msize\u001b[0m\u001b[0;34m,\u001b[0m \u001b[0;34m*\u001b[0m\u001b[0mself\u001b[0m\u001b[0;34m.\u001b[0m\u001b[0marglist\u001b[0m\u001b[0;34m)\u001b[0m\u001b[0;34m\u001b[0m\u001b[0;34m\u001b[0m\u001b[0m\n\u001b[0m\u001b[1;32m    233\u001b[0m \u001b[0;34m\u001b[0m\u001b[0m\n\u001b[1;32m    234\u001b[0m     \u001b[0;34m@\u001b[0m\u001b[0mcached_property\u001b[0m\u001b[0;34m\u001b[0m\u001b[0;34m\u001b[0m\u001b[0m\n",
            "\u001b[0;32m/usr/local/lib/python3.10/dist-packages/pyop2/global_kernel.py\u001b[0m in \u001b[0;36m__call__\u001b[0;34m(self, comm, *args)\u001b[0m\n\u001b[1;32m    349\u001b[0m             \u001b[0mfunc\u001b[0m \u001b[0;34m=\u001b[0m \u001b[0mself\u001b[0m\u001b[0;34m.\u001b[0m\u001b[0m_func_cache\u001b[0m\u001b[0;34m[\u001b[0m\u001b[0mkey\u001b[0m\u001b[0;34m]\u001b[0m\u001b[0;34m\u001b[0m\u001b[0;34m\u001b[0m\u001b[0m\n\u001b[1;32m    350\u001b[0m         \u001b[0;32mexcept\u001b[0m \u001b[0mKeyError\u001b[0m\u001b[0;34m:\u001b[0m\u001b[0;34m\u001b[0m\u001b[0;34m\u001b[0m\u001b[0m\n\u001b[0;32m--> 351\u001b[0;31m             \u001b[0mfunc\u001b[0m \u001b[0;34m=\u001b[0m \u001b[0mself\u001b[0m\u001b[0;34m.\u001b[0m\u001b[0mcompile\u001b[0m\u001b[0;34m(\u001b[0m\u001b[0mcomm\u001b[0m\u001b[0;34m)\u001b[0m\u001b[0;34m\u001b[0m\u001b[0;34m\u001b[0m\u001b[0m\n\u001b[0m\u001b[1;32m    352\u001b[0m             \u001b[0mself\u001b[0m\u001b[0;34m.\u001b[0m\u001b[0m_func_cache\u001b[0m\u001b[0;34m[\u001b[0m\u001b[0mkey\u001b[0m\u001b[0;34m]\u001b[0m \u001b[0;34m=\u001b[0m \u001b[0mfunc\u001b[0m\u001b[0;34m\u001b[0m\u001b[0;34m\u001b[0m\u001b[0m\n\u001b[1;32m    353\u001b[0m         \u001b[0mfunc\u001b[0m\u001b[0;34m(\u001b[0m\u001b[0;34m*\u001b[0m\u001b[0margs\u001b[0m\u001b[0;34m)\u001b[0m\u001b[0;34m\u001b[0m\u001b[0;34m\u001b[0m\u001b[0m\n",
            "\u001b[0;32mpetsc4py/PETSc/Log.pyx\u001b[0m in \u001b[0;36mpetsc4py.PETSc.Log.EventDecorator.decorator.wrapped_func\u001b[0;34m()\u001b[0m\n",
            "\u001b[0;32mpetsc4py/PETSc/Log.pyx\u001b[0m in \u001b[0;36mpetsc4py.PETSc.Log.EventDecorator.decorator.wrapped_func\u001b[0;34m()\u001b[0m\n",
            "\u001b[0;32m/usr/local/lib/python3.10/dist-packages/pyop2/global_kernel.py\u001b[0m in \u001b[0;36mcompile\u001b[0;34m(self, comm)\u001b[0m\n\u001b[1;32m    420\u001b[0m         )\n\u001b[1;32m    421\u001b[0m \u001b[0;34m\u001b[0m\u001b[0m\n\u001b[0;32m--> 422\u001b[0;31m         return compilation.load(self, extension, self.name,\n\u001b[0m\u001b[1;32m    423\u001b[0m                                 \u001b[0mcppargs\u001b[0m\u001b[0;34m=\u001b[0m\u001b[0mcppargs\u001b[0m\u001b[0;34m,\u001b[0m\u001b[0;34m\u001b[0m\u001b[0;34m\u001b[0m\u001b[0m\n\u001b[1;32m    424\u001b[0m                                 \u001b[0mldargs\u001b[0m\u001b[0;34m=\u001b[0m\u001b[0mldargs\u001b[0m\u001b[0;34m,\u001b[0m\u001b[0;34m\u001b[0m\u001b[0;34m\u001b[0m\u001b[0m\n",
            "\u001b[0;32m/usr/local/lib/python3.10/dist-packages/pyop2/compilation.py\u001b[0m in \u001b[0;36mload\u001b[0;34m(jitmodule, extension, fn_name, cppargs, ldargs, argtypes, restype, comm)\u001b[0m\n\u001b[1;32m    594\u001b[0m             \u001b[0mexe\u001b[0m \u001b[0;34m=\u001b[0m \u001b[0mconfiguration\u001b[0m\u001b[0;34m[\u001b[0m\u001b[0;34m\"cc\"\u001b[0m\u001b[0;34m]\u001b[0m \u001b[0;32mor\u001b[0m \u001b[0;34m\"mpicc\"\u001b[0m\u001b[0;34m\u001b[0m\u001b[0;34m\u001b[0m\u001b[0m\n\u001b[1;32m    595\u001b[0m         \u001b[0mcompiler\u001b[0m \u001b[0;34m=\u001b[0m \u001b[0msniff_compiler\u001b[0m\u001b[0;34m(\u001b[0m\u001b[0mexe\u001b[0m\u001b[0;34m,\u001b[0m \u001b[0mcomm\u001b[0m\u001b[0;34m)\u001b[0m\u001b[0;34m\u001b[0m\u001b[0;34m\u001b[0m\u001b[0m\n\u001b[0;32m--> 596\u001b[0;31m     \u001b[0mdll\u001b[0m \u001b[0;34m=\u001b[0m \u001b[0mcompiler\u001b[0m\u001b[0;34m(\u001b[0m\u001b[0mcppargs\u001b[0m\u001b[0;34m,\u001b[0m \u001b[0mldargs\u001b[0m\u001b[0;34m,\u001b[0m \u001b[0mcpp\u001b[0m\u001b[0;34m=\u001b[0m\u001b[0mcpp\u001b[0m\u001b[0;34m,\u001b[0m \u001b[0mcomm\u001b[0m\u001b[0;34m=\u001b[0m\u001b[0mcomm\u001b[0m\u001b[0;34m)\u001b[0m\u001b[0;34m.\u001b[0m\u001b[0mget_so\u001b[0m\u001b[0;34m(\u001b[0m\u001b[0mcode\u001b[0m\u001b[0;34m,\u001b[0m \u001b[0mextension\u001b[0m\u001b[0;34m)\u001b[0m\u001b[0;34m\u001b[0m\u001b[0;34m\u001b[0m\u001b[0m\n\u001b[0m\u001b[1;32m    597\u001b[0m \u001b[0;34m\u001b[0m\u001b[0m\n\u001b[1;32m    598\u001b[0m     \u001b[0;32mif\u001b[0m \u001b[0misinstance\u001b[0m\u001b[0;34m(\u001b[0m\u001b[0mjitmodule\u001b[0m\u001b[0;34m,\u001b[0m \u001b[0mGlobalKernel\u001b[0m\u001b[0;34m)\u001b[0m\u001b[0;34m:\u001b[0m\u001b[0;34m\u001b[0m\u001b[0;34m\u001b[0m\u001b[0m\n",
            "\u001b[0;32m/usr/local/lib/python3.10/dist-packages/pyop2/compilation.py\u001b[0m in \u001b[0;36mget_so\u001b[0;34m(self, jitmodule, extension)\u001b[0m\n\u001b[1;32m    350\u001b[0m                 \u001b[0;32mwith\u001b[0m \u001b[0mprogress\u001b[0m\u001b[0;34m(\u001b[0m\u001b[0mINFO\u001b[0m\u001b[0;34m,\u001b[0m \u001b[0;34m'Compiling wrapper'\u001b[0m\u001b[0;34m)\u001b[0m\u001b[0;34m:\u001b[0m\u001b[0;34m\u001b[0m\u001b[0;34m\u001b[0m\u001b[0m\n\u001b[1;32m    351\u001b[0m                     \u001b[0;32mwith\u001b[0m \u001b[0mopen\u001b[0m\u001b[0;34m(\u001b[0m\u001b[0mcname\u001b[0m\u001b[0;34m,\u001b[0m \u001b[0;34m\"w\"\u001b[0m\u001b[0;34m)\u001b[0m \u001b[0;32mas\u001b[0m \u001b[0mf\u001b[0m\u001b[0;34m:\u001b[0m\u001b[0;34m\u001b[0m\u001b[0;34m\u001b[0m\u001b[0m\n\u001b[0;32m--> 352\u001b[0;31m                         \u001b[0mf\u001b[0m\u001b[0;34m.\u001b[0m\u001b[0mwrite\u001b[0m\u001b[0;34m(\u001b[0m\u001b[0mjitmodule\u001b[0m\u001b[0;34m.\u001b[0m\u001b[0mcode_to_compile\u001b[0m\u001b[0;34m)\u001b[0m\u001b[0;34m\u001b[0m\u001b[0;34m\u001b[0m\u001b[0m\n\u001b[0m\u001b[1;32m    353\u001b[0m                     \u001b[0;31m# Compiler also links\u001b[0m\u001b[0;34m\u001b[0m\u001b[0;34m\u001b[0m\u001b[0m\n\u001b[1;32m    354\u001b[0m                     \u001b[0;32mif\u001b[0m \u001b[0;32mnot\u001b[0m \u001b[0mself\u001b[0m\u001b[0;34m.\u001b[0m\u001b[0mld\u001b[0m\u001b[0;34m:\u001b[0m\u001b[0;34m\u001b[0m\u001b[0;34m\u001b[0m\u001b[0m\n",
            "\u001b[0;32m/usr/local/lib/python3.10/dist-packages/pyop2/utils.py\u001b[0m in \u001b[0;36m__get__\u001b[0;34m(self, obj, cls)\u001b[0m\n\u001b[1;32m     60\u001b[0m         \u001b[0;32mif\u001b[0m \u001b[0mobj\u001b[0m \u001b[0;32mis\u001b[0m \u001b[0;32mNone\u001b[0m\u001b[0;34m:\u001b[0m\u001b[0;34m\u001b[0m\u001b[0;34m\u001b[0m\u001b[0m\n\u001b[1;32m     61\u001b[0m             \u001b[0;32mreturn\u001b[0m \u001b[0mself\u001b[0m\u001b[0;34m\u001b[0m\u001b[0;34m\u001b[0m\u001b[0m\n\u001b[0;32m---> 62\u001b[0;31m         \u001b[0mobj\u001b[0m\u001b[0;34m.\u001b[0m\u001b[0m__dict__\u001b[0m\u001b[0;34m[\u001b[0m\u001b[0mself\u001b[0m\u001b[0;34m.\u001b[0m\u001b[0m__name__\u001b[0m\u001b[0;34m]\u001b[0m \u001b[0;34m=\u001b[0m \u001b[0mresult\u001b[0m \u001b[0;34m=\u001b[0m \u001b[0mself\u001b[0m\u001b[0;34m.\u001b[0m\u001b[0mfget\u001b[0m\u001b[0;34m(\u001b[0m\u001b[0mobj\u001b[0m\u001b[0;34m)\u001b[0m\u001b[0;34m\u001b[0m\u001b[0;34m\u001b[0m\u001b[0m\n\u001b[0m\u001b[1;32m     63\u001b[0m         \u001b[0;32mreturn\u001b[0m \u001b[0mresult\u001b[0m\u001b[0;34m\u001b[0m\u001b[0;34m\u001b[0m\u001b[0m\n\u001b[1;32m     64\u001b[0m \u001b[0;34m\u001b[0m\u001b[0m\n",
            "\u001b[0;32m/usr/local/lib/python3.10/dist-packages/pyop2/global_kernel.py\u001b[0m in \u001b[0;36mcode_to_compile\u001b[0;34m(self)\u001b[0m\n\u001b[1;32m    390\u001b[0m \u001b[0;34m\u001b[0m\u001b[0m\n\u001b[1;32m    391\u001b[0m         \u001b[0mwrapper\u001b[0m \u001b[0;34m=\u001b[0m \u001b[0mgenerate\u001b[0m\u001b[0;34m(\u001b[0m\u001b[0mself\u001b[0m\u001b[0;34m.\u001b[0m\u001b[0mbuilder\u001b[0m\u001b[0;34m)\u001b[0m\u001b[0;34m\u001b[0m\u001b[0;34m\u001b[0m\u001b[0m\n\u001b[0;32m--> 392\u001b[0;31m         \u001b[0mcode\u001b[0m \u001b[0;34m=\u001b[0m \u001b[0mlp\u001b[0m\u001b[0;34m.\u001b[0m\u001b[0mgenerate_code_v2\u001b[0m\u001b[0;34m(\u001b[0m\u001b[0mwrapper\u001b[0m\u001b[0;34m)\u001b[0m\u001b[0;34m\u001b[0m\u001b[0;34m\u001b[0m\u001b[0m\n\u001b[0m\u001b[1;32m    393\u001b[0m \u001b[0;34m\u001b[0m\u001b[0m\n\u001b[1;32m    394\u001b[0m         \u001b[0;32mif\u001b[0m \u001b[0mself\u001b[0m\u001b[0;34m.\u001b[0m\u001b[0mlocal_kernel\u001b[0m\u001b[0;34m.\u001b[0m\u001b[0mcpp\u001b[0m\u001b[0;34m:\u001b[0m\u001b[0;34m\u001b[0m\u001b[0;34m\u001b[0m\u001b[0m\n",
            "\u001b[0;32m/usr/local/lib/python3.10/dist-packages/loopy/codegen/__init__.py\u001b[0m in \u001b[0;36mgenerate_code_v2\u001b[0;34m(t_unit)\u001b[0m\n\u001b[1;32m    635\u001b[0m     for func_id in sorted(key for key, val in t_unit.callables_table.items()\n\u001b[1;32m    636\u001b[0m                           if isinstance(val, CallableKernel)):\n\u001b[0;32m--> 637\u001b[0;31m         cgr = generate_code_for_a_single_kernel(t_unit[func_id],\n\u001b[0m\u001b[1;32m    638\u001b[0m                                                 \u001b[0mt_unit\u001b[0m\u001b[0;34m.\u001b[0m\u001b[0mcallables_table\u001b[0m\u001b[0;34m,\u001b[0m\u001b[0;34m\u001b[0m\u001b[0;34m\u001b[0m\u001b[0m\n\u001b[1;32m    639\u001b[0m                                                 \u001b[0mt_unit\u001b[0m\u001b[0;34m.\u001b[0m\u001b[0mtarget\u001b[0m\u001b[0;34m,\u001b[0m\u001b[0;34m\u001b[0m\u001b[0;34m\u001b[0m\u001b[0m\n",
            "\u001b[0;32m/usr/local/lib/python3.10/dist-packages/loopy/codegen/__init__.py\u001b[0m in \u001b[0;36mgenerate_code_for_a_single_kernel\u001b[0;34m(kernel, callables_table, target, is_entrypoint)\u001b[0m\n\u001b[1;32m    428\u001b[0m     \u001b[0;32mfrom\u001b[0m \u001b[0mloopy\u001b[0m\u001b[0;34m.\u001b[0m\u001b[0mcodegen\u001b[0m\u001b[0;34m.\u001b[0m\u001b[0mresult\u001b[0m \u001b[0;32mimport\u001b[0m \u001b[0mgenerate_host_or_device_program\u001b[0m\u001b[0;34m\u001b[0m\u001b[0;34m\u001b[0m\u001b[0m\n\u001b[1;32m    429\u001b[0m \u001b[0;34m\u001b[0m\u001b[0m\n\u001b[0;32m--> 430\u001b[0;31m     codegen_result = generate_host_or_device_program(\n\u001b[0m\u001b[1;32m    431\u001b[0m             \u001b[0mcodegen_state\u001b[0m\u001b[0;34m,\u001b[0m\u001b[0;34m\u001b[0m\u001b[0;34m\u001b[0m\u001b[0m\n\u001b[1;32m    432\u001b[0m             schedule_index=0)\n",
            "\u001b[0;32m/usr/local/lib/python3.10/dist-packages/loopy/codegen/result.py\u001b[0m in \u001b[0;36mgenerate_host_or_device_program\u001b[0;34m(codegen_state, schedule_index)\u001b[0m\n\u001b[1;32m    346\u001b[0m                     schedule_index=schedule_index + 1))\n\u001b[1;32m    347\u001b[0m     \u001b[0;32melse\u001b[0m\u001b[0;34m:\u001b[0m\u001b[0;34m\u001b[0m\u001b[0;34m\u001b[0m\u001b[0m\n\u001b[0;32m--> 348\u001b[0;31m         \u001b[0mcodegen_result\u001b[0m \u001b[0;34m=\u001b[0m \u001b[0mbuild_loop_nest\u001b[0m\u001b[0;34m(\u001b[0m\u001b[0mcodegen_state\u001b[0m\u001b[0;34m,\u001b[0m \u001b[0mschedule_index\u001b[0m\u001b[0;34m)\u001b[0m\u001b[0;34m\u001b[0m\u001b[0;34m\u001b[0m\u001b[0m\n\u001b[0m\u001b[1;32m    349\u001b[0m \u001b[0;34m\u001b[0m\u001b[0m\n\u001b[1;32m    350\u001b[0m     if (codegen_state.is_generating_device_code\n",
            "\u001b[0;32m/usr/local/lib/python3.10/dist-packages/loopy/codegen/control.py\u001b[0m in \u001b[0;36mbuild_loop_nest\u001b[0;34m(codegen_state, schedule_index)\u001b[0m\n\u001b[1;32m    216\u001b[0m     \u001b[0;32mif\u001b[0m \u001b[0;32mnot\u001b[0m \u001b[0mcodegen_state\u001b[0m\u001b[0;34m.\u001b[0m\u001b[0mast_builder\u001b[0m\u001b[0;34m.\u001b[0m\u001b[0mcan_implement_conditionals\u001b[0m\u001b[0;34m:\u001b[0m\u001b[0;34m\u001b[0m\u001b[0;34m\u001b[0m\u001b[0m\n\u001b[1;32m    217\u001b[0m         \u001b[0mresult\u001b[0m \u001b[0;34m=\u001b[0m \u001b[0;34m[\u001b[0m\u001b[0;34m]\u001b[0m\u001b[0;34m\u001b[0m\u001b[0;34m\u001b[0m\u001b[0m\n\u001b[0;32m--> 218\u001b[0;31m         \u001b[0minner\u001b[0m \u001b[0;34m=\u001b[0m \u001b[0mgenerate_code_for_sched_index\u001b[0m\u001b[0;34m(\u001b[0m\u001b[0mcodegen_state\u001b[0m\u001b[0;34m,\u001b[0m \u001b[0mschedule_index\u001b[0m\u001b[0;34m)\u001b[0m\u001b[0;34m\u001b[0m\u001b[0;34m\u001b[0m\u001b[0m\n\u001b[0m\u001b[1;32m    219\u001b[0m         \u001b[0;32mif\u001b[0m \u001b[0minner\u001b[0m \u001b[0;32mis\u001b[0m \u001b[0;32mnot\u001b[0m \u001b[0;32mNone\u001b[0m\u001b[0;34m:\u001b[0m\u001b[0;34m\u001b[0m\u001b[0;34m\u001b[0m\u001b[0m\n\u001b[1;32m    220\u001b[0m             \u001b[0mresult\u001b[0m\u001b[0;34m.\u001b[0m\u001b[0mappend\u001b[0m\u001b[0;34m(\u001b[0m\u001b[0minner\u001b[0m\u001b[0;34m)\u001b[0m\u001b[0;34m\u001b[0m\u001b[0;34m\u001b[0m\u001b[0m\n",
            "\u001b[0;32m/usr/local/lib/python3.10/dist-packages/loopy/codegen/control.py\u001b[0m in \u001b[0;36mgenerate_code_for_sched_index\u001b[0;34m(codegen_state, sched_index)\u001b[0m\n\u001b[1;32m     59\u001b[0m \u001b[0;34m\u001b[0m\u001b[0m\n\u001b[1;32m     60\u001b[0m         \u001b[0;32mfrom\u001b[0m \u001b[0mloopy\u001b[0m\u001b[0;34m.\u001b[0m\u001b[0mcodegen\u001b[0m\u001b[0;34m.\u001b[0m\u001b[0mresult\u001b[0m \u001b[0;32mimport\u001b[0m \u001b[0mgenerate_host_or_device_program\u001b[0m\u001b[0;34m\u001b[0m\u001b[0;34m\u001b[0m\u001b[0m\n\u001b[0;32m---> 61\u001b[0;31m         codegen_result = generate_host_or_device_program(\n\u001b[0m\u001b[1;32m     62\u001b[0m                 new_codegen_state, sched_index)\n\u001b[1;32m     63\u001b[0m \u001b[0;34m\u001b[0m\u001b[0m\n",
            "\u001b[0;32m/usr/local/lib/python3.10/dist-packages/loopy/codegen/result.py\u001b[0m in \u001b[0;36mgenerate_host_or_device_program\u001b[0;34m(codegen_state, schedule_index)\u001b[0m\n\u001b[1;32m    341\u001b[0m \u001b[0;34m\u001b[0m\u001b[0m\n\u001b[1;32m    342\u001b[0m         \u001b[0;32mfrom\u001b[0m \u001b[0mloopy\u001b[0m\u001b[0;34m.\u001b[0m\u001b[0mcodegen\u001b[0m\u001b[0;34m.\u001b[0m\u001b[0mloop\u001b[0m \u001b[0;32mimport\u001b[0m \u001b[0mset_up_hw_parallel_loops\u001b[0m\u001b[0;34m\u001b[0m\u001b[0;34m\u001b[0m\u001b[0m\n\u001b[0;32m--> 343\u001b[0;31m         codegen_result = set_up_hw_parallel_loops(\n\u001b[0m\u001b[1;32m    344\u001b[0m                 \u001b[0mcodegen_state\u001b[0m\u001b[0;34m,\u001b[0m \u001b[0mschedule_index\u001b[0m\u001b[0;34m,\u001b[0m\u001b[0;34m\u001b[0m\u001b[0;34m\u001b[0m\u001b[0m\n\u001b[1;32m    345\u001b[0m                 next_func=partial(build_loop_nest,\n",
            "\u001b[0;32m/usr/local/lib/python3.10/dist-packages/loopy/codegen/loop.py\u001b[0m in \u001b[0;36mset_up_hw_parallel_loops\u001b[0;34m(codegen_state, schedule_index, next_func, hw_inames_left)\u001b[0m\n\u001b[1;32m    254\u001b[0m \u001b[0;34m\u001b[0m\u001b[0m\n\u001b[1;32m    255\u001b[0m     \u001b[0;32mif\u001b[0m \u001b[0;32mnot\u001b[0m \u001b[0mhw_inames_left\u001b[0m\u001b[0;34m:\u001b[0m\u001b[0;34m\u001b[0m\u001b[0;34m\u001b[0m\u001b[0m\n\u001b[0;32m--> 256\u001b[0;31m         \u001b[0;32mreturn\u001b[0m \u001b[0mnext_func\u001b[0m\u001b[0;34m(\u001b[0m\u001b[0mcodegen_state\u001b[0m\u001b[0;34m)\u001b[0m\u001b[0;34m\u001b[0m\u001b[0;34m\u001b[0m\u001b[0m\n\u001b[0m\u001b[1;32m    257\u001b[0m \u001b[0;34m\u001b[0m\u001b[0m\n\u001b[1;32m    258\u001b[0m     global_size, local_size = kernel.get_grid_sizes_for_insn_ids(\n",
            "\u001b[0;32m/usr/local/lib/python3.10/dist-packages/loopy/codegen/control.py\u001b[0m in \u001b[0;36mbuild_loop_nest\u001b[0;34m(codegen_state, schedule_index)\u001b[0m\n\u001b[1;32m    512\u001b[0m     \u001b[0;31m# }}}\u001b[0m\u001b[0;34m\u001b[0m\u001b[0;34m\u001b[0m\u001b[0m\n\u001b[1;32m    513\u001b[0m \u001b[0;34m\u001b[0m\u001b[0m\n\u001b[0;32m--> 514\u001b[0;31m     \u001b[0minsn_group\u001b[0m \u001b[0;34m=\u001b[0m \u001b[0mbuild_insn_group\u001b[0m\u001b[0;34m(\u001b[0m\u001b[0msched_index_info_entries\u001b[0m\u001b[0;34m,\u001b[0m \u001b[0mcodegen_state\u001b[0m\u001b[0;34m)\u001b[0m\u001b[0;34m\u001b[0m\u001b[0;34m\u001b[0m\u001b[0m\n\u001b[0m\u001b[1;32m    515\u001b[0m     return merge_codegen_results(\n\u001b[1;32m    516\u001b[0m             \u001b[0mcodegen_state\u001b[0m\u001b[0;34m,\u001b[0m\u001b[0;34m\u001b[0m\u001b[0;34m\u001b[0m\u001b[0m\n",
            "\u001b[0;32m/usr/local/lib/python3.10/dist-packages/loopy/codegen/control.py\u001b[0m in \u001b[0;36mbuild_insn_group\u001b[0;34m(sched_index_info_entries, codegen_state, done_group_lengths)\u001b[0m\n\u001b[1;32m    505\u001b[0m \u001b[0;34m\u001b[0m\u001b[0m\n\u001b[1;32m    506\u001b[0m             \u001b[0;32melse\u001b[0m\u001b[0;34m:\u001b[0m\u001b[0;34m\u001b[0m\u001b[0;34m\u001b[0m\u001b[0m\n\u001b[0;32m--> 507\u001b[0;31m                 \u001b[0mresult\u001b[0m \u001b[0;34m=\u001b[0m \u001b[0mgen_code\u001b[0m\u001b[0;34m(\u001b[0m\u001b[0mnew_codegen_state\u001b[0m\u001b[0;34m)\u001b[0m\u001b[0;34m\u001b[0m\u001b[0;34m\u001b[0m\u001b[0m\n\u001b[0m\u001b[1;32m    508\u001b[0m \u001b[0;34m\u001b[0m\u001b[0m\n\u001b[1;32m    509\u001b[0m         return result + build_insn_group(\n",
            "\u001b[0;32m/usr/local/lib/python3.10/dist-packages/loopy/codegen/control.py\u001b[0m in \u001b[0;36mgen_code\u001b[0;34m(inner_codegen_state)\u001b[0m\n\u001b[1;32m    447\u001b[0m                     \u001b[0mresult\u001b[0m \u001b[0;34m=\u001b[0m \u001b[0;34m[\u001b[0m\u001b[0;34m]\u001b[0m\u001b[0;34m\u001b[0m\u001b[0;34m\u001b[0m\u001b[0m\n\u001b[1;32m    448\u001b[0m                     \u001b[0;32mfor\u001b[0m \u001b[0mi\u001b[0m \u001b[0;32min\u001b[0m \u001b[0morigin_si_entry\u001b[0m\u001b[0;34m.\u001b[0m\u001b[0mschedule_indices\u001b[0m\u001b[0;34m:\u001b[0m\u001b[0;34m\u001b[0m\u001b[0;34m\u001b[0m\u001b[0m\n\u001b[0;32m--> 449\u001b[0;31m                         inner = generate_code_for_sched_index(\n\u001b[0m\u001b[1;32m    450\u001b[0m                             inner_codegen_state, i)\n\u001b[1;32m    451\u001b[0m \u001b[0;34m\u001b[0m\u001b[0m\n",
            "\u001b[0;32m/usr/local/lib/python3.10/dist-packages/loopy/codegen/control.py\u001b[0m in \u001b[0;36mgenerate_code_for_sched_index\u001b[0;34m(codegen_state, sched_index)\u001b[0m\n\u001b[1;32m    117\u001b[0m                     % (sched_item.iname, \", \".join(str(tag) for tag in tags)))\n\u001b[1;32m    118\u001b[0m \u001b[0;34m\u001b[0m\u001b[0m\n\u001b[0;32m--> 119\u001b[0;31m         \u001b[0;32mreturn\u001b[0m \u001b[0mfunc\u001b[0m\u001b[0;34m(\u001b[0m\u001b[0mcodegen_state\u001b[0m\u001b[0;34m,\u001b[0m \u001b[0msched_index\u001b[0m\u001b[0;34m)\u001b[0m\u001b[0;34m\u001b[0m\u001b[0;34m\u001b[0m\u001b[0m\n\u001b[0m\u001b[1;32m    120\u001b[0m \u001b[0;34m\u001b[0m\u001b[0m\n\u001b[1;32m    121\u001b[0m     \u001b[0;32melif\u001b[0m \u001b[0misinstance\u001b[0m\u001b[0;34m(\u001b[0m\u001b[0msched_item\u001b[0m\u001b[0;34m,\u001b[0m \u001b[0mBarrier\u001b[0m\u001b[0;34m)\u001b[0m\u001b[0;34m:\u001b[0m\u001b[0;34m\u001b[0m\u001b[0;34m\u001b[0m\u001b[0m\n",
            "\u001b[0;32m/usr/local/lib/python3.10/dist-packages/loopy/codegen/loop.py\u001b[0m in \u001b[0;36mgenerate_sequential_loop_dim_code\u001b[0;34m(codegen_state, sched_index, hints)\u001b[0m\n\u001b[1;32m    442\u001b[0m                     kernel, slab, loop_iname)))\n\u001b[1;32m    443\u001b[0m \u001b[0;34m\u001b[0m\u001b[0m\n\u001b[0;32m--> 444\u001b[0;31m         \u001b[0minner\u001b[0m \u001b[0;34m=\u001b[0m \u001b[0mbuild_loop_nest\u001b[0m\u001b[0;34m(\u001b[0m\u001b[0mnew_codegen_state\u001b[0m\u001b[0;34m,\u001b[0m \u001b[0msched_index\u001b[0m\u001b[0;34m+\u001b[0m\u001b[0;36m1\u001b[0m\u001b[0;34m)\u001b[0m\u001b[0;34m\u001b[0m\u001b[0;34m\u001b[0m\u001b[0m\n\u001b[0m\u001b[1;32m    445\u001b[0m \u001b[0;34m\u001b[0m\u001b[0m\n\u001b[1;32m    446\u001b[0m         \u001b[0;31m# }}}\u001b[0m\u001b[0;34m\u001b[0m\u001b[0;34m\u001b[0m\u001b[0m\n",
            "\u001b[0;32m/usr/local/lib/python3.10/dist-packages/loopy/codegen/control.py\u001b[0m in \u001b[0;36mbuild_loop_nest\u001b[0;34m(codegen_state, schedule_index)\u001b[0m\n\u001b[1;32m    512\u001b[0m     \u001b[0;31m# }}}\u001b[0m\u001b[0;34m\u001b[0m\u001b[0;34m\u001b[0m\u001b[0m\n\u001b[1;32m    513\u001b[0m \u001b[0;34m\u001b[0m\u001b[0m\n\u001b[0;32m--> 514\u001b[0;31m     \u001b[0minsn_group\u001b[0m \u001b[0;34m=\u001b[0m \u001b[0mbuild_insn_group\u001b[0m\u001b[0;34m(\u001b[0m\u001b[0msched_index_info_entries\u001b[0m\u001b[0;34m,\u001b[0m \u001b[0mcodegen_state\u001b[0m\u001b[0;34m)\u001b[0m\u001b[0;34m\u001b[0m\u001b[0;34m\u001b[0m\u001b[0m\n\u001b[0m\u001b[1;32m    515\u001b[0m     return merge_codegen_results(\n\u001b[1;32m    516\u001b[0m             \u001b[0mcodegen_state\u001b[0m\u001b[0;34m,\u001b[0m\u001b[0;34m\u001b[0m\u001b[0;34m\u001b[0m\u001b[0m\n",
            "\u001b[0;32m/usr/local/lib/python3.10/dist-packages/loopy/codegen/control.py\u001b[0m in \u001b[0;36mbuild_insn_group\u001b[0;34m(sched_index_info_entries, codegen_state, done_group_lengths)\u001b[0m\n\u001b[1;32m    505\u001b[0m \u001b[0;34m\u001b[0m\u001b[0m\n\u001b[1;32m    506\u001b[0m             \u001b[0;32melse\u001b[0m\u001b[0;34m:\u001b[0m\u001b[0;34m\u001b[0m\u001b[0;34m\u001b[0m\u001b[0m\n\u001b[0;32m--> 507\u001b[0;31m                 \u001b[0mresult\u001b[0m \u001b[0;34m=\u001b[0m \u001b[0mgen_code\u001b[0m\u001b[0;34m(\u001b[0m\u001b[0mnew_codegen_state\u001b[0m\u001b[0;34m)\u001b[0m\u001b[0;34m\u001b[0m\u001b[0;34m\u001b[0m\u001b[0m\n\u001b[0m\u001b[1;32m    508\u001b[0m \u001b[0;34m\u001b[0m\u001b[0m\n\u001b[1;32m    509\u001b[0m         return result + build_insn_group(\n",
            "\u001b[0;32m/usr/local/lib/python3.10/dist-packages/loopy/codegen/control.py\u001b[0m in \u001b[0;36mgen_code\u001b[0;34m(inner_codegen_state)\u001b[0m\n\u001b[1;32m    447\u001b[0m                     \u001b[0mresult\u001b[0m \u001b[0;34m=\u001b[0m \u001b[0;34m[\u001b[0m\u001b[0;34m]\u001b[0m\u001b[0;34m\u001b[0m\u001b[0;34m\u001b[0m\u001b[0m\n\u001b[1;32m    448\u001b[0m                     \u001b[0;32mfor\u001b[0m \u001b[0mi\u001b[0m \u001b[0;32min\u001b[0m \u001b[0morigin_si_entry\u001b[0m\u001b[0;34m.\u001b[0m\u001b[0mschedule_indices\u001b[0m\u001b[0;34m:\u001b[0m\u001b[0;34m\u001b[0m\u001b[0;34m\u001b[0m\u001b[0m\n\u001b[0;32m--> 449\u001b[0;31m                         inner = generate_code_for_sched_index(\n\u001b[0m\u001b[1;32m    450\u001b[0m                             inner_codegen_state, i)\n\u001b[1;32m    451\u001b[0m \u001b[0;34m\u001b[0m\u001b[0m\n",
            "\u001b[0;32m/usr/local/lib/python3.10/dist-packages/loopy/codegen/control.py\u001b[0m in \u001b[0;36mgenerate_code_for_sched_index\u001b[0;34m(codegen_state, sched_index)\u001b[0m\n\u001b[1;32m    117\u001b[0m                     % (sched_item.iname, \", \".join(str(tag) for tag in tags)))\n\u001b[1;32m    118\u001b[0m \u001b[0;34m\u001b[0m\u001b[0m\n\u001b[0;32m--> 119\u001b[0;31m         \u001b[0;32mreturn\u001b[0m \u001b[0mfunc\u001b[0m\u001b[0;34m(\u001b[0m\u001b[0mcodegen_state\u001b[0m\u001b[0;34m,\u001b[0m \u001b[0msched_index\u001b[0m\u001b[0;34m)\u001b[0m\u001b[0;34m\u001b[0m\u001b[0;34m\u001b[0m\u001b[0m\n\u001b[0m\u001b[1;32m    120\u001b[0m \u001b[0;34m\u001b[0m\u001b[0m\n\u001b[1;32m    121\u001b[0m     \u001b[0;32melif\u001b[0m \u001b[0misinstance\u001b[0m\u001b[0;34m(\u001b[0m\u001b[0msched_item\u001b[0m\u001b[0;34m,\u001b[0m \u001b[0mBarrier\u001b[0m\u001b[0;34m)\u001b[0m\u001b[0;34m:\u001b[0m\u001b[0;34m\u001b[0m\u001b[0;34m\u001b[0m\u001b[0m\n",
            "\u001b[0;32m/usr/local/lib/python3.10/dist-packages/loopy/codegen/loop.py\u001b[0m in \u001b[0;36mgenerate_sequential_loop_dim_code\u001b[0;34m(codegen_state, sched_index, hints)\u001b[0m\n\u001b[1;32m    442\u001b[0m                     kernel, slab, loop_iname)))\n\u001b[1;32m    443\u001b[0m \u001b[0;34m\u001b[0m\u001b[0m\n\u001b[0;32m--> 444\u001b[0;31m         \u001b[0minner\u001b[0m \u001b[0;34m=\u001b[0m \u001b[0mbuild_loop_nest\u001b[0m\u001b[0;34m(\u001b[0m\u001b[0mnew_codegen_state\u001b[0m\u001b[0;34m,\u001b[0m \u001b[0msched_index\u001b[0m\u001b[0;34m+\u001b[0m\u001b[0;36m1\u001b[0m\u001b[0;34m)\u001b[0m\u001b[0;34m\u001b[0m\u001b[0;34m\u001b[0m\u001b[0m\n\u001b[0m\u001b[1;32m    445\u001b[0m \u001b[0;34m\u001b[0m\u001b[0m\n\u001b[1;32m    446\u001b[0m         \u001b[0;31m# }}}\u001b[0m\u001b[0;34m\u001b[0m\u001b[0;34m\u001b[0m\u001b[0m\n",
            "\u001b[0;32m/usr/local/lib/python3.10/dist-packages/loopy/codegen/control.py\u001b[0m in \u001b[0;36mbuild_loop_nest\u001b[0;34m(codegen_state, schedule_index)\u001b[0m\n\u001b[1;32m    512\u001b[0m     \u001b[0;31m# }}}\u001b[0m\u001b[0;34m\u001b[0m\u001b[0;34m\u001b[0m\u001b[0m\n\u001b[1;32m    513\u001b[0m \u001b[0;34m\u001b[0m\u001b[0m\n\u001b[0;32m--> 514\u001b[0;31m     \u001b[0minsn_group\u001b[0m \u001b[0;34m=\u001b[0m \u001b[0mbuild_insn_group\u001b[0m\u001b[0;34m(\u001b[0m\u001b[0msched_index_info_entries\u001b[0m\u001b[0;34m,\u001b[0m \u001b[0mcodegen_state\u001b[0m\u001b[0;34m)\u001b[0m\u001b[0;34m\u001b[0m\u001b[0;34m\u001b[0m\u001b[0m\n\u001b[0m\u001b[1;32m    515\u001b[0m     return merge_codegen_results(\n\u001b[1;32m    516\u001b[0m             \u001b[0mcodegen_state\u001b[0m\u001b[0;34m,\u001b[0m\u001b[0;34m\u001b[0m\u001b[0;34m\u001b[0m\u001b[0m\n",
            "\u001b[0;32m/usr/local/lib/python3.10/dist-packages/loopy/codegen/control.py\u001b[0m in \u001b[0;36mbuild_insn_group\u001b[0;34m(sched_index_info_entries, codegen_state, done_group_lengths)\u001b[0m\n\u001b[1;32m    505\u001b[0m \u001b[0;34m\u001b[0m\u001b[0m\n\u001b[1;32m    506\u001b[0m             \u001b[0;32melse\u001b[0m\u001b[0;34m:\u001b[0m\u001b[0;34m\u001b[0m\u001b[0;34m\u001b[0m\u001b[0m\n\u001b[0;32m--> 507\u001b[0;31m                 \u001b[0mresult\u001b[0m \u001b[0;34m=\u001b[0m \u001b[0mgen_code\u001b[0m\u001b[0;34m(\u001b[0m\u001b[0mnew_codegen_state\u001b[0m\u001b[0;34m)\u001b[0m\u001b[0;34m\u001b[0m\u001b[0;34m\u001b[0m\u001b[0m\n\u001b[0m\u001b[1;32m    508\u001b[0m \u001b[0;34m\u001b[0m\u001b[0m\n\u001b[1;32m    509\u001b[0m         return result + build_insn_group(\n",
            "\u001b[0;32m/usr/local/lib/python3.10/dist-packages/loopy/codegen/control.py\u001b[0m in \u001b[0;36mgen_code\u001b[0;34m(inner_codegen_state)\u001b[0m\n\u001b[1;32m    447\u001b[0m                     \u001b[0mresult\u001b[0m \u001b[0;34m=\u001b[0m \u001b[0;34m[\u001b[0m\u001b[0;34m]\u001b[0m\u001b[0;34m\u001b[0m\u001b[0;34m\u001b[0m\u001b[0m\n\u001b[1;32m    448\u001b[0m                     \u001b[0;32mfor\u001b[0m \u001b[0mi\u001b[0m \u001b[0;32min\u001b[0m \u001b[0morigin_si_entry\u001b[0m\u001b[0;34m.\u001b[0m\u001b[0mschedule_indices\u001b[0m\u001b[0;34m:\u001b[0m\u001b[0;34m\u001b[0m\u001b[0;34m\u001b[0m\u001b[0m\n\u001b[0;32m--> 449\u001b[0;31m                         inner = generate_code_for_sched_index(\n\u001b[0m\u001b[1;32m    450\u001b[0m                             inner_codegen_state, i)\n\u001b[1;32m    451\u001b[0m \u001b[0;34m\u001b[0m\u001b[0m\n",
            "\u001b[0;32m/usr/local/lib/python3.10/dist-packages/loopy/codegen/control.py\u001b[0m in \u001b[0;36mgenerate_code_for_sched_index\u001b[0;34m(codegen_state, sched_index)\u001b[0m\n\u001b[1;32m    117\u001b[0m                     % (sched_item.iname, \", \".join(str(tag) for tag in tags)))\n\u001b[1;32m    118\u001b[0m \u001b[0;34m\u001b[0m\u001b[0m\n\u001b[0;32m--> 119\u001b[0;31m         \u001b[0;32mreturn\u001b[0m \u001b[0mfunc\u001b[0m\u001b[0;34m(\u001b[0m\u001b[0mcodegen_state\u001b[0m\u001b[0;34m,\u001b[0m \u001b[0msched_index\u001b[0m\u001b[0;34m)\u001b[0m\u001b[0;34m\u001b[0m\u001b[0;34m\u001b[0m\u001b[0m\n\u001b[0m\u001b[1;32m    120\u001b[0m \u001b[0;34m\u001b[0m\u001b[0m\n\u001b[1;32m    121\u001b[0m     \u001b[0;32melif\u001b[0m \u001b[0misinstance\u001b[0m\u001b[0;34m(\u001b[0m\u001b[0msched_item\u001b[0m\u001b[0;34m,\u001b[0m \u001b[0mBarrier\u001b[0m\u001b[0;34m)\u001b[0m\u001b[0;34m:\u001b[0m\u001b[0;34m\u001b[0m\u001b[0;34m\u001b[0m\u001b[0m\n",
            "\u001b[0;32m/usr/local/lib/python3.10/dist-packages/loopy/codegen/loop.py\u001b[0m in \u001b[0;36mgenerate_sequential_loop_dim_code\u001b[0;34m(codegen_state, sched_index, hints)\u001b[0m\n\u001b[1;32m    442\u001b[0m                     kernel, slab, loop_iname)))\n\u001b[1;32m    443\u001b[0m \u001b[0;34m\u001b[0m\u001b[0m\n\u001b[0;32m--> 444\u001b[0;31m         \u001b[0minner\u001b[0m \u001b[0;34m=\u001b[0m \u001b[0mbuild_loop_nest\u001b[0m\u001b[0;34m(\u001b[0m\u001b[0mnew_codegen_state\u001b[0m\u001b[0;34m,\u001b[0m \u001b[0msched_index\u001b[0m\u001b[0;34m+\u001b[0m\u001b[0;36m1\u001b[0m\u001b[0;34m)\u001b[0m\u001b[0;34m\u001b[0m\u001b[0;34m\u001b[0m\u001b[0m\n\u001b[0m\u001b[1;32m    445\u001b[0m \u001b[0;34m\u001b[0m\u001b[0m\n\u001b[1;32m    446\u001b[0m         \u001b[0;31m# }}}\u001b[0m\u001b[0;34m\u001b[0m\u001b[0;34m\u001b[0m\u001b[0m\n",
            "\u001b[0;32m/usr/local/lib/python3.10/dist-packages/loopy/codegen/control.py\u001b[0m in \u001b[0;36mbuild_loop_nest\u001b[0;34m(codegen_state, schedule_index)\u001b[0m\n\u001b[1;32m    512\u001b[0m     \u001b[0;31m# }}}\u001b[0m\u001b[0;34m\u001b[0m\u001b[0;34m\u001b[0m\u001b[0m\n\u001b[1;32m    513\u001b[0m \u001b[0;34m\u001b[0m\u001b[0m\n\u001b[0;32m--> 514\u001b[0;31m     \u001b[0minsn_group\u001b[0m \u001b[0;34m=\u001b[0m \u001b[0mbuild_insn_group\u001b[0m\u001b[0;34m(\u001b[0m\u001b[0msched_index_info_entries\u001b[0m\u001b[0;34m,\u001b[0m \u001b[0mcodegen_state\u001b[0m\u001b[0;34m)\u001b[0m\u001b[0;34m\u001b[0m\u001b[0;34m\u001b[0m\u001b[0m\n\u001b[0m\u001b[1;32m    515\u001b[0m     return merge_codegen_results(\n\u001b[1;32m    516\u001b[0m             \u001b[0mcodegen_state\u001b[0m\u001b[0;34m,\u001b[0m\u001b[0;34m\u001b[0m\u001b[0;34m\u001b[0m\u001b[0m\n",
            "\u001b[0;32m/usr/local/lib/python3.10/dist-packages/loopy/codegen/control.py\u001b[0m in \u001b[0;36mbuild_insn_group\u001b[0;34m(sched_index_info_entries, codegen_state, done_group_lengths)\u001b[0m\n\u001b[1;32m    507\u001b[0m                 \u001b[0mresult\u001b[0m \u001b[0;34m=\u001b[0m \u001b[0mgen_code\u001b[0m\u001b[0;34m(\u001b[0m\u001b[0mnew_codegen_state\u001b[0m\u001b[0;34m)\u001b[0m\u001b[0;34m\u001b[0m\u001b[0;34m\u001b[0m\u001b[0m\n\u001b[1;32m    508\u001b[0m \u001b[0;34m\u001b[0m\u001b[0m\n\u001b[0;32m--> 509\u001b[0;31m         return result + build_insn_group(\n\u001b[0m\u001b[1;32m    510\u001b[0m                 sched_index_info_entries[group_length:], codegen_state)\n\u001b[1;32m    511\u001b[0m \u001b[0;34m\u001b[0m\u001b[0m\n",
            "\u001b[0;32m/usr/local/lib/python3.10/dist-packages/loopy/codegen/control.py\u001b[0m in \u001b[0;36mbuild_insn_group\u001b[0;34m(sched_index_info_entries, codegen_state, done_group_lengths)\u001b[0m\n\u001b[1;32m    505\u001b[0m \u001b[0;34m\u001b[0m\u001b[0m\n\u001b[1;32m    506\u001b[0m             \u001b[0;32melse\u001b[0m\u001b[0;34m:\u001b[0m\u001b[0;34m\u001b[0m\u001b[0;34m\u001b[0m\u001b[0m\n\u001b[0;32m--> 507\u001b[0;31m                 \u001b[0mresult\u001b[0m \u001b[0;34m=\u001b[0m \u001b[0mgen_code\u001b[0m\u001b[0;34m(\u001b[0m\u001b[0mnew_codegen_state\u001b[0m\u001b[0;34m)\u001b[0m\u001b[0;34m\u001b[0m\u001b[0;34m\u001b[0m\u001b[0m\n\u001b[0m\u001b[1;32m    508\u001b[0m \u001b[0;34m\u001b[0m\u001b[0m\n\u001b[1;32m    509\u001b[0m         return result + build_insn_group(\n",
            "\u001b[0;32m/usr/local/lib/python3.10/dist-packages/loopy/codegen/control.py\u001b[0m in \u001b[0;36mgen_code\u001b[0;34m(inner_codegen_state)\u001b[0m\n\u001b[1;32m    447\u001b[0m                     \u001b[0mresult\u001b[0m \u001b[0;34m=\u001b[0m \u001b[0;34m[\u001b[0m\u001b[0;34m]\u001b[0m\u001b[0;34m\u001b[0m\u001b[0;34m\u001b[0m\u001b[0m\n\u001b[1;32m    448\u001b[0m                     \u001b[0;32mfor\u001b[0m \u001b[0mi\u001b[0m \u001b[0;32min\u001b[0m \u001b[0morigin_si_entry\u001b[0m\u001b[0;34m.\u001b[0m\u001b[0mschedule_indices\u001b[0m\u001b[0;34m:\u001b[0m\u001b[0;34m\u001b[0m\u001b[0;34m\u001b[0m\u001b[0m\n\u001b[0;32m--> 449\u001b[0;31m                         inner = generate_code_for_sched_index(\n\u001b[0m\u001b[1;32m    450\u001b[0m                             inner_codegen_state, i)\n\u001b[1;32m    451\u001b[0m \u001b[0;34m\u001b[0m\u001b[0m\n",
            "\u001b[0;32m/usr/local/lib/python3.10/dist-packages/loopy/codegen/control.py\u001b[0m in \u001b[0;36mgenerate_code_for_sched_index\u001b[0;34m(codegen_state, sched_index)\u001b[0m\n\u001b[1;32m    117\u001b[0m                     % (sched_item.iname, \", \".join(str(tag) for tag in tags)))\n\u001b[1;32m    118\u001b[0m \u001b[0;34m\u001b[0m\u001b[0m\n\u001b[0;32m--> 119\u001b[0;31m         \u001b[0;32mreturn\u001b[0m \u001b[0mfunc\u001b[0m\u001b[0;34m(\u001b[0m\u001b[0mcodegen_state\u001b[0m\u001b[0;34m,\u001b[0m \u001b[0msched_index\u001b[0m\u001b[0;34m)\u001b[0m\u001b[0;34m\u001b[0m\u001b[0;34m\u001b[0m\u001b[0m\n\u001b[0m\u001b[1;32m    120\u001b[0m \u001b[0;34m\u001b[0m\u001b[0m\n\u001b[1;32m    121\u001b[0m     \u001b[0;32melif\u001b[0m \u001b[0misinstance\u001b[0m\u001b[0;34m(\u001b[0m\u001b[0msched_item\u001b[0m\u001b[0;34m,\u001b[0m \u001b[0mBarrier\u001b[0m\u001b[0;34m)\u001b[0m\u001b[0;34m:\u001b[0m\u001b[0;34m\u001b[0m\u001b[0;34m\u001b[0m\u001b[0m\n",
            "\u001b[0;32m/usr/local/lib/python3.10/dist-packages/loopy/codegen/loop.py\u001b[0m in \u001b[0;36mgenerate_sequential_loop_dim_code\u001b[0;34m(codegen_state, sched_index, hints)\u001b[0m\n\u001b[1;32m    442\u001b[0m                     kernel, slab, loop_iname)))\n\u001b[1;32m    443\u001b[0m \u001b[0;34m\u001b[0m\u001b[0m\n\u001b[0;32m--> 444\u001b[0;31m         \u001b[0minner\u001b[0m \u001b[0;34m=\u001b[0m \u001b[0mbuild_loop_nest\u001b[0m\u001b[0;34m(\u001b[0m\u001b[0mnew_codegen_state\u001b[0m\u001b[0;34m,\u001b[0m \u001b[0msched_index\u001b[0m\u001b[0;34m+\u001b[0m\u001b[0;36m1\u001b[0m\u001b[0;34m)\u001b[0m\u001b[0;34m\u001b[0m\u001b[0;34m\u001b[0m\u001b[0m\n\u001b[0m\u001b[1;32m    445\u001b[0m \u001b[0;34m\u001b[0m\u001b[0m\n\u001b[1;32m    446\u001b[0m         \u001b[0;31m# }}}\u001b[0m\u001b[0;34m\u001b[0m\u001b[0;34m\u001b[0m\u001b[0m\n",
            "\u001b[0;32m/usr/local/lib/python3.10/dist-packages/loopy/codegen/control.py\u001b[0m in \u001b[0;36mbuild_loop_nest\u001b[0;34m(codegen_state, schedule_index)\u001b[0m\n\u001b[1;32m    512\u001b[0m     \u001b[0;31m# }}}\u001b[0m\u001b[0;34m\u001b[0m\u001b[0;34m\u001b[0m\u001b[0m\n\u001b[1;32m    513\u001b[0m \u001b[0;34m\u001b[0m\u001b[0m\n\u001b[0;32m--> 514\u001b[0;31m     \u001b[0minsn_group\u001b[0m \u001b[0;34m=\u001b[0m \u001b[0mbuild_insn_group\u001b[0m\u001b[0;34m(\u001b[0m\u001b[0msched_index_info_entries\u001b[0m\u001b[0;34m,\u001b[0m \u001b[0mcodegen_state\u001b[0m\u001b[0;34m)\u001b[0m\u001b[0;34m\u001b[0m\u001b[0;34m\u001b[0m\u001b[0m\n\u001b[0m\u001b[1;32m    515\u001b[0m     return merge_codegen_results(\n\u001b[1;32m    516\u001b[0m             \u001b[0mcodegen_state\u001b[0m\u001b[0;34m,\u001b[0m\u001b[0;34m\u001b[0m\u001b[0;34m\u001b[0m\u001b[0m\n",
            "\u001b[0;32m/usr/local/lib/python3.10/dist-packages/loopy/codegen/control.py\u001b[0m in \u001b[0;36mbuild_insn_group\u001b[0;34m(sched_index_info_entries, codegen_state, done_group_lengths)\u001b[0m\n\u001b[1;32m    505\u001b[0m \u001b[0;34m\u001b[0m\u001b[0m\n\u001b[1;32m    506\u001b[0m             \u001b[0;32melse\u001b[0m\u001b[0;34m:\u001b[0m\u001b[0;34m\u001b[0m\u001b[0;34m\u001b[0m\u001b[0m\n\u001b[0;32m--> 507\u001b[0;31m                 \u001b[0mresult\u001b[0m \u001b[0;34m=\u001b[0m \u001b[0mgen_code\u001b[0m\u001b[0;34m(\u001b[0m\u001b[0mnew_codegen_state\u001b[0m\u001b[0;34m)\u001b[0m\u001b[0;34m\u001b[0m\u001b[0;34m\u001b[0m\u001b[0m\n\u001b[0m\u001b[1;32m    508\u001b[0m \u001b[0;34m\u001b[0m\u001b[0m\n\u001b[1;32m    509\u001b[0m         return result + build_insn_group(\n",
            "\u001b[0;32m/usr/local/lib/python3.10/dist-packages/loopy/codegen/control.py\u001b[0m in \u001b[0;36mgen_code\u001b[0;34m(inner_codegen_state)\u001b[0m\n\u001b[1;32m    447\u001b[0m                     \u001b[0mresult\u001b[0m \u001b[0;34m=\u001b[0m \u001b[0;34m[\u001b[0m\u001b[0;34m]\u001b[0m\u001b[0;34m\u001b[0m\u001b[0;34m\u001b[0m\u001b[0m\n\u001b[1;32m    448\u001b[0m                     \u001b[0;32mfor\u001b[0m \u001b[0mi\u001b[0m \u001b[0;32min\u001b[0m \u001b[0morigin_si_entry\u001b[0m\u001b[0;34m.\u001b[0m\u001b[0mschedule_indices\u001b[0m\u001b[0;34m:\u001b[0m\u001b[0;34m\u001b[0m\u001b[0;34m\u001b[0m\u001b[0m\n\u001b[0;32m--> 449\u001b[0;31m                         inner = generate_code_for_sched_index(\n\u001b[0m\u001b[1;32m    450\u001b[0m                             inner_codegen_state, i)\n\u001b[1;32m    451\u001b[0m \u001b[0;34m\u001b[0m\u001b[0m\n",
            "\u001b[0;32m/usr/local/lib/python3.10/dist-packages/loopy/codegen/control.py\u001b[0m in \u001b[0;36mgenerate_code_for_sched_index\u001b[0;34m(codegen_state, sched_index)\u001b[0m\n\u001b[1;32m    156\u001b[0m \u001b[0;34m\u001b[0m\u001b[0m\n\u001b[1;32m    157\u001b[0m         \u001b[0;32mfrom\u001b[0m \u001b[0mloopy\u001b[0m\u001b[0;34m.\u001b[0m\u001b[0mcodegen\u001b[0m\u001b[0;34m.\u001b[0m\u001b[0minstruction\u001b[0m \u001b[0;32mimport\u001b[0m \u001b[0mgenerate_instruction_code\u001b[0m\u001b[0;34m\u001b[0m\u001b[0;34m\u001b[0m\u001b[0m\n\u001b[0;32m--> 158\u001b[0;31m         return codegen_state.try_vectorized(\n\u001b[0m\u001b[1;32m    159\u001b[0m                 \u001b[0;34m\"instruction %s\"\u001b[0m \u001b[0;34m%\u001b[0m \u001b[0minsn\u001b[0m\u001b[0;34m.\u001b[0m\u001b[0mid\u001b[0m\u001b[0;34m,\u001b[0m\u001b[0;34m\u001b[0m\u001b[0;34m\u001b[0m\u001b[0m\n\u001b[1;32m    160\u001b[0m                 lambda inner_cgs: generate_instruction_code(inner_cgs, insn))\n",
            "\u001b[0;32m/usr/local/lib/python3.10/dist-packages/loopy/codegen/__init__.py\u001b[0m in \u001b[0;36mtry_vectorized\u001b[0;34m(self, what, func)\u001b[0m\n\u001b[1;32m    280\u001b[0m \u001b[0;34m\u001b[0m\u001b[0m\n\u001b[1;32m    281\u001b[0m         \u001b[0;32mif\u001b[0m \u001b[0mself\u001b[0m\u001b[0;34m.\u001b[0m\u001b[0mvectorization_info\u001b[0m \u001b[0;32mis\u001b[0m \u001b[0;32mNone\u001b[0m\u001b[0;34m:\u001b[0m\u001b[0;34m\u001b[0m\u001b[0;34m\u001b[0m\u001b[0m\n\u001b[0;32m--> 282\u001b[0;31m             \u001b[0;32mreturn\u001b[0m \u001b[0mfunc\u001b[0m\u001b[0;34m(\u001b[0m\u001b[0mself\u001b[0m\u001b[0;34m)\u001b[0m\u001b[0;34m\u001b[0m\u001b[0;34m\u001b[0m\u001b[0m\n\u001b[0m\u001b[1;32m    283\u001b[0m \u001b[0;34m\u001b[0m\u001b[0m\n\u001b[1;32m    284\u001b[0m         \u001b[0;32mtry\u001b[0m\u001b[0;34m:\u001b[0m\u001b[0;34m\u001b[0m\u001b[0;34m\u001b[0m\u001b[0m\n",
            "\u001b[0;32m/usr/local/lib/python3.10/dist-packages/loopy/codegen/control.py\u001b[0m in \u001b[0;36m<lambda>\u001b[0;34m(inner_cgs)\u001b[0m\n\u001b[1;32m    158\u001b[0m         return codegen_state.try_vectorized(\n\u001b[1;32m    159\u001b[0m                 \u001b[0;34m\"instruction %s\"\u001b[0m \u001b[0;34m%\u001b[0m \u001b[0minsn\u001b[0m\u001b[0;34m.\u001b[0m\u001b[0mid\u001b[0m\u001b[0;34m,\u001b[0m\u001b[0;34m\u001b[0m\u001b[0;34m\u001b[0m\u001b[0m\n\u001b[0;32m--> 160\u001b[0;31m                 lambda inner_cgs: generate_instruction_code(inner_cgs, insn))\n\u001b[0m\u001b[1;32m    161\u001b[0m \u001b[0;34m\u001b[0m\u001b[0m\n\u001b[1;32m    162\u001b[0m     \u001b[0;32melse\u001b[0m\u001b[0;34m:\u001b[0m\u001b[0;34m\u001b[0m\u001b[0;34m\u001b[0m\u001b[0m\n",
            "\u001b[0;32m/usr/local/lib/python3.10/dist-packages/loopy/codegen/instruction.py\u001b[0m in \u001b[0;36mgenerate_instruction_code\u001b[0;34m(codegen_state, insn)\u001b[0m\n\u001b[1;32m    102\u001b[0m \u001b[0;34m\u001b[0m\u001b[0m\n\u001b[1;32m    103\u001b[0m     \u001b[0;32mif\u001b[0m \u001b[0misinstance\u001b[0m\u001b[0;34m(\u001b[0m\u001b[0minsn\u001b[0m\u001b[0;34m,\u001b[0m \u001b[0mAssignment\u001b[0m\u001b[0;34m)\u001b[0m\u001b[0;34m:\u001b[0m\u001b[0;34m\u001b[0m\u001b[0;34m\u001b[0m\u001b[0m\n\u001b[0;32m--> 104\u001b[0;31m         \u001b[0mast\u001b[0m \u001b[0;34m=\u001b[0m \u001b[0mgenerate_assignment_instruction_code\u001b[0m\u001b[0;34m(\u001b[0m\u001b[0mcodegen_state\u001b[0m\u001b[0;34m,\u001b[0m \u001b[0minsn\u001b[0m\u001b[0;34m)\u001b[0m\u001b[0;34m\u001b[0m\u001b[0;34m\u001b[0m\u001b[0m\n\u001b[0m\u001b[1;32m    105\u001b[0m     \u001b[0;32melif\u001b[0m \u001b[0misinstance\u001b[0m\u001b[0;34m(\u001b[0m\u001b[0minsn\u001b[0m\u001b[0;34m,\u001b[0m \u001b[0mCallInstruction\u001b[0m\u001b[0;34m)\u001b[0m\u001b[0;34m:\u001b[0m\u001b[0;34m\u001b[0m\u001b[0;34m\u001b[0m\u001b[0m\n\u001b[1;32m    106\u001b[0m         \u001b[0mast\u001b[0m \u001b[0;34m=\u001b[0m \u001b[0mgenerate_call_code\u001b[0m\u001b[0;34m(\u001b[0m\u001b[0mcodegen_state\u001b[0m\u001b[0;34m,\u001b[0m \u001b[0minsn\u001b[0m\u001b[0;34m)\u001b[0m\u001b[0;34m\u001b[0m\u001b[0;34m\u001b[0m\u001b[0m\n",
            "\u001b[0;32m/usr/local/lib/python3.10/dist-packages/loopy/codegen/instruction.py\u001b[0m in \u001b[0;36mgenerate_assignment_instruction_code\u001b[0;34m(codegen_state, insn)\u001b[0m\n\u001b[1;32m    179\u001b[0m     \u001b[0;32mdel\u001b[0m \u001b[0mlhs\u001b[0m\u001b[0;34m\u001b[0m\u001b[0;34m\u001b[0m\u001b[0m\n\u001b[1;32m    180\u001b[0m \u001b[0;34m\u001b[0m\u001b[0m\n\u001b[0;32m--> 181\u001b[0;31m     \u001b[0mresult\u001b[0m \u001b[0;34m=\u001b[0m \u001b[0mcodegen_state\u001b[0m\u001b[0;34m.\u001b[0m\u001b[0mast_builder\u001b[0m\u001b[0;34m.\u001b[0m\u001b[0memit_assignment\u001b[0m\u001b[0;34m(\u001b[0m\u001b[0mcodegen_state\u001b[0m\u001b[0;34m,\u001b[0m \u001b[0minsn\u001b[0m\u001b[0;34m)\u001b[0m\u001b[0;34m\u001b[0m\u001b[0;34m\u001b[0m\u001b[0m\n\u001b[0m\u001b[1;32m    182\u001b[0m \u001b[0;34m\u001b[0m\u001b[0m\n\u001b[1;32m    183\u001b[0m     \u001b[0;31m# {{{ tracing\u001b[0m\u001b[0;34m\u001b[0m\u001b[0;34m\u001b[0m\u001b[0m\n",
            "\u001b[0;32m/usr/local/lib/python3.10/dist-packages/loopy/target/c/__init__.py\u001b[0m in \u001b[0;36memit_assignment\u001b[0;34m(self, codegen_state, insn)\u001b[0m\n\u001b[1;32m   1156\u001b[0m         \u001b[0;32mfrom\u001b[0m \u001b[0mloopy\u001b[0m\u001b[0;34m.\u001b[0m\u001b[0mkernel\u001b[0m\u001b[0;34m.\u001b[0m\u001b[0mdata\u001b[0m \u001b[0;32mimport\u001b[0m \u001b[0mAtomicInit\u001b[0m\u001b[0;34m,\u001b[0m \u001b[0mAtomicUpdate\u001b[0m\u001b[0;34m\u001b[0m\u001b[0;34m\u001b[0m\u001b[0m\n\u001b[1;32m   1157\u001b[0m \u001b[0;34m\u001b[0m\u001b[0m\n\u001b[0;32m-> 1158\u001b[0;31m         \u001b[0mlhs_code\u001b[0m \u001b[0;34m=\u001b[0m \u001b[0mecm\u001b[0m\u001b[0;34m(\u001b[0m\u001b[0minsn\u001b[0m\u001b[0;34m.\u001b[0m\u001b[0massignee\u001b[0m\u001b[0;34m,\u001b[0m \u001b[0mprec\u001b[0m\u001b[0;34m=\u001b[0m\u001b[0mPREC_NONE\u001b[0m\u001b[0;34m,\u001b[0m \u001b[0mtype_context\u001b[0m\u001b[0;34m=\u001b[0m\u001b[0;32mNone\u001b[0m\u001b[0;34m)\u001b[0m\u001b[0;34m\u001b[0m\u001b[0;34m\u001b[0m\u001b[0m\n\u001b[0m\u001b[1;32m   1159\u001b[0m         \u001b[0mrhs_type_context\u001b[0m \u001b[0;34m=\u001b[0m \u001b[0mdtype_to_type_context\u001b[0m\u001b[0;34m(\u001b[0m\u001b[0mkernel\u001b[0m\u001b[0;34m.\u001b[0m\u001b[0mtarget\u001b[0m\u001b[0;34m,\u001b[0m \u001b[0mlhs_dtype\u001b[0m\u001b[0;34m)\u001b[0m\u001b[0;34m\u001b[0m\u001b[0;34m\u001b[0m\u001b[0m\n\u001b[1;32m   1160\u001b[0m \u001b[0;34m\u001b[0m\u001b[0m\n",
            "\u001b[0;32m/usr/local/lib/python3.10/dist-packages/loopy/target/c/codegen/expression.py\u001b[0m in \u001b[0;36m__call__\u001b[0;34m(self, expr, prec, type_context, needed_dtype)\u001b[0m\n\u001b[1;32m    142\u001b[0m         return CExpression(\n\u001b[1;32m    143\u001b[0m                 \u001b[0mself\u001b[0m\u001b[0;34m.\u001b[0m\u001b[0mcodegen_state\u001b[0m\u001b[0;34m.\u001b[0m\u001b[0mast_builder\u001b[0m\u001b[0;34m.\u001b[0m\u001b[0mget_c_expression_to_code_mapper\u001b[0m\u001b[0;34m(\u001b[0m\u001b[0;34m)\u001b[0m\u001b[0;34m,\u001b[0m\u001b[0;34m\u001b[0m\u001b[0;34m\u001b[0m\u001b[0m\n\u001b[0;32m--> 144\u001b[0;31m                 self.rec(expr, type_context, needed_dtype))\n\u001b[0m\u001b[1;32m    145\u001b[0m \u001b[0;34m\u001b[0m\u001b[0m\n\u001b[1;32m    146\u001b[0m     \u001b[0;31m# }}}\u001b[0m\u001b[0;34m\u001b[0m\u001b[0;34m\u001b[0m\u001b[0m\n",
            "\u001b[0;32m/usr/local/lib/python3.10/dist-packages/loopy/target/c/codegen/expression.py\u001b[0m in \u001b[0;36mrec\u001b[0;34m(self, expr, type_context, needed_type)\u001b[0m\n\u001b[1;32m    126\u001b[0m \u001b[0;34m\u001b[0m\u001b[0m\n\u001b[1;32m    127\u001b[0m     \u001b[0;32mdef\u001b[0m \u001b[0mrec\u001b[0m\u001b[0;34m(\u001b[0m\u001b[0mself\u001b[0m\u001b[0;34m,\u001b[0m \u001b[0mexpr\u001b[0m\u001b[0;34m,\u001b[0m \u001b[0mtype_context\u001b[0m\u001b[0;34m=\u001b[0m\u001b[0;32mNone\u001b[0m\u001b[0;34m,\u001b[0m \u001b[0mneeded_type\u001b[0m\u001b[0;34m:\u001b[0m \u001b[0mOptional\u001b[0m\u001b[0;34m[\u001b[0m\u001b[0mLoopyType\u001b[0m\u001b[0;34m]\u001b[0m \u001b[0;34m=\u001b[0m \u001b[0;32mNone\u001b[0m\u001b[0;34m)\u001b[0m\u001b[0;34m:\u001b[0m\u001b[0;34m\u001b[0m\u001b[0;34m\u001b[0m\u001b[0m\n\u001b[0;32m--> 128\u001b[0;31m         \u001b[0mresult\u001b[0m \u001b[0;34m=\u001b[0m \u001b[0mRecursiveMapper\u001b[0m\u001b[0;34m.\u001b[0m\u001b[0mrec\u001b[0m\u001b[0;34m(\u001b[0m\u001b[0mself\u001b[0m\u001b[0;34m,\u001b[0m \u001b[0mexpr\u001b[0m\u001b[0;34m,\u001b[0m \u001b[0mtype_context\u001b[0m\u001b[0;34m)\u001b[0m\u001b[0;34m\u001b[0m\u001b[0;34m\u001b[0m\u001b[0m\n\u001b[0m\u001b[1;32m    129\u001b[0m \u001b[0;34m\u001b[0m\u001b[0m\n\u001b[1;32m    130\u001b[0m         \u001b[0;32mif\u001b[0m \u001b[0mneeded_type\u001b[0m \u001b[0;32mis\u001b[0m \u001b[0;32mNone\u001b[0m\u001b[0;34m:\u001b[0m\u001b[0;34m\u001b[0m\u001b[0;34m\u001b[0m\u001b[0m\n",
            "\u001b[0;32m/usr/local/lib/python3.10/dist-packages/pymbolic/mapper/__init__.py\u001b[0m in \u001b[0;36m__call__\u001b[0;34m(self, expr, *args, **kwargs)\u001b[0m\n\u001b[1;32m    139\u001b[0m             \u001b[0mmethod\u001b[0m \u001b[0;34m=\u001b[0m \u001b[0mgetattr\u001b[0m\u001b[0;34m(\u001b[0m\u001b[0mself\u001b[0m\u001b[0;34m,\u001b[0m \u001b[0mmethod_name\u001b[0m\u001b[0;34m,\u001b[0m \u001b[0;32mNone\u001b[0m\u001b[0;34m)\u001b[0m\u001b[0;34m\u001b[0m\u001b[0;34m\u001b[0m\u001b[0m\n\u001b[1;32m    140\u001b[0m             \u001b[0;32mif\u001b[0m \u001b[0mmethod\u001b[0m \u001b[0;32mis\u001b[0m \u001b[0;32mnot\u001b[0m \u001b[0;32mNone\u001b[0m\u001b[0;34m:\u001b[0m\u001b[0;34m\u001b[0m\u001b[0;34m\u001b[0m\u001b[0m\n\u001b[0;32m--> 141\u001b[0;31m                 \u001b[0mresult\u001b[0m \u001b[0;34m=\u001b[0m \u001b[0mmethod\u001b[0m\u001b[0;34m(\u001b[0m\u001b[0mexpr\u001b[0m\u001b[0;34m,\u001b[0m \u001b[0;34m*\u001b[0m\u001b[0margs\u001b[0m\u001b[0;34m,\u001b[0m \u001b[0;34m**\u001b[0m\u001b[0mkwargs\u001b[0m\u001b[0;34m)\u001b[0m\u001b[0;34m\u001b[0m\u001b[0;34m\u001b[0m\u001b[0m\n\u001b[0m\u001b[1;32m    142\u001b[0m                 \u001b[0;32mreturn\u001b[0m \u001b[0mresult\u001b[0m\u001b[0;34m\u001b[0m\u001b[0;34m\u001b[0m\u001b[0m\n\u001b[1;32m    143\u001b[0m \u001b[0;34m\u001b[0m\u001b[0m\n",
            "\u001b[0;32m/usr/local/lib/python3.10/dist-packages/loopy/target/c/codegen/expression.py\u001b[0m in \u001b[0;36mmap_subscript\u001b[0;34m(self, expr, type_context)\u001b[0m\n\u001b[1;32m    229\u001b[0m         \u001b[0;32mfrom\u001b[0m \u001b[0mloopy\u001b[0m\u001b[0;34m.\u001b[0m\u001b[0mkernel\u001b[0m\u001b[0;34m.\u001b[0m\u001b[0marray\u001b[0m \u001b[0;32mimport\u001b[0m \u001b[0mget_access_info\u001b[0m\u001b[0;34m\u001b[0m\u001b[0;34m\u001b[0m\u001b[0m\n\u001b[1;32m    230\u001b[0m         \u001b[0;32mfrom\u001b[0m \u001b[0mloopy\u001b[0m\u001b[0;34m.\u001b[0m\u001b[0msymbolic\u001b[0m \u001b[0;32mimport\u001b[0m \u001b[0msimplify_using_aff\u001b[0m\u001b[0;34m\u001b[0m\u001b[0;34m\u001b[0m\u001b[0m\n\u001b[0;32m--> 231\u001b[0;31m         index_tuple = tuple(\n\u001b[0m\u001b[1;32m    232\u001b[0m                 simplify_using_aff(self.kernel, idx) for idx in expr.index_tuple)\n\u001b[1;32m    233\u001b[0m \u001b[0;34m\u001b[0m\u001b[0m\n",
            "\u001b[0;32m/usr/local/lib/python3.10/dist-packages/loopy/target/c/codegen/expression.py\u001b[0m in \u001b[0;36m<genexpr>\u001b[0;34m(.0)\u001b[0m\n\u001b[1;32m    230\u001b[0m         \u001b[0;32mfrom\u001b[0m \u001b[0mloopy\u001b[0m\u001b[0;34m.\u001b[0m\u001b[0msymbolic\u001b[0m \u001b[0;32mimport\u001b[0m \u001b[0msimplify_using_aff\u001b[0m\u001b[0;34m\u001b[0m\u001b[0;34m\u001b[0m\u001b[0m\n\u001b[1;32m    231\u001b[0m         index_tuple = tuple(\n\u001b[0;32m--> 232\u001b[0;31m                 simplify_using_aff(self.kernel, idx) for idx in expr.index_tuple)\n\u001b[0m\u001b[1;32m    233\u001b[0m \u001b[0;34m\u001b[0m\u001b[0m\n\u001b[1;32m    234\u001b[0m         access_info = get_access_info(self.kernel, ary, index_tuple,\n",
            "\u001b[0;32m/usr/local/lib/python3.10/dist-packages/pytools/__init__.py\u001b[0m in \u001b[0;36mwrapper\u001b[0;34m(obj, *args, **kwargs)\u001b[0m\n\u001b[1;32m    798\u001b[0m             \u001b[0mattribute_error\u001b[0m \u001b[0;34m=\u001b[0m \u001b[0;32mFalse\u001b[0m\u001b[0;34m\u001b[0m\u001b[0;34m\u001b[0m\u001b[0m\n\u001b[1;32m    799\u001b[0m \u001b[0;34m\u001b[0m\u001b[0m\n\u001b[0;32m--> 800\u001b[0;31m         \u001b[0mresult\u001b[0m \u001b[0;34m=\u001b[0m \u001b[0mfunction\u001b[0m\u001b[0;34m(\u001b[0m\u001b[0mobj\u001b[0m\u001b[0;34m,\u001b[0m \u001b[0;34m*\u001b[0m\u001b[0margs\u001b[0m\u001b[0;34m,\u001b[0m \u001b[0;34m**\u001b[0m\u001b[0mkwargs\u001b[0m\u001b[0;34m)\u001b[0m\u001b[0;34m\u001b[0m\u001b[0;34m\u001b[0m\u001b[0m\n\u001b[0m\u001b[1;32m    801\u001b[0m         \u001b[0;32mif\u001b[0m \u001b[0mattribute_error\u001b[0m\u001b[0;34m:\u001b[0m\u001b[0;34m\u001b[0m\u001b[0;34m\u001b[0m\u001b[0m\n\u001b[1;32m    802\u001b[0m             \u001b[0mobject\u001b[0m\u001b[0;34m.\u001b[0m\u001b[0m__setattr__\u001b[0m\u001b[0;34m(\u001b[0m\u001b[0mobj\u001b[0m\u001b[0;34m,\u001b[0m \u001b[0mcache_dict_name\u001b[0m\u001b[0;34m,\u001b[0m \u001b[0;34m{\u001b[0m\u001b[0mkey\u001b[0m\u001b[0;34m:\u001b[0m \u001b[0mresult\u001b[0m\u001b[0;34m}\u001b[0m\u001b[0;34m)\u001b[0m\u001b[0;34m\u001b[0m\u001b[0;34m\u001b[0m\u001b[0m\n",
            "\u001b[0;32m/usr/local/lib/python3.10/dist-packages/loopy/symbolic.py\u001b[0m in \u001b[0;36msimplify_using_aff\u001b[0;34m(kernel, expr)\u001b[0m\n\u001b[1;32m   2089\u001b[0m \u001b[0;34m\u001b[0m\u001b[0m\n\u001b[1;32m   2090\u001b[0m     \u001b[0;32mtry\u001b[0m\u001b[0;34m:\u001b[0m\u001b[0;34m\u001b[0m\u001b[0;34m\u001b[0m\u001b[0m\n\u001b[0;32m-> 2091\u001b[0;31m         \u001b[0maff\u001b[0m \u001b[0;34m=\u001b[0m \u001b[0mguarded_aff_from_expr\u001b[0m\u001b[0;34m(\u001b[0m\u001b[0mdomain\u001b[0m\u001b[0;34m.\u001b[0m\u001b[0mspace\u001b[0m\u001b[0;34m,\u001b[0m \u001b[0mexpr\u001b[0m\u001b[0;34m)\u001b[0m\u001b[0;34m\u001b[0m\u001b[0;34m\u001b[0m\u001b[0m\n\u001b[0m\u001b[1;32m   2092\u001b[0m     \u001b[0;32mexcept\u001b[0m \u001b[0mExpressionToAffineConversionError\u001b[0m\u001b[0;34m:\u001b[0m\u001b[0;34m\u001b[0m\u001b[0;34m\u001b[0m\u001b[0m\n\u001b[1;32m   2093\u001b[0m         \u001b[0;32mreturn\u001b[0m \u001b[0mexpr\u001b[0m\u001b[0;34m\u001b[0m\u001b[0;34m\u001b[0m\u001b[0m\n",
            "\u001b[0;32m/usr/local/lib/python3.10/dist-packages/loopy/symbolic.py\u001b[0m in \u001b[0;36mguarded_aff_from_expr\u001b[0;34m(space, expr, vars_to_zero)\u001b[0m\n\u001b[1;32m   1974\u001b[0m     \u001b[0;34m:\u001b[0m\u001b[0mexc\u001b[0m\u001b[0;34m:\u001b[0m\u001b[0;31m`\u001b[0m\u001b[0mloopy\u001b[0m\u001b[0;34m.\u001b[0m\u001b[0mdiagnostic\u001b[0m\u001b[0;34m.\u001b[0m\u001b[0mExpressionToAffineConversionError\u001b[0m\u001b[0;31m`\u001b[0m\u001b[0;34m\u001b[0m\u001b[0;34m\u001b[0m\u001b[0m\n\u001b[1;32m   1975\u001b[0m     \"\"\"\n\u001b[0;32m-> 1976\u001b[0;31m     \u001b[0;32mreturn\u001b[0m \u001b[0mwith_aff_conversion_guard\u001b[0m\u001b[0;34m(\u001b[0m\u001b[0maff_from_expr\u001b[0m\u001b[0;34m,\u001b[0m \u001b[0mspace\u001b[0m\u001b[0;34m,\u001b[0m \u001b[0mexpr\u001b[0m\u001b[0;34m,\u001b[0m \u001b[0mvars_to_zero\u001b[0m\u001b[0;34m)\u001b[0m\u001b[0;34m\u001b[0m\u001b[0;34m\u001b[0m\u001b[0m\n\u001b[0m\u001b[1;32m   1977\u001b[0m \u001b[0;34m\u001b[0m\u001b[0m\n\u001b[1;32m   1978\u001b[0m \u001b[0;34m\u001b[0m\u001b[0m\n",
            "\u001b[0;32m/usr/local/lib/python3.10/dist-packages/loopy/symbolic.py\u001b[0m in \u001b[0;36mwith_aff_conversion_guard\u001b[0;34m(f, space, expr, *args)\u001b[0m\n\u001b[1;32m   1953\u001b[0m \u001b[0;34m\u001b[0m\u001b[0m\n\u001b[1;32m   1954\u001b[0m     \u001b[0;32mtry\u001b[0m\u001b[0;34m:\u001b[0m\u001b[0;34m\u001b[0m\u001b[0;34m\u001b[0m\u001b[0m\n\u001b[0;32m-> 1955\u001b[0;31m         \u001b[0;32mreturn\u001b[0m \u001b[0mf\u001b[0m\u001b[0;34m(\u001b[0m\u001b[0mspace\u001b[0m\u001b[0;34m,\u001b[0m \u001b[0mexpr\u001b[0m\u001b[0;34m,\u001b[0m \u001b[0;34m*\u001b[0m\u001b[0margs\u001b[0m\u001b[0;34m)\u001b[0m\u001b[0;34m\u001b[0m\u001b[0;34m\u001b[0m\u001b[0m\n\u001b[0m\u001b[1;32m   1956\u001b[0m     \u001b[0;32mexcept\u001b[0m \u001b[0mTypeError\u001b[0m \u001b[0;32mas\u001b[0m \u001b[0me\u001b[0m\u001b[0;34m:\u001b[0m\u001b[0;34m\u001b[0m\u001b[0;34m\u001b[0m\u001b[0m\n\u001b[1;32m   1957\u001b[0m         \u001b[0merr\u001b[0m \u001b[0;34m=\u001b[0m \u001b[0me\u001b[0m\u001b[0;34m\u001b[0m\u001b[0;34m\u001b[0m\u001b[0m\n",
            "\u001b[0;32m/usr/local/lib/python3.10/dist-packages/loopy/symbolic.py\u001b[0m in \u001b[0;36maff_from_expr\u001b[0;34m(space, expr, vars_to_zero)\u001b[0m\n\u001b[1;32m   1928\u001b[0m         \u001b[0mvars_to_zero\u001b[0m \u001b[0;34m=\u001b[0m \u001b[0mfrozenset\u001b[0m\u001b[0;34m(\u001b[0m\u001b[0;34m)\u001b[0m\u001b[0;34m\u001b[0m\u001b[0;34m\u001b[0m\u001b[0m\n\u001b[1;32m   1929\u001b[0m \u001b[0;34m\u001b[0m\u001b[0m\n\u001b[0;32m-> 1930\u001b[0;31m     \u001b[0mpwaff\u001b[0m \u001b[0;34m=\u001b[0m \u001b[0mpwaff_from_expr\u001b[0m\u001b[0;34m(\u001b[0m\u001b[0mspace\u001b[0m\u001b[0;34m,\u001b[0m \u001b[0mexpr\u001b[0m\u001b[0;34m,\u001b[0m \u001b[0mvars_to_zero\u001b[0m\u001b[0;34m)\u001b[0m\u001b[0;34m.\u001b[0m\u001b[0mcoalesce\u001b[0m\u001b[0;34m(\u001b[0m\u001b[0;34m)\u001b[0m\u001b[0;34m\u001b[0m\u001b[0;34m\u001b[0m\u001b[0m\n\u001b[0m\u001b[1;32m   1931\u001b[0m \u001b[0;34m\u001b[0m\u001b[0m\n\u001b[1;32m   1932\u001b[0m     \u001b[0mpieces\u001b[0m \u001b[0;34m=\u001b[0m \u001b[0mpwaff\u001b[0m\u001b[0;34m.\u001b[0m\u001b[0mget_pieces\u001b[0m\u001b[0;34m(\u001b[0m\u001b[0;34m)\u001b[0m\u001b[0;34m\u001b[0m\u001b[0;34m\u001b[0m\u001b[0m\n",
            "\u001b[0;32m/usr/local/lib/python3.10/dist-packages/loopy/symbolic.py\u001b[0m in \u001b[0;36mpwaff_from_expr\u001b[0;34m(space, expr, vars_to_zero)\u001b[0m\n\u001b[1;32m   1941\u001b[0m \u001b[0;34m\u001b[0m\u001b[0m\n\u001b[1;32m   1942\u001b[0m \u001b[0;32mdef\u001b[0m \u001b[0mpwaff_from_expr\u001b[0m\u001b[0;34m(\u001b[0m\u001b[0mspace\u001b[0m\u001b[0;34m,\u001b[0m \u001b[0mexpr\u001b[0m\u001b[0;34m,\u001b[0m \u001b[0mvars_to_zero\u001b[0m\u001b[0;34m=\u001b[0m\u001b[0;32mNone\u001b[0m\u001b[0;34m)\u001b[0m\u001b[0;34m:\u001b[0m\u001b[0;34m\u001b[0m\u001b[0;34m\u001b[0m\u001b[0m\n\u001b[0;32m-> 1943\u001b[0;31m     \u001b[0;32mreturn\u001b[0m \u001b[0mPwAffEvaluationMapper\u001b[0m\u001b[0;34m(\u001b[0m\u001b[0mspace\u001b[0m\u001b[0;34m,\u001b[0m \u001b[0mvars_to_zero\u001b[0m\u001b[0;34m)\u001b[0m\u001b[0;34m(\u001b[0m\u001b[0mexpr\u001b[0m\u001b[0;34m)\u001b[0m\u001b[0;34m\u001b[0m\u001b[0;34m\u001b[0m\u001b[0m\n\u001b[0m\u001b[1;32m   1944\u001b[0m \u001b[0;34m\u001b[0m\u001b[0m\n\u001b[1;32m   1945\u001b[0m \u001b[0;34m\u001b[0m\u001b[0m\n",
            "\u001b[0;32m/usr/local/lib/python3.10/dist-packages/loopy/symbolic.py\u001b[0m in \u001b[0;36m__init__\u001b[0;34m(self, space, vars_to_zero)\u001b[0m\n\u001b[1;32m   1869\u001b[0m         \u001b[0mself\u001b[0m\u001b[0;34m.\u001b[0m\u001b[0mpw_zero\u001b[0m \u001b[0;34m=\u001b[0m \u001b[0misl\u001b[0m\u001b[0;34m.\u001b[0m\u001b[0mPwAff\u001b[0m\u001b[0;34m.\u001b[0m\u001b[0mfrom_aff\u001b[0m\u001b[0;34m(\u001b[0m\u001b[0mself\u001b[0m\u001b[0;34m.\u001b[0m\u001b[0mzero\u001b[0m\u001b[0;34m)\u001b[0m\u001b[0;34m\u001b[0m\u001b[0;34m\u001b[0m\u001b[0m\n\u001b[1;32m   1870\u001b[0m \u001b[0;34m\u001b[0m\u001b[0m\n\u001b[0;32m-> 1871\u001b[0;31m         \u001b[0msuper\u001b[0m\u001b[0;34m(\u001b[0m\u001b[0;34m)\u001b[0m\u001b[0;34m.\u001b[0m\u001b[0m__init__\u001b[0m\u001b[0;34m(\u001b[0m\u001b[0mcontext\u001b[0m\u001b[0;34m)\u001b[0m\u001b[0;34m\u001b[0m\u001b[0;34m\u001b[0m\u001b[0m\n\u001b[0m\u001b[1;32m   1872\u001b[0m \u001b[0;34m\u001b[0m\u001b[0m\n\u001b[1;32m   1873\u001b[0m     \u001b[0;32mdef\u001b[0m \u001b[0mmap_constant\u001b[0m\u001b[0;34m(\u001b[0m\u001b[0mself\u001b[0m\u001b[0;34m,\u001b[0m \u001b[0mexpr\u001b[0m\u001b[0;34m)\u001b[0m\u001b[0;34m:\u001b[0m\u001b[0;34m\u001b[0m\u001b[0;34m\u001b[0m\u001b[0m\n",
            "\u001b[0;31mKeyboardInterrupt\u001b[0m: "
          ]
        }
      ]
    },
    {
      "cell_type": "markdown",
      "source": [
        "## Use Numpy Multiplication in the Weak Form"
      ],
      "metadata": {
        "id": "bKsna_pGHiXx"
      }
    },
    {
      "cell_type": "code",
      "source": [
        "# multiply\n",
        "\n",
        "class MyMultVect(AbstractExternalOperator):\n",
        "\n",
        "  def __init__(self, *operands, function_space, **kwargs):\n",
        "      AbstractExternalOperator.__init__(self, *operands, function_space=function_space, **kwargs)\n",
        "\n",
        "  @assemble_method(0, (0,))\n",
        "  def assemble_N(self, *args, **kwargs):\n",
        "      \"\"\"Evaluate N\"\"\"\n",
        "      a, b = self.ufl_operands\n",
        "      N = np.multiply(a, b)\n",
        "      return N"
      ],
      "metadata": {
        "id": "IxPbpuVZH2RZ"
      },
      "execution_count": null,
      "outputs": []
    },
    {
      "cell_type": "code",
      "source": [
        "# now lets solve a problem\n",
        "\n",
        "xi, eta = SpatialCoordinate(mesh)\n",
        "u = Function(V)\n",
        "v = TestFunction(V)\n",
        "f = Function(V).interpolate(as_vector([xi**2, 1]))\n",
        "g = Function(V).interpolate(as_vector([2, 1]))\n",
        "\n",
        "bcs = DirichletBC(V, 0, \"on_boundary\")\n",
        "\n",
        "\n",
        "N = MyMultVect(f, g,  function_space =  V).assemble_N()\n",
        "\n",
        "print(\"N is\")\n",
        "print(N)\n",
        "print()\n",
        "print(\"N is resturned as a \", type(N), 'so I need to convert it to ufl')\n",
        "print()\n",
        "\n",
        "\n",
        "Nnew = as_vector([N[0], N[1]]) # is this the best appraoch?\n",
        "\n",
        "F = (inner(grad(u), grad(v)) - inner(Nnew, v)) * dx\n",
        "\n",
        "solve(F == 0, u, bcs=bcs)"
      ],
      "metadata": {
        "id": "UEZGV1dtGoQ9"
      },
      "execution_count": null,
      "outputs": []
    },
    {
      "cell_type": "markdown",
      "source": [
        "## Use Numpy sin(x) In the Weak Form\n"
      ],
      "metadata": {
        "id": "NJYLYVCxIney"
      }
    },
    {
      "cell_type": "code",
      "source": [
        "class MySinVect(AbstractExternalOperator):\n",
        "\n",
        "  def __init__(self, *operands, function_space, **kwargs):\n",
        "      AbstractExternalOperator.__init__(self, *operands, function_space=function_space, **kwargs)\n",
        "\n",
        "  @assemble_method(0, (0,))\n",
        "  def assemble_N(self, *args, **kwargs):\n",
        "      \"\"\"Evaluate N\"\"\"\n",
        "      my_x = self.ufl_operands[0]\n",
        "\n",
        "      # N = np.sin(my_x)\n",
        "      # above fails because of a\n",
        "      # TypeError: loop of ufunc does not support argument 0 of type Function which has no callable sin method\n",
        "\n",
        "      N = np.sin(my_x.dat.data) # apparently I need to convert to numpy array !?\n",
        "\n",
        "      return N"
      ],
      "metadata": {
        "id": "LTBID7CvI7Cm"
      },
      "execution_count": null,
      "outputs": []
    },
    {
      "cell_type": "code",
      "source": [
        "# now lets solve a problem\n",
        "\n",
        "u = Function(V)\n",
        "v = TestFunction(V)\n",
        "f = Function(V).interpolate(as_vector([xi**2, 1]))\n",
        "\n",
        "bcs = DirichletBC(V, 0, \"on_boundary\")\n",
        "\n",
        "\n",
        "N = MySinVect(f,  function_space =  V).assemble_N()\n",
        "\n",
        "print(\"N is\")\n",
        "print(N)\n",
        "print()\n",
        "print(\"N is resturned as a \", type(N), 'so I need to convert it to ufl')\n",
        "print()\n",
        "\n",
        "\n",
        "# converting to ufl\n",
        "\n",
        "Nnew = Function(V)\n",
        "Nnew.dat.data[:] = N[:]\n",
        "\n",
        "\n",
        "F = (inner(grad(u), grad(v)) - inner(Nnew, v)) * dx\n",
        "\n",
        "solve(F == 0, u, bcs=bcs)"
      ],
      "metadata": {
        "id": "hHz8IMKJDJjj"
      },
      "execution_count": null,
      "outputs": []
    },
    {
      "cell_type": "markdown",
      "source": [
        "## Using Numpy exp(x) in the Weak Form"
      ],
      "metadata": {
        "id": "SALNEe13JewT"
      }
    },
    {
      "cell_type": "code",
      "source": [
        "class MyExpVect(AbstractExternalOperator):\n",
        "\n",
        "  def __init__(self, *operands, function_space, **kwargs):\n",
        "      AbstractExternalOperator.__init__(self, *operands, function_space=function_space, **kwargs)\n",
        "\n",
        "  @assemble_method(0, (0,))\n",
        "  def assemble_N(self, *args, **kwargs):\n",
        "      \"\"\"Evaluate N\"\"\"\n",
        "      my_x = self.ufl_operands[0]\n",
        "\n",
        "      # N = np.exp(my_x)\n",
        "      # above fails because of a\n",
        "      # TTypeError: loop of ufunc does not support argument 0 of type Indexed which has no callable exp method\n",
        "\n",
        "      N = np.sin(my_x.dat.data) # apparently I need to convert to numpy array !?\n",
        "\n",
        "      return N"
      ],
      "metadata": {
        "id": "-BEr-gerJm0W"
      },
      "execution_count": null,
      "outputs": []
    },
    {
      "cell_type": "code",
      "source": [
        "# now lets solve a problem\n",
        "\n",
        "u = Function(V)\n",
        "v = TestFunction(V)\n",
        "f = Function(V).interpolate(as_vector([xi**2, 1]))\n",
        "\n",
        "bcs = DirichletBC(V, 0, \"on_boundary\")\n",
        "\n",
        "\n",
        "N = MyExpVect(f,  function_space =  V).assemble_N()\n",
        "\n",
        "print(\"N is\")\n",
        "print(N)\n",
        "print()\n",
        "print(\"N is resturned as a \", type(N), 'so I need to convert it to ufl')\n",
        "print()\n",
        "\n",
        "\n",
        "# converting to ufl\n",
        "\n",
        "Nnew = Function(V)\n",
        "Nnew.dat.data[:] = N[:]\n",
        "\n",
        "\n",
        "F = (inner(grad(u), grad(v)) - inner(Nnew, v)) * dx\n",
        "\n",
        "solve(F == 0, u, bcs=bcs)"
      ],
      "metadata": {
        "id": "2-KpiEfMJm0W"
      },
      "execution_count": null,
      "outputs": []
    },
    {
      "cell_type": "markdown",
      "source": [
        "# Matrices"
      ],
      "metadata": {
        "id": "uE8WhyxwLPfw"
      }
    },
    {
      "cell_type": "markdown",
      "source": [
        "## Use Numpy's Matrix Multiply in the Weak Form (WORKS ?)"
      ],
      "metadata": {
        "id": "5EhOiJmHSzvE"
      }
    },
    {
      "cell_type": "code",
      "source": [
        "class MyMultMatrix(AbstractExternalOperator):\n",
        "\n",
        "  def __init__(self, *operands, function_space, **kwargs):\n",
        "      AbstractExternalOperator.__init__(self, *operands, function_space=function_space, **kwargs)\n",
        "\n",
        "  @assemble_method(0, (0,))\n",
        "  def assemble_N(self, *args, **kwargs):\n",
        "      \"\"\"Evaluate N\"\"\"\n",
        "      a, b = self.ufl_operands\n",
        "      N = np.multiply(a, b)\n",
        "      return N"
      ],
      "metadata": {
        "id": "4JdFXM_ESzvK"
      },
      "execution_count": null,
      "outputs": []
    },
    {
      "cell_type": "code",
      "source": [
        "V = FunctionSpace(mesh, \"CG\", 2)\n",
        "W = VectorFunctionSpace(mesh, \"CG\", 2)\n",
        "\n",
        "f1 = Function(V).interpolate(xi**2 - 1)\n",
        "f2 = Function(V).interpolate(eta**2 + 1)\n",
        "f3 = Function(V).interpolate(xi**2 + 1 )\n",
        "f4 = Function(V).interpolate(eta**2 - 1)\n",
        "f = as_matrix( [[f1, f2], [f3, f4]] )\n",
        "\n",
        "g1 = Function(V).interpolate(1)\n",
        "g2 = Function(V).interpolate(2)\n",
        "g3 = Function(V).interpolate(3)\n",
        "g4 = Function(V).interpolate(4)\n",
        "g = as_matrix( [[g1, g2], [g3, g4]] )\n",
        "\n",
        "N = MyMultMatrix(f, g, function_space =  V).assemble_N()\n",
        "\n",
        "\n",
        "print(N)\n",
        "print()\n",
        "print(\"N is of type\", type(N), \"without any conversions\")"
      ],
      "metadata": {
        "id": "vEkLhYWvSzvK"
      },
      "execution_count": null,
      "outputs": []
    },
    {
      "cell_type": "code",
      "source": [
        "u = Function(W)\n",
        "v = TestFunction(W)\n",
        "bcs = DirichletBC(W, 0, \"on_boundary\")\n",
        "\n",
        "F = inner( grad(v), dot( N, grad(u)) ) * dx\n",
        "\n",
        "solve(F == 0, u, bcs=bcs)"
      ],
      "metadata": {
        "id": "nv3H0C9hSzvK"
      },
      "execution_count": null,
      "outputs": []
    },
    {
      "cell_type": "markdown",
      "source": [
        "## Use Numpy's Component Wise Absolute Value in the Weak Form (FAILS)"
      ],
      "metadata": {
        "id": "aKg6uvaWLRDl"
      }
    },
    {
      "cell_type": "code",
      "source": [
        "class MyAbsMatrix(AbstractExternalOperator):\n",
        "\n",
        "  def __init__(self, *operands, function_space, **kwargs):\n",
        "      AbstractExternalOperator.__init__(self, *operands, function_space=function_space, **kwargs)\n",
        "\n",
        "  @assemble_method(0, (0,))\n",
        "  def assemble_N(self, *args, **kwargs):\n",
        "      \"\"\"Evaluate N\"\"\"\n",
        "      a = self.ufl_operands[0]\n",
        "      N = np.abs(a)\n",
        "      return N"
      ],
      "metadata": {
        "id": "0wHt4CTKJ1BC"
      },
      "execution_count": null,
      "outputs": []
    },
    {
      "cell_type": "code",
      "source": [
        "V = FunctionSpace(mesh, \"CG\", 2)\n",
        "W = VectorFunctionSpace(mesh, \"CG\", 2)\n",
        "f1 = Function(V).interpolate(xi**2 - 1)\n",
        "f2 = Function(V).interpolate(eta**2 + 1)\n",
        "f3 = Function(V).interpolate(xi**2 + 1 )\n",
        "f4 = Function(V).interpolate(eta**2 - 1)\n",
        "f = as_matrix( [[f1, f2], [f3, f4]] )\n",
        "\n",
        "N = MyAbsMatrix(f, function_space =  V).assemble_N()\n",
        "\n",
        "\n",
        "print(N)\n",
        "print()\n",
        "print(\"N is of type\", type(N), \"without any conversions\")"
      ],
      "metadata": {
        "id": "Bpf7ulh_MK3Z"
      },
      "execution_count": null,
      "outputs": []
    },
    {
      "cell_type": "code",
      "source": [
        "u = Function(W)\n",
        "v = TestFunction(W)\n",
        "bcs = DirichletBC(V, 0, \"on_boundary\")\n",
        "\n",
        "F = inner( grad(v), dot( N, grad(u)) ) * dx\n",
        "\n",
        "# solve(F == 0, u, bcs=bcs) # FAILS\n",
        "# ValueError: Expecting scalar arguments."
      ],
      "metadata": {
        "id": "HvWFTcSsPfE7"
      },
      "execution_count": null,
      "outputs": []
    },
    {
      "cell_type": "markdown",
      "source": [
        "## Let's Use a Scipy Tool (FAILS)"
      ],
      "metadata": {
        "id": "pR3o9gMmWf2j"
      }
    },
    {
      "cell_type": "markdown",
      "source": [
        "### Similar To What I Have In My Hessian Code"
      ],
      "metadata": {
        "id": "KNvjp6jqmTxD"
      }
    },
    {
      "cell_type": "code",
      "source": [
        "class MyInvMatrix(AbstractExternalOperator):\n",
        "\n",
        "  def __init__(self, *operands, function_space, **kwargs):\n",
        "      AbstractExternalOperator.__init__(self, *operands, function_space=function_space, **kwargs)\n",
        "\n",
        "  @assemble_method(0, (0,))\n",
        "  def assemble_N(self, *args, **kwargs):\n",
        "      \"\"\"Evaluate N\"\"\"\n",
        "\n",
        "      a1, a2, a3, a4 = self.ufl_operands\n",
        "\n",
        "      points = len(a1.dat.data)\n",
        "      result = np.zeros((2, 2, points))\n",
        "\n",
        "      for i in range(points):\n",
        "\n",
        "        curr_a = np.array([[a1.dat.data[i], a2.dat.data[i]], [a3.dat.data[i], a4.dat.data[i]]])\n",
        "        result[:, :, i] = sci.linalg.inv(curr_a)\n",
        "\n",
        "      return result"
      ],
      "metadata": {
        "id": "QA8bnG0SWy_0"
      },
      "execution_count": null,
      "outputs": []
    },
    {
      "cell_type": "code",
      "source": [
        "V = FunctionSpace(mesh, \"CG\", 2)\n",
        "W = VectorFunctionSpace(mesh, \"CG\", 2)\n",
        "\n",
        "\n",
        "f1 = Function(V).interpolate(xi**2 - 1)\n",
        "f2 = Function(V).interpolate(1)\n",
        "f3 = Function(V).interpolate(xi**2 + 1 )\n",
        "f4 = Function(V).interpolate(2)\n",
        "\n",
        "\n",
        "f = as_matrix( [[f1, f2], [f3, f4]] )\n",
        "\n",
        "\n",
        "N = MyInvMatrix(f1, f2, f3, f4, function_space =  V).assemble_N()\n",
        "\n",
        "\n",
        "\n",
        "print(\"N is of type\", type(N), \"so we need to convert to ufl\")\n",
        "print()\n",
        "\n",
        "\n",
        "N1 = Function(V)\n",
        "N2 = Function(V)\n",
        "N3 = Function(V)\n",
        "N4 = Function(V)\n",
        "N1.dat.data[:] = N[0, 0, :]\n",
        "N2.dat.data[:] = N[0, 1, :]\n",
        "N3.dat.data[:] = N[1, 0, :]\n",
        "N4.dat.data[:] = N[1, 1, :]\n",
        "Nnew = as_matrix([ [ N1, N2 ] , [ N3, N4 ]] )\n",
        "\n",
        "\n",
        "print(\"N is now of type\", type(Nnew))\n",
        "\n",
        "\n"
      ],
      "metadata": {
        "id": "dY-B7qOwWy_0"
      },
      "execution_count": null,
      "outputs": []
    },
    {
      "cell_type": "code",
      "source": [
        "u = Function(W)\n",
        "v = TestFunction(W)\n",
        "bcs = DirichletBC(W, 0, \"on_boundary\")\n",
        "\n",
        "F = inner( grad(v), dot( Nnew, grad(u)) ) * dx\n",
        "\n",
        "solve(F == 0, u, bcs=bcs)"
      ],
      "metadata": {
        "id": "7mzaNuxfoWFz"
      },
      "execution_count": null,
      "outputs": []
    },
    {
      "cell_type": "markdown",
      "source": [
        "### What I Would Like to Have (fails tho)"
      ],
      "metadata": {
        "id": "Rk82LtXBmbd7"
      }
    },
    {
      "cell_type": "code",
      "source": [
        "class MyInvMatrix(AbstractExternalOperator):\n",
        "\n",
        "  def __init__(self, *operands, function_space, **kwargs):\n",
        "      AbstractExternalOperator.__init__(self, *operands, function_space=function_space, **kwargs)\n",
        "\n",
        "  @assemble_method(0, (0,))\n",
        "  def assemble_N(self, *args, **kwargs):\n",
        "      \"\"\"Evaluate N\"\"\"\n",
        "\n",
        "      a = self.ufl_operands[0]\n",
        "\n",
        "      N = sci.linalg.inv(a)\n",
        "\n",
        "      # fails - causes ValueError: object arrays are not supported\n",
        "\n",
        "      return N"
      ],
      "metadata": {
        "id": "5x746XuGjwEq"
      },
      "execution_count": null,
      "outputs": []
    },
    {
      "cell_type": "code",
      "source": [
        "V = FunctionSpace(mesh, \"CG\", 2)\n",
        "W = VectorFunctionSpace(mesh, \"CG\", 2)\n",
        "\n",
        "\n",
        "f1 = Function(V).interpolate(xi**2 - 1)\n",
        "f2 = Function(V).interpolate(eta**2 + 1)\n",
        "f3 = Function(V).interpolate(xi**2 + 1 )\n",
        "f4 = Function(V).interpolate(eta**2 - 1)\n",
        "\n",
        "\n",
        "f = as_matrix( [[f1, f2], [f3, f4]] )\n",
        "\n",
        "\n",
        "N = MyInvMatrix(f, function_space =  V).assemble_N()\n",
        "\n",
        "\n",
        "print(N)\n",
        "print()\n",
        "print(\"N is of type\", type(N), \"without any conversions\")"
      ],
      "metadata": {
        "id": "2GlZhixVjwEw"
      },
      "execution_count": null,
      "outputs": []
    },
    {
      "cell_type": "code",
      "source": [
        "u = Function(W)\n",
        "v = TestFunction(W)\n",
        "bcs = DirichletBC(W, 0, \"on_boundary\")\n",
        "\n",
        "F = inner( grad(v), dot( N, grad(u)) ) * dx\n",
        "\n",
        "solve(F == 0, u, bcs=bcs)"
      ],
      "metadata": {
        "id": "CiGm66pBWy_0"
      },
      "execution_count": null,
      "outputs": []
    }
  ]
}