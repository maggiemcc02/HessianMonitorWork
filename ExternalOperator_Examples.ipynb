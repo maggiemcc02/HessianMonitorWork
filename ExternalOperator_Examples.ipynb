{
  "nbformat": 4,
  "nbformat_minor": 0,
  "metadata": {
    "colab": {
      "provenance": [],
      "toc_visible": true,
      "include_colab_link": true
    },
    "kernelspec": {
      "name": "python3",
      "display_name": "Python 3"
    },
    "language_info": {
      "name": "python"
    }
  },
  "cells": [
    {
      "cell_type": "markdown",
      "metadata": {
        "id": "view-in-github",
        "colab_type": "text"
      },
      "source": [
        "<a href=\"https://colab.research.google.com/github/maggiemcc02/HessianMonitorWork/blob/main/ExternalOperator_Examples.ipynb\" target=\"_parent\"><img src=\"https://colab.research.google.com/assets/colab-badge.svg\" alt=\"Open In Colab\"/></a>"
      ]
    },
    {
      "cell_type": "markdown",
      "source": [
        "# Introduction\n",
        "\n",
        "In this notebook I explore some simple examples where I make use of ExternalOperator in my weak forms\n",
        "\n",
        "In particular, I explore which numpy tools work with ExternalOperator without me having to convert between numpy and firedrake objects. I also explore the tools that require me to convert objects between librairies.\n",
        "\n",
        "\n",
        "Overall, I think these examples can tell me alot about how I will need to use the ExternalOperator to compute my Hessian based monitor function!"
      ],
      "metadata": {
        "id": "0GHQ44qBKOnC"
      }
    },
    {
      "cell_type": "markdown",
      "source": [
        "## Imports"
      ],
      "metadata": {
        "id": "Lc50tWshKMlc"
      }
    },
    {
      "cell_type": "code",
      "execution_count": 56,
      "metadata": {
        "id": "gF-gC6bYD90D"
      },
      "outputs": [],
      "source": [
        "# install firedrake\n",
        "\n",
        "# hide output\n",
        "%%capture\n",
        "\n",
        "try:\n",
        "    import firedrake\n",
        "except ImportError:\n",
        "    !wget \"https://fem-on-colab.github.io/releases/firedrake-install-real.sh\" -O \"/tmp/firedrake-install.sh\" && bash \"/tmp/firedrake-install.sh\"\n",
        "    import firedrake"
      ]
    },
    {
      "cell_type": "code",
      "execution_count": 57,
      "metadata": {
        "id": "8rqrhhMuECYs"
      },
      "outputs": [],
      "source": [
        "# Code in this cell makes plots appear an appropriate size and resolution in the browser window\n",
        "\n",
        "%config InlineBackend.figure_format = 'svg'\n",
        "\n",
        "import matplotlib.pyplot as plt\n",
        "\n",
        "plt.rcParams['figure.figsize'] = (11, 6)"
      ]
    },
    {
      "cell_type": "code",
      "execution_count": 58,
      "metadata": {
        "id": "tEmo6H13EF8f"
      },
      "outputs": [],
      "source": [
        "# import firedrake tools\n",
        "from firedrake import *\n",
        "import numpy as np\n",
        "import matplotlib.pyplot as plt # firedrake makes use of matplotlib tools\n",
        "from firedrake.pyplot import tripcolor, tricontour, triplot #firedrake plotting\n",
        "from IPython.display import display\n",
        "from mpl_toolkits import mplot3d\n",
        "import scipy as sci\n"
      ]
    },
    {
      "cell_type": "code",
      "source": [
        "import mpi4py\n",
        "import mpi4py.rc\n",
        "#mpi4py.rc.threaded = False"
      ],
      "metadata": {
        "id": "t0WUOmZ3iemm"
      },
      "execution_count": 59,
      "outputs": []
    },
    {
      "cell_type": "markdown",
      "source": [
        "# Scalar Functions"
      ],
      "metadata": {
        "id": "ZJ1HTw1TFxzL"
      }
    },
    {
      "cell_type": "markdown",
      "source": [
        "## Firedrake Example"
      ],
      "metadata": {
        "id": "kS1zmvCz-hml"
      }
    },
    {
      "cell_type": "code",
      "source": [
        "# external operator check\n",
        "\n",
        "class TranslationOperator(AbstractExternalOperator):\n",
        "\n",
        "  def __init__(self, *operands, function_space, **kwargs):\n",
        "      AbstractExternalOperator.__init__(self, *operands, function_space=function_space, **kwargs)\n",
        "\n",
        "  @assemble_method(0, (0,))\n",
        "  def assemble_N(self, *args, **kwargs):\n",
        "      \"\"\"Evaluate N\"\"\"\n",
        "      print('Being Used')\n",
        "      print()\n",
        "      u, f = self.ufl_operands\n",
        "      N = assemble(u - f)\n",
        "      return N\n",
        "\n",
        "  @assemble_method((1, 0), (0, 1))\n",
        "  def assemble_Jacobian(self, *args, **kwargs):\n",
        "      \"\"\"Evaluate the Jacobian of N\"\"\"\n",
        "      dNdu = Function(self.function_space()).assign(1)\n",
        "\n",
        "      print(\"Jacobian being used\")\n",
        "      print()\n",
        "\n",
        "      # Construct the Jacobian matrix\n",
        "      integral_types = set(['cell'])\n",
        "      assembly_opts = kwargs.get('assembly_opts')\n",
        "      J = self._matrix_builder((), assembly_opts, integral_types)\n",
        "      print(type(J))\n",
        "      print()\n",
        "      with dNdu.dat.vec as vec:\n",
        "          J.petscmat.setDiagonal(vec)\n",
        "      print(type(J))\n",
        "      print()\n",
        "      return J"
      ],
      "metadata": {
        "id": "k_PLt3-g8KWm"
      },
      "execution_count": 60,
      "outputs": []
    },
    {
      "cell_type": "code",
      "source": [
        "mesh = UnitSquareMesh(8, 8)\n",
        "V = FunctionSpace(mesh, \"CG\", 1)\n",
        "\n",
        "u = Function(V)\n",
        "v = TestFunction(V)\n",
        "f = Function(V).interpolate(1)\n",
        "bcs = DirichletBC(V, 0, \"on_boundary\")\n",
        "\n",
        "# This Fails - WHY?\n",
        "\n",
        "# NJ = TranslationOperator(u, f, function_space=V).assemble_Jacobian()\n",
        "# print(type(NJ))\n",
        "# print()\n",
        "\n",
        "\n",
        "N = TranslationOperator(u, f, function_space=V)\n",
        "F = (inner(grad(u), grad(v)) + inner(N, v)) * dx\n",
        "solve(F == 0, u, bcs=bcs)"
      ],
      "metadata": {
        "colab": {
          "base_uri": "https://localhost:8080/"
        },
        "id": "3iFH3Vgm8KN5",
        "outputId": "cfa0de36-9ec4-4d38-e86a-b4588bbc8943"
      },
      "execution_count": 61,
      "outputs": [
        {
          "output_type": "stream",
          "name": "stdout",
          "text": [
            "Being Used\n",
            "\n",
            "Jacobian being used\n",
            "\n",
            "<class 'firedrake.matrix.Matrix'>\n",
            "\n",
            "<class 'firedrake.matrix.Matrix'>\n",
            "\n",
            "Being Used\n",
            "\n"
          ]
        }
      ]
    },
    {
      "cell_type": "markdown",
      "source": [
        "## Use Numpy Absolute Value in the Weak Form"
      ],
      "metadata": {
        "id": "5bQmyWng-jVH"
      }
    },
    {
      "cell_type": "code",
      "source": [
        "class AbsVal(AbstractExternalOperator):\n",
        "\n",
        "  def __init__(self, *operands, function_space, **kwargs):\n",
        "      AbstractExternalOperator.__init__(self, *operands, function_space=function_space, **kwargs)\n",
        "\n",
        "  @assemble_method(0, (0,))\n",
        "  def assemble_N(self, *args, **kwargs):\n",
        "      \"\"\"Evaluate N\"\"\"\n",
        "      f = self.ufl_operands[0]\n",
        "      N = np.abs(f)\n",
        "      return N\n"
      ],
      "metadata": {
        "id": "iyL2drbv-6xI"
      },
      "execution_count": 62,
      "outputs": []
    },
    {
      "cell_type": "code",
      "source": [
        "mesh = UnitSquareMesh(24, 24)\n",
        "xi, eta = SpatialCoordinate(mesh)\n",
        "V = FunctionSpace(mesh, \"CG\", 1)\n",
        "\n",
        "f = Function(V).interpolate(xi**2 - 1)\n",
        "\n",
        "# print(f.dat.data)\n",
        "# print()\n",
        "\n",
        "N = AbsVal(f, function_space =  V).assemble_N()\n",
        "print(N)\n",
        "print(\"N is of type\", type(N), \"without any conversions\")"
      ],
      "metadata": {
        "colab": {
          "base_uri": "https://localhost:8080/"
        },
        "id": "bqAXL3v5-old",
        "outputId": "dbfe38b3-4730-4d56-ed74-ec6d8afcbb11"
      },
      "execution_count": 63,
      "outputs": [
        {
          "output_type": "stream",
          "name": "stdout",
          "text": [
            "|w₄₃₈|\n",
            "N is of type <class 'ufl.algebra.Abs'> without any conversions\n"
          ]
        }
      ]
    },
    {
      "cell_type": "code",
      "source": [
        "u = Function(V)\n",
        "v = TestFunction(V)\n",
        "\n",
        "bcs = DirichletBC(V, 0, \"on_boundary\")\n",
        "\n",
        "F = (inner(grad(u), grad(v)) - inner(N, v)) * dx\n",
        "solve(F == 0, u, bcs=bcs)"
      ],
      "metadata": {
        "id": "jjUnfj9ZBTFe"
      },
      "execution_count": 64,
      "outputs": []
    },
    {
      "cell_type": "markdown",
      "source": [
        "## Use Numpy Multiplication in the Weak Form"
      ],
      "metadata": {
        "id": "Jrt2I69NIfjV"
      }
    },
    {
      "cell_type": "code",
      "source": [
        "# multiply\n",
        "\n",
        "class MyMult(AbstractExternalOperator):\n",
        "\n",
        "  def __init__(self, *operands, function_space, **kwargs):\n",
        "      AbstractExternalOperator.__init__(self, *operands, function_space=function_space, **kwargs)\n",
        "\n",
        "  @assemble_method(0, (0,))\n",
        "  def assemble_N(self, *args, **kwargs):\n",
        "      \"\"\"Evaluate N\"\"\"\n",
        "      a, b = self.ufl_operands\n",
        "      N = np.multiply(a, b)\n",
        "      return N"
      ],
      "metadata": {
        "id": "tHCWvBDgCrye"
      },
      "execution_count": 65,
      "outputs": []
    },
    {
      "cell_type": "code",
      "source": [
        "# now lets solve a problem\n",
        "\n",
        "mesh = UnitSquareMesh(24, 24)\n",
        "xi, eta = SpatialCoordinate(mesh)\n",
        "V = FunctionSpace(mesh, \"CG\", 1)\n",
        "u = Function(V)\n",
        "v = TestFunction(V)\n",
        "f = Function(V).interpolate(xi**2)\n",
        "g = Function(V).interpolate(2)\n",
        "\n",
        "bcs = DirichletBC(V, 0, \"on_boundary\")\n",
        "\n",
        "N = MyMult(g, f, function_space=V).assemble_N()\n",
        "\n",
        "print(\"N is of type\", type(N), \"without any conversions\")\n",
        "\n",
        "\n",
        "F = (inner(grad(u), grad(v)) - inner(N, v)) * dx\n",
        "solve(F == 0, u, bcs=bcs)"
      ],
      "metadata": {
        "colab": {
          "base_uri": "https://localhost:8080/"
        },
        "id": "POABBNi-EN_a",
        "outputId": "fbd28205-4f2d-4a8a-c328-a8fc37887268"
      },
      "execution_count": 66,
      "outputs": [
        {
          "output_type": "stream",
          "name": "stdout",
          "text": [
            "N is of type <class 'ufl.algebra.Product'> without any conversions\n"
          ]
        }
      ]
    },
    {
      "cell_type": "markdown",
      "source": [
        "## Use Numpy sin(x) in the Weak Form (Conversions Required!)"
      ],
      "metadata": {
        "id": "6sCdFwRZImYs"
      }
    },
    {
      "cell_type": "code",
      "source": [
        "class MySin(AbstractExternalOperator):\n",
        "\n",
        "  def __init__(self, *operands, function_space, **kwargs):\n",
        "      AbstractExternalOperator.__init__(self, *operands, function_space=function_space, **kwargs)\n",
        "\n",
        "  @assemble_method(0, (0,))\n",
        "  def assemble_N(self, *args, **kwargs):\n",
        "      \"\"\"Evaluate N\"\"\"\n",
        "      my_x = self.ufl_operands[0]\n",
        "\n",
        "\n",
        "      # N = np.sin(my_x)\n",
        "      # above fails because of a\n",
        "      # TypeError: loop of ufunc does not support argument 0 of type Function which has no callable sin method\n",
        "\n",
        "      N = np.sin(my_x.dat.data) # apparently I need to convert to numpy array !?\n",
        "\n",
        "      return N"
      ],
      "metadata": {
        "id": "OerQn3z6ImKH"
      },
      "execution_count": 67,
      "outputs": []
    },
    {
      "cell_type": "code",
      "source": [
        "# now lets solve a problem\n",
        "\n",
        "mesh = UnitSquareMesh(24, 24)\n",
        "xi, eta = SpatialCoordinate(mesh)\n",
        "V = FunctionSpace(mesh, \"CG\", 1)\n",
        "u = Function(V)\n",
        "v = TestFunction(V)\n",
        "my_x = Function(V).interpolate(xi**2)\n",
        "\n",
        "bcs = DirichletBC(V, 0, \"on_boundary\")\n",
        "\n",
        "\n",
        "N = MySin(my_x, function_space=V).assemble_N()\n",
        "\n",
        "print(\"N is resturned as a \", type(N), 'so I need to convert it to ufl')\n",
        "\n",
        "\n",
        "N_new = Function(V)\n",
        "N_new.dat.data[:] = N[:]\n",
        "\n",
        "\n",
        "F = (inner(grad(u), grad(v)) - inner(N_new, v)) * dx\n",
        "solve(F == 0, u, bcs=bcs)"
      ],
      "metadata": {
        "colab": {
          "base_uri": "https://localhost:8080/"
        },
        "id": "WhVkfsT4I2dA",
        "outputId": "10dd722f-e651-466f-dce7-d23889d6f63c"
      },
      "execution_count": 68,
      "outputs": [
        {
          "output_type": "stream",
          "name": "stdout",
          "text": [
            "N is resturned as a  <class 'numpy.ndarray'> so I need to convert it to ufl\n"
          ]
        }
      ]
    },
    {
      "cell_type": "markdown",
      "source": [
        "## Use Numpy exp(x) in the Weak Form (Conversions Required!)"
      ],
      "metadata": {
        "id": "yJJFuz3iEhsz"
      }
    },
    {
      "cell_type": "code",
      "source": [
        "class MyExp(AbstractExternalOperator):\n",
        "\n",
        "  def __init__(self, *operands, function_space, **kwargs):\n",
        "      AbstractExternalOperator.__init__(self, *operands, function_space=function_space, **kwargs)\n",
        "\n",
        "  @assemble_method(0, (0,))\n",
        "  def assemble_N(self, *args, **kwargs):\n",
        "      \"\"\"Evaluate N\"\"\"\n",
        "      my_x = self.ufl_operands[0]\n",
        "\n",
        "\n",
        "      # N = np.exp(my_x)\n",
        "      # above fails because of a\n",
        "      # TypeError: loop of ufunc does not support argument 0 of type Function which has no callable exp method\n",
        "\n",
        "      N = np.exp(my_x.dat.data) # apparently I need to convert to numpy array !?\n",
        "\n",
        "      return N"
      ],
      "metadata": {
        "id": "XXRVJJwQEhs0"
      },
      "execution_count": 69,
      "outputs": []
    },
    {
      "cell_type": "code",
      "source": [
        "# now lets solve a problem\n",
        "\n",
        "mesh = UnitSquareMesh(24, 24)\n",
        "xi, eta = SpatialCoordinate(mesh)\n",
        "V = FunctionSpace(mesh, \"CG\", 1)\n",
        "u = Function(V)\n",
        "v = TestFunction(V)\n",
        "my_x = Function(V).interpolate(xi**2)\n",
        "\n",
        "bcs = DirichletBC(V, 0, \"on_boundary\")\n",
        "\n",
        "\n",
        "N = MyExp(my_x, function_space=V).assemble_N()\n",
        "\n",
        "print(\"N is resturned as a \", type(N), 'so I need to convert it to ufl')\n",
        "\n",
        "\n",
        "N_new = Function(V)\n",
        "N_new.dat.data[:] = N[:]\n",
        "\n",
        "\n",
        "F = (inner(grad(u), grad(v)) - inner(N_new, v)) * dx\n",
        "solve(F == 0, u, bcs=bcs)"
      ],
      "metadata": {
        "colab": {
          "base_uri": "https://localhost:8080/"
        },
        "outputId": "82703fcd-73ca-4b1b-9f28-ef62ef2c2ee5",
        "id": "ulSBKE6GEhs0"
      },
      "execution_count": 70,
      "outputs": [
        {
          "output_type": "stream",
          "name": "stdout",
          "text": [
            "N is resturned as a  <class 'numpy.ndarray'> so I need to convert it to ufl\n"
          ]
        }
      ]
    },
    {
      "cell_type": "markdown",
      "source": [
        "# Vectors"
      ],
      "metadata": {
        "id": "e8YHepuk_duL"
      }
    },
    {
      "cell_type": "markdown",
      "source": [
        "## Use Numpy Absolute Value in Weak Form"
      ],
      "metadata": {
        "id": "8OMTRBS9HcHf"
      }
    },
    {
      "cell_type": "code",
      "source": [
        "class MyAbsVect(AbstractExternalOperator):\n",
        "\n",
        "  def __init__(self, *operands, function_space, **kwargs):\n",
        "      AbstractExternalOperator.__init__(self, *operands, function_space=function_space, **kwargs)\n",
        "\n",
        "  @assemble_method(0, (0,))\n",
        "  def assemble_N(self, *args, **kwargs):\n",
        "      \"\"\"Evaluate N\"\"\"\n",
        "      a = self.ufl_operands[0]\n",
        "      N = np.abs(a)\n",
        "      return N"
      ],
      "metadata": {
        "id": "_1elHw_X4AYF"
      },
      "execution_count": 71,
      "outputs": []
    },
    {
      "cell_type": "code",
      "source": [
        "V = VectorFunctionSpace(mesh, \"CG\", 1)\n",
        "\n",
        "f = Function(V).interpolate(as_vector( [xi**2 - 1, eta**2 - 1] ))\n",
        "\n",
        "N = MyAbsVect(f, function_space =  V).assemble_N()\n",
        "\n",
        "print(\"N is\")\n",
        "print(N)\n",
        "print()\n",
        "print(\"N is resturned as a \", type(N), 'so I need to convert it to ufl')\n",
        "print()\n",
        "\n",
        "\n",
        "Nnew = as_vector([N[0], N[1]]) # is this the best appraoch?\n"
      ],
      "metadata": {
        "colab": {
          "base_uri": "https://localhost:8080/"
        },
        "id": "AQfFIcfI_LW_",
        "outputId": "303324e2-09b1-4dbc-fbdb-0739ddf979ca"
      },
      "execution_count": 72,
      "outputs": [
        {
          "output_type": "stream",
          "name": "stdout",
          "text": [
            "N is\n",
            "[Abs(Indexed(Coefficient(WithGeometry(FunctionSpace(<firedrake.mesh.MeshTopology object at 0x7d4e16b66c80>, VectorElement(FiniteElement('Lagrange', triangle, 1), dim=2), name=None), Mesh(VectorElement(FiniteElement('Lagrange', triangle, 1), dim=2), 244)), 499), MultiIndex((FixedIndex(0),))))\n",
            " Abs(Indexed(Coefficient(WithGeometry(FunctionSpace(<firedrake.mesh.MeshTopology object at 0x7d4e16b66c80>, VectorElement(FiniteElement('Lagrange', triangle, 1), dim=2), name=None), Mesh(VectorElement(FiniteElement('Lagrange', triangle, 1), dim=2), 244)), 499), MultiIndex((FixedIndex(1),))))]\n",
            "\n",
            "N is resturned as a  <class 'numpy.ndarray'> so I need to convert it to ufl\n",
            "\n"
          ]
        }
      ]
    },
    {
      "cell_type": "code",
      "source": [
        "u = Function(V)\n",
        "v = TestFunction(V)\n",
        "f = Function(V).interpolate(as_vector([xi**2, 1]))\n",
        "g = Function(V).interpolate(as_vector([2, 1]))\n",
        "\n",
        "bcs = DirichletBC(V, 0, \"on_boundary\")\n",
        "\n",
        "\n",
        "F = (inner(grad(u), grad(v)) - inner(Nnew, v)) * dx\n",
        "\n",
        "solve(F == 0, u, bcs=bcs)"
      ],
      "metadata": {
        "id": "Q6iGW17-MSA9"
      },
      "execution_count": 73,
      "outputs": []
    },
    {
      "cell_type": "markdown",
      "source": [
        "## Use Numpy Multiplication in the Weak Form"
      ],
      "metadata": {
        "id": "bKsna_pGHiXx"
      }
    },
    {
      "cell_type": "code",
      "source": [
        "# multiply\n",
        "\n",
        "class MyMultVect(AbstractExternalOperator):\n",
        "\n",
        "  def __init__(self, *operands, function_space, **kwargs):\n",
        "      AbstractExternalOperator.__init__(self, *operands, function_space=function_space, **kwargs)\n",
        "\n",
        "  @assemble_method(0, (0,))\n",
        "  def assemble_N(self, *args, **kwargs):\n",
        "      \"\"\"Evaluate N\"\"\"\n",
        "      a, b = self.ufl_operands\n",
        "      N = np.multiply(a, b)\n",
        "      return N"
      ],
      "metadata": {
        "id": "IxPbpuVZH2RZ"
      },
      "execution_count": 74,
      "outputs": []
    },
    {
      "cell_type": "code",
      "source": [
        "# now lets solve a problem\n",
        "\n",
        "xi, eta = SpatialCoordinate(mesh)\n",
        "u = Function(V)\n",
        "v = TestFunction(V)\n",
        "f = Function(V).interpolate(as_vector([xi**2, 1]))\n",
        "g = Function(V).interpolate(as_vector([2, 1]))\n",
        "\n",
        "bcs = DirichletBC(V, 0, \"on_boundary\")\n",
        "\n",
        "\n",
        "N = MyMultVect(f, g,  function_space =  V).assemble_N()\n",
        "\n",
        "print(\"N is\")\n",
        "print(N)\n",
        "print()\n",
        "print(\"N is resturned as a \", type(N), 'so I need to convert it to ufl')\n",
        "print()\n",
        "\n",
        "\n",
        "Nnew = as_vector([N[0], N[1]]) # is this the best appraoch?\n",
        "\n",
        "F = (inner(grad(u), grad(v)) - inner(Nnew, v)) * dx\n",
        "\n",
        "solve(F == 0, u, bcs=bcs)"
      ],
      "metadata": {
        "id": "UEZGV1dtGoQ9",
        "colab": {
          "base_uri": "https://localhost:8080/"
        },
        "outputId": "9c54a031-f841-4bc6-ede4-90f16c4adba7"
      },
      "execution_count": 75,
      "outputs": [
        {
          "output_type": "stream",
          "name": "stdout",
          "text": [
            "N is\n",
            "[Product(Indexed(Coefficient(WithGeometry(FunctionSpace(<firedrake.mesh.MeshTopology object at 0x7d4e16b66c80>, VectorElement(FiniteElement('Lagrange', triangle, 1), dim=2), name=None), Mesh(VectorElement(FiniteElement('Lagrange', triangle, 1), dim=2), 244)), 520), MultiIndex((FixedIndex(0),))), Indexed(Coefficient(WithGeometry(FunctionSpace(<firedrake.mesh.MeshTopology object at 0x7d4e16b66c80>, VectorElement(FiniteElement('Lagrange', triangle, 1), dim=2), name=None), Mesh(VectorElement(FiniteElement('Lagrange', triangle, 1), dim=2), 244)), 524), MultiIndex((FixedIndex(0),))))\n",
            " Product(Indexed(Coefficient(WithGeometry(FunctionSpace(<firedrake.mesh.MeshTopology object at 0x7d4e16b66c80>, VectorElement(FiniteElement('Lagrange', triangle, 1), dim=2), name=None), Mesh(VectorElement(FiniteElement('Lagrange', triangle, 1), dim=2), 244)), 520), MultiIndex((FixedIndex(1),))), Indexed(Coefficient(WithGeometry(FunctionSpace(<firedrake.mesh.MeshTopology object at 0x7d4e16b66c80>, VectorElement(FiniteElement('Lagrange', triangle, 1), dim=2), name=None), Mesh(VectorElement(FiniteElement('Lagrange', triangle, 1), dim=2), 244)), 524), MultiIndex((FixedIndex(1),))))]\n",
            "\n",
            "N is resturned as a  <class 'numpy.ndarray'> so I need to convert it to ufl\n",
            "\n"
          ]
        }
      ]
    },
    {
      "cell_type": "markdown",
      "source": [
        "## Use Numpy sin(x) In the Weak Form\n"
      ],
      "metadata": {
        "id": "NJYLYVCxIney"
      }
    },
    {
      "cell_type": "code",
      "source": [
        "class MySinVect(AbstractExternalOperator):\n",
        "\n",
        "  def __init__(self, *operands, function_space, **kwargs):\n",
        "      AbstractExternalOperator.__init__(self, *operands, function_space=function_space, **kwargs)\n",
        "\n",
        "  @assemble_method(0, (0,))\n",
        "  def assemble_N(self, *args, **kwargs):\n",
        "      \"\"\"Evaluate N\"\"\"\n",
        "      my_x = self.ufl_operands[0]\n",
        "\n",
        "      # N = np.sin(my_x)\n",
        "      # above fails because of a\n",
        "      # TypeError: loop of ufunc does not support argument 0 of type Function which has no callable sin method\n",
        "\n",
        "      N = np.sin(my_x.dat.data) # apparently I need to convert to numpy array !?\n",
        "\n",
        "      return N"
      ],
      "metadata": {
        "id": "LTBID7CvI7Cm"
      },
      "execution_count": 76,
      "outputs": []
    },
    {
      "cell_type": "code",
      "source": [
        "# now lets solve a problem\n",
        "\n",
        "u = Function(V)\n",
        "v = TestFunction(V)\n",
        "f = Function(V).interpolate(as_vector([xi**2, 1]))\n",
        "\n",
        "bcs = DirichletBC(V, 0, \"on_boundary\")\n",
        "\n",
        "\n",
        "N = MySinVect(f,  function_space =  V).assemble_N()\n",
        "\n",
        "print(\"N is\")\n",
        "print(N)\n",
        "print()\n",
        "print(\"N is resturned as a \", type(N), 'so I need to convert it to ufl')\n",
        "print()\n",
        "\n",
        "\n",
        "# converting to ufl\n",
        "\n",
        "Nnew = Function(V)\n",
        "Nnew.dat.data[:] = N[:]\n",
        "\n",
        "\n",
        "F = (inner(grad(u), grad(v)) - inner(Nnew, v)) * dx\n",
        "\n",
        "solve(F == 0, u, bcs=bcs)"
      ],
      "metadata": {
        "id": "hHz8IMKJDJjj",
        "colab": {
          "base_uri": "https://localhost:8080/"
        },
        "outputId": "f3df09e3-2966-470a-d7c8-b6e1cb3fc690"
      },
      "execution_count": 77,
      "outputs": [
        {
          "output_type": "stream",
          "name": "stdout",
          "text": [
            "N is\n",
            "[[0.         0.84147098]\n",
            " [0.         0.84147098]\n",
            " [0.00173611 0.84147098]\n",
            " ...\n",
            " [0.84147098 0.84147098]\n",
            " [0.79463298 0.84147098]\n",
            " [0.84147098 0.84147098]]\n",
            "\n",
            "N is resturned as a  <class 'numpy.ndarray'> so I need to convert it to ufl\n",
            "\n"
          ]
        }
      ]
    },
    {
      "cell_type": "markdown",
      "source": [
        "## Using Numpy exp(x) in the Weak Form"
      ],
      "metadata": {
        "id": "SALNEe13JewT"
      }
    },
    {
      "cell_type": "code",
      "source": [
        "class MyExpVect(AbstractExternalOperator):\n",
        "\n",
        "  def __init__(self, *operands, function_space, **kwargs):\n",
        "      AbstractExternalOperator.__init__(self, *operands, function_space=function_space, **kwargs)\n",
        "\n",
        "  @assemble_method(0, (0,))\n",
        "  def assemble_N(self, *args, **kwargs):\n",
        "      \"\"\"Evaluate N\"\"\"\n",
        "      my_x = self.ufl_operands[0]\n",
        "\n",
        "      # N = np.exp(my_x)\n",
        "      # above fails because of a\n",
        "      # TTypeError: loop of ufunc does not support argument 0 of type Indexed which has no callable exp method\n",
        "\n",
        "      N = np.sin(my_x.dat.data) # apparently I need to convert to numpy array !?\n",
        "\n",
        "      return N"
      ],
      "metadata": {
        "id": "-BEr-gerJm0W"
      },
      "execution_count": 78,
      "outputs": []
    },
    {
      "cell_type": "code",
      "source": [
        "# now lets solve a problem\n",
        "\n",
        "u = Function(V)\n",
        "v = TestFunction(V)\n",
        "f = Function(V).interpolate(as_vector([xi**2, 1]))\n",
        "\n",
        "bcs = DirichletBC(V, 0, \"on_boundary\")\n",
        "\n",
        "\n",
        "N = MyExpVect(f,  function_space =  V).assemble_N()\n",
        "\n",
        "print(\"N is\")\n",
        "print(N)\n",
        "print()\n",
        "print(\"N is resturned as a \", type(N), 'so I need to convert it to ufl')\n",
        "print()\n",
        "\n",
        "\n",
        "# converting to ufl\n",
        "\n",
        "Nnew = Function(V)\n",
        "Nnew.dat.data[:] = N[:]\n",
        "\n",
        "\n",
        "F = (inner(grad(u), grad(v)) - inner(Nnew, v)) * dx\n",
        "\n",
        "solve(F == 0, u, bcs=bcs)"
      ],
      "metadata": {
        "id": "2-KpiEfMJm0W",
        "colab": {
          "base_uri": "https://localhost:8080/"
        },
        "outputId": "2c6aedca-7297-4f9c-e271-3ffc46cb8c51"
      },
      "execution_count": 79,
      "outputs": [
        {
          "output_type": "stream",
          "name": "stdout",
          "text": [
            "N is\n",
            "[[0.         0.84147098]\n",
            " [0.         0.84147098]\n",
            " [0.00173611 0.84147098]\n",
            " ...\n",
            " [0.84147098 0.84147098]\n",
            " [0.79463298 0.84147098]\n",
            " [0.84147098 0.84147098]]\n",
            "\n",
            "N is resturned as a  <class 'numpy.ndarray'> so I need to convert it to ufl\n",
            "\n"
          ]
        }
      ]
    },
    {
      "cell_type": "markdown",
      "source": [
        "# Matrices"
      ],
      "metadata": {
        "id": "uE8WhyxwLPfw"
      }
    },
    {
      "cell_type": "markdown",
      "source": [
        "## Use Numpy's Matrix Multiply in the Weak Form (WORKS ?)"
      ],
      "metadata": {
        "id": "5EhOiJmHSzvE"
      }
    },
    {
      "cell_type": "code",
      "source": [
        "class MyMultMatrix(AbstractExternalOperator):\n",
        "\n",
        "  def __init__(self, *operands, function_space, **kwargs):\n",
        "      AbstractExternalOperator.__init__(self, *operands, function_space=function_space, **kwargs)\n",
        "\n",
        "  @assemble_method(0, (0,))\n",
        "  def assemble_N(self, *args, **kwargs):\n",
        "      \"\"\"Evaluate N\"\"\"\n",
        "      a, b = self.ufl_operands\n",
        "      N = np.multiply(a, b)\n",
        "      return N"
      ],
      "metadata": {
        "id": "4JdFXM_ESzvK"
      },
      "execution_count": 80,
      "outputs": []
    },
    {
      "cell_type": "code",
      "source": [
        "V = FunctionSpace(mesh, \"CG\", 2)\n",
        "W = VectorFunctionSpace(mesh, \"CG\", 2)\n",
        "\n",
        "f1 = Function(V).interpolate(xi**2 - 1)\n",
        "f2 = Function(V).interpolate(eta**2 + 1)\n",
        "f3 = Function(V).interpolate(xi**2 + 1 )\n",
        "f4 = Function(V).interpolate(eta**2 - 1)\n",
        "f = as_matrix( [[f1, f2], [f3, f4]] )\n",
        "\n",
        "g1 = Function(V).interpolate(1)\n",
        "g2 = Function(V).interpolate(2)\n",
        "g3 = Function(V).interpolate(3)\n",
        "g4 = Function(V).interpolate(4)\n",
        "g = as_matrix( [[g1, g2], [g3, g4]] )\n",
        "\n",
        "N = MyMultMatrix(f, g, function_space =  V).assemble_N()\n",
        "\n",
        "\n",
        "print(N)\n",
        "print()\n",
        "print(\"N is of type\", type(N), \"without any conversions\")"
      ],
      "metadata": {
        "id": "vEkLhYWvSzvK",
        "colab": {
          "base_uri": "https://localhost:8080/"
        },
        "outputId": "0b97718b-9001-48bc-a9be-d28dba3f8d6b"
      },
      "execution_count": 81,
      "outputs": [
        {
          "output_type": "stream",
          "name": "stdout",
          "text": [
            "{ A | A_{i_{261}, i_{262}} = sum_{i_{263}} ([\n",
            "  [w₅₆₁, w₅₆₅],\n",
            "  [w₅₆₉, w₅₇₃]\n",
            "])[i_{261}, i_{263}] * ([\n",
            "  [w₅₇₇, w₅₈₁],\n",
            "  [w₅₈₅, w₅₈₉]\n",
            "])[i_{263}, i_{262}]  }\n",
            "\n",
            "N is of type <class 'ufl.tensors.ComponentTensor'> without any conversions\n"
          ]
        }
      ]
    },
    {
      "cell_type": "code",
      "source": [
        "u = Function(W)\n",
        "v = TestFunction(W)\n",
        "bcs = DirichletBC(W, 0, \"on_boundary\")\n",
        "\n",
        "F = inner( grad(v), dot( N, grad(u)) ) * dx\n",
        "\n",
        "solve(F == 0, u, bcs=bcs)"
      ],
      "metadata": {
        "id": "nv3H0C9hSzvK"
      },
      "execution_count": 82,
      "outputs": []
    },
    {
      "cell_type": "markdown",
      "source": [
        "## Use Numpy's Component Wise Absolute Value in the Weak Form (FAILS)"
      ],
      "metadata": {
        "id": "aKg6uvaWLRDl"
      }
    },
    {
      "cell_type": "code",
      "source": [
        "class MyAbsMatrix(AbstractExternalOperator):\n",
        "\n",
        "  def __init__(self, *operands, function_space, **kwargs):\n",
        "      AbstractExternalOperator.__init__(self, *operands, function_space=function_space, **kwargs)\n",
        "\n",
        "  @assemble_method(0, (0,))\n",
        "  def assemble_N(self, *args, **kwargs):\n",
        "      \"\"\"Evaluate N\"\"\"\n",
        "      a = self.ufl_operands[0]\n",
        "      N = np.abs(a)\n",
        "      return N"
      ],
      "metadata": {
        "id": "0wHt4CTKJ1BC"
      },
      "execution_count": 83,
      "outputs": []
    },
    {
      "cell_type": "code",
      "source": [
        "V = FunctionSpace(mesh, \"CG\", 2)\n",
        "W = VectorFunctionSpace(mesh, \"CG\", 2)\n",
        "f1 = Function(V).interpolate(xi**2 - 1)\n",
        "f2 = Function(V).interpolate(eta**2 + 1)\n",
        "f3 = Function(V).interpolate(xi**2 + 1 )\n",
        "f4 = Function(V).interpolate(eta**2 - 1)\n",
        "f = as_matrix( [[f1, f2], [f3, f4]] )\n",
        "\n",
        "N = MyAbsMatrix(f, function_space =  V).assemble_N()\n",
        "\n",
        "\n",
        "print(N)\n",
        "print()\n",
        "print(\"N is of type\", type(N), \"without any conversions\")"
      ],
      "metadata": {
        "id": "Bpf7ulh_MK3Z",
        "colab": {
          "base_uri": "https://localhost:8080/"
        },
        "outputId": "8ee9f846-efdd-4ad0-acea-7f844cf26f7e"
      },
      "execution_count": 84,
      "outputs": [
        {
          "output_type": "stream",
          "name": "stdout",
          "text": [
            "|([\n",
            "  [w₆₁₄, w₆₁₈],\n",
            "  [w₆₂₂, w₆₂₆]\n",
            "])|\n",
            "\n",
            "N is of type <class 'ufl.algebra.Abs'> without any conversions\n"
          ]
        }
      ]
    },
    {
      "cell_type": "code",
      "source": [
        "u = Function(W)\n",
        "v = TestFunction(W)\n",
        "bcs = DirichletBC(V, 0, \"on_boundary\")\n",
        "\n",
        "F = inner( grad(v), dot( N, grad(u)) ) * dx\n",
        "\n",
        "# solve(F == 0, u, bcs=bcs) # FAILS\n",
        "# ValueError: Expecting scalar arguments."
      ],
      "metadata": {
        "id": "HvWFTcSsPfE7"
      },
      "execution_count": 85,
      "outputs": []
    },
    {
      "cell_type": "markdown",
      "source": [
        "## Let's Use a Scipy Tool (FAILS)"
      ],
      "metadata": {
        "id": "pR3o9gMmWf2j"
      }
    },
    {
      "cell_type": "markdown",
      "source": [
        "### Similar To What I Have In My Hessian Code"
      ],
      "metadata": {
        "id": "KNvjp6jqmTxD"
      }
    },
    {
      "cell_type": "code",
      "source": [
        "class MyInvMatrix(AbstractExternalOperator):\n",
        "\n",
        "  def __init__(self, *operands, function_space, **kwargs):\n",
        "      AbstractExternalOperator.__init__(self, *operands, function_space=function_space, **kwargs)\n",
        "\n",
        "  @assemble_method(0, (0,))\n",
        "  def assemble_N(self, *args, **kwargs):\n",
        "      \"\"\"Evaluate N\"\"\"\n",
        "\n",
        "      a1, a2, a3, a4 = self.ufl_operands\n",
        "\n",
        "      points = len(a1.dat.data)\n",
        "      result = np.zeros((2, 2, points))\n",
        "\n",
        "      for i in range(points):\n",
        "\n",
        "        curr_a = np.array([[a1.dat.data[i], a2.dat.data[i]], [a3.dat.data[i], a4.dat.data[i]]])\n",
        "        result[:, :, i] = sci.linalg.inv(curr_a)\n",
        "\n",
        "      return result"
      ],
      "metadata": {
        "id": "QA8bnG0SWy_0"
      },
      "execution_count": 86,
      "outputs": []
    },
    {
      "cell_type": "code",
      "source": [
        "V = FunctionSpace(mesh, \"CG\", 2)\n",
        "W = VectorFunctionSpace(mesh, \"CG\", 2)\n",
        "\n",
        "\n",
        "f1 = Function(V).interpolate(xi**2 - 1)\n",
        "f2 = Function(V).interpolate(1)\n",
        "f3 = Function(V).interpolate(xi**2 + 1 )\n",
        "f4 = Function(V).interpolate(2)\n",
        "\n",
        "\n",
        "f = as_matrix( [[f1, f2], [f3, f4]] )\n",
        "\n",
        "\n",
        "N = MyInvMatrix(f1, f2, f3, f4, function_space =  V).assemble_N()\n",
        "\n",
        "\n",
        "\n",
        "print(\"N is of type\", type(N), \"so we need to convert to ufl\")\n",
        "print()\n",
        "\n",
        "\n",
        "N1 = Function(V)\n",
        "N2 = Function(V)\n",
        "N3 = Function(V)\n",
        "N4 = Function(V)\n",
        "N1.dat.data[:] = N[0, 0, :]\n",
        "N2.dat.data[:] = N[0, 1, :]\n",
        "N3.dat.data[:] = N[1, 0, :]\n",
        "N4.dat.data[:] = N[1, 1, :]\n",
        "Nnew = as_matrix([ [ N1, N2 ] , [ N3, N4 ]] )\n",
        "\n",
        "\n",
        "print(\"N is now of type\", type(Nnew))\n",
        "\n",
        "\n"
      ],
      "metadata": {
        "id": "dY-B7qOwWy_0",
        "colab": {
          "base_uri": "https://localhost:8080/"
        },
        "outputId": "35b1218e-901d-4044-8335-f179caadaa3a"
      },
      "execution_count": 87,
      "outputs": [
        {
          "output_type": "stream",
          "name": "stdout",
          "text": [
            "N is of type <class 'numpy.ndarray'> so we need to convert to ufl\n",
            "\n",
            "N is now of type <class 'ufl.tensors.ListTensor'>\n"
          ]
        }
      ]
    },
    {
      "cell_type": "code",
      "source": [
        "u = Function(W)\n",
        "v = TestFunction(W)\n",
        "bcs = DirichletBC(W, 0, \"on_boundary\")\n",
        "\n",
        "F = inner( grad(v), dot( Nnew, grad(u)) ) * dx\n",
        "\n",
        "solve(F == 0, u, bcs=bcs)"
      ],
      "metadata": {
        "id": "7mzaNuxfoWFz"
      },
      "execution_count": 88,
      "outputs": []
    },
    {
      "cell_type": "markdown",
      "source": [
        "### What I Would Like to Have (fails tho)"
      ],
      "metadata": {
        "id": "Rk82LtXBmbd7"
      }
    },
    {
      "cell_type": "code",
      "source": [
        "class MyInvMatrix(AbstractExternalOperator):\n",
        "\n",
        "  def __init__(self, *operands, function_space, **kwargs):\n",
        "      AbstractExternalOperator.__init__(self, *operands, function_space=function_space, **kwargs)\n",
        "\n",
        "  @assemble_method(0, (0,))\n",
        "  def assemble_N(self, *args, **kwargs):\n",
        "      \"\"\"Evaluate N\"\"\"\n",
        "\n",
        "      a = self.ufl_operands[0]\n",
        "\n",
        "      N = sci.linalg.inv(a)\n",
        "\n",
        "      # fails - causes ValueError: object arrays are not supported\n",
        "\n",
        "      return N"
      ],
      "metadata": {
        "id": "5x746XuGjwEq"
      },
      "execution_count": 89,
      "outputs": []
    },
    {
      "cell_type": "code",
      "source": [
        "V = FunctionSpace(mesh, \"CG\", 2)\n",
        "W = VectorFunctionSpace(mesh, \"CG\", 2)\n",
        "\n",
        "\n",
        "f1 = Function(V).interpolate(xi**2 - 1)\n",
        "f2 = Function(V).interpolate(eta**2 + 1)\n",
        "f3 = Function(V).interpolate(xi**2 + 1 )\n",
        "f4 = Function(V).interpolate(eta**2 - 1)\n",
        "\n",
        "\n",
        "f = as_matrix( [[f1, f2], [f3, f4]] )\n",
        "\n",
        "\n",
        "N = MyInvMatrix(f, function_space =  V).assemble_N()\n",
        "\n",
        "\n",
        "print(N)\n",
        "print()\n",
        "print(\"N is of type\", type(N), \"without any conversions\")"
      ],
      "metadata": {
        "id": "2GlZhixVjwEw",
        "colab": {
          "base_uri": "https://localhost:8080/",
          "height": 356
        },
        "outputId": "22ad66e3-1677-468d-fdad-697a2e7f7aa3"
      },
      "execution_count": 90,
      "outputs": [
        {
          "output_type": "error",
          "ename": "ValueError",
          "evalue": "object arrays are not supported",
          "traceback": [
            "\u001b[0;31m---------------------------------------------------------------------------\u001b[0m",
            "\u001b[0;31mValueError\u001b[0m                                Traceback (most recent call last)",
            "\u001b[0;32m<ipython-input-90-3cc57da41624>\u001b[0m in \u001b[0;36m<cell line: 14>\u001b[0;34m()\u001b[0m\n\u001b[1;32m     12\u001b[0m \u001b[0;34m\u001b[0m\u001b[0m\n\u001b[1;32m     13\u001b[0m \u001b[0;34m\u001b[0m\u001b[0m\n\u001b[0;32m---> 14\u001b[0;31m \u001b[0mN\u001b[0m \u001b[0;34m=\u001b[0m \u001b[0mMyInvMatrix\u001b[0m\u001b[0;34m(\u001b[0m\u001b[0mf\u001b[0m\u001b[0;34m,\u001b[0m \u001b[0mfunction_space\u001b[0m \u001b[0;34m=\u001b[0m  \u001b[0mV\u001b[0m\u001b[0;34m)\u001b[0m\u001b[0;34m.\u001b[0m\u001b[0massemble_N\u001b[0m\u001b[0;34m(\u001b[0m\u001b[0;34m)\u001b[0m\u001b[0;34m\u001b[0m\u001b[0;34m\u001b[0m\u001b[0m\n\u001b[0m\u001b[1;32m     15\u001b[0m \u001b[0;34m\u001b[0m\u001b[0m\n\u001b[1;32m     16\u001b[0m \u001b[0;34m\u001b[0m\u001b[0m\n",
            "\u001b[0;32m<ipython-input-89-5ea41924c2c3>\u001b[0m in \u001b[0;36massemble_N\u001b[0;34m(self, *args, **kwargs)\u001b[0m\n\u001b[1;32m     10\u001b[0m       \u001b[0ma\u001b[0m \u001b[0;34m=\u001b[0m \u001b[0mself\u001b[0m\u001b[0;34m.\u001b[0m\u001b[0mufl_operands\u001b[0m\u001b[0;34m[\u001b[0m\u001b[0;36m0\u001b[0m\u001b[0;34m]\u001b[0m\u001b[0;34m\u001b[0m\u001b[0;34m\u001b[0m\u001b[0m\n\u001b[1;32m     11\u001b[0m \u001b[0;34m\u001b[0m\u001b[0m\n\u001b[0;32m---> 12\u001b[0;31m       \u001b[0mN\u001b[0m \u001b[0;34m=\u001b[0m \u001b[0msci\u001b[0m\u001b[0;34m.\u001b[0m\u001b[0mlinalg\u001b[0m\u001b[0;34m.\u001b[0m\u001b[0minv\u001b[0m\u001b[0;34m(\u001b[0m\u001b[0ma\u001b[0m\u001b[0;34m)\u001b[0m\u001b[0;34m\u001b[0m\u001b[0;34m\u001b[0m\u001b[0m\n\u001b[0m\u001b[1;32m     13\u001b[0m \u001b[0;34m\u001b[0m\u001b[0m\n\u001b[1;32m     14\u001b[0m       \u001b[0;31m# fails - causes ValueError: object arrays are not supported\u001b[0m\u001b[0;34m\u001b[0m\u001b[0;34m\u001b[0m\u001b[0m\n",
            "\u001b[0;32m/usr/local/lib/python3.10/dist-packages/scipy/linalg/_basic.py\u001b[0m in \u001b[0;36minv\u001b[0;34m(a, overwrite_a, check_finite)\u001b[0m\n\u001b[1;32m    938\u001b[0m \u001b[0;34m\u001b[0m\u001b[0m\n\u001b[1;32m    939\u001b[0m     \"\"\"\n\u001b[0;32m--> 940\u001b[0;31m     \u001b[0ma1\u001b[0m \u001b[0;34m=\u001b[0m \u001b[0m_asarray_validated\u001b[0m\u001b[0;34m(\u001b[0m\u001b[0ma\u001b[0m\u001b[0;34m,\u001b[0m \u001b[0mcheck_finite\u001b[0m\u001b[0;34m=\u001b[0m\u001b[0mcheck_finite\u001b[0m\u001b[0;34m)\u001b[0m\u001b[0;34m\u001b[0m\u001b[0;34m\u001b[0m\u001b[0m\n\u001b[0m\u001b[1;32m    941\u001b[0m     \u001b[0;32mif\u001b[0m \u001b[0mlen\u001b[0m\u001b[0;34m(\u001b[0m\u001b[0ma1\u001b[0m\u001b[0;34m.\u001b[0m\u001b[0mshape\u001b[0m\u001b[0;34m)\u001b[0m \u001b[0;34m!=\u001b[0m \u001b[0;36m2\u001b[0m \u001b[0;32mor\u001b[0m \u001b[0ma1\u001b[0m\u001b[0;34m.\u001b[0m\u001b[0mshape\u001b[0m\u001b[0;34m[\u001b[0m\u001b[0;36m0\u001b[0m\u001b[0;34m]\u001b[0m \u001b[0;34m!=\u001b[0m \u001b[0ma1\u001b[0m\u001b[0;34m.\u001b[0m\u001b[0mshape\u001b[0m\u001b[0;34m[\u001b[0m\u001b[0;36m1\u001b[0m\u001b[0;34m]\u001b[0m\u001b[0;34m:\u001b[0m\u001b[0;34m\u001b[0m\u001b[0;34m\u001b[0m\u001b[0m\n\u001b[1;32m    942\u001b[0m         \u001b[0;32mraise\u001b[0m \u001b[0mValueError\u001b[0m\u001b[0;34m(\u001b[0m\u001b[0;34m'expected square matrix'\u001b[0m\u001b[0;34m)\u001b[0m\u001b[0;34m\u001b[0m\u001b[0;34m\u001b[0m\u001b[0m\n",
            "\u001b[0;32m/usr/local/lib/python3.10/dist-packages/scipy/_lib/_util.py\u001b[0m in \u001b[0;36m_asarray_validated\u001b[0;34m(a, check_finite, sparse_ok, objects_ok, mask_ok, as_inexact)\u001b[0m\n\u001b[1;32m    322\u001b[0m     \u001b[0;32mif\u001b[0m \u001b[0;32mnot\u001b[0m \u001b[0mobjects_ok\u001b[0m\u001b[0;34m:\u001b[0m\u001b[0;34m\u001b[0m\u001b[0;34m\u001b[0m\u001b[0m\n\u001b[1;32m    323\u001b[0m         \u001b[0;32mif\u001b[0m \u001b[0ma\u001b[0m\u001b[0;34m.\u001b[0m\u001b[0mdtype\u001b[0m \u001b[0;32mis\u001b[0m \u001b[0mnp\u001b[0m\u001b[0;34m.\u001b[0m\u001b[0mdtype\u001b[0m\u001b[0;34m(\u001b[0m\u001b[0;34m'O'\u001b[0m\u001b[0;34m)\u001b[0m\u001b[0;34m:\u001b[0m\u001b[0;34m\u001b[0m\u001b[0;34m\u001b[0m\u001b[0m\n\u001b[0;32m--> 324\u001b[0;31m             \u001b[0;32mraise\u001b[0m \u001b[0mValueError\u001b[0m\u001b[0;34m(\u001b[0m\u001b[0;34m'object arrays are not supported'\u001b[0m\u001b[0;34m)\u001b[0m\u001b[0;34m\u001b[0m\u001b[0;34m\u001b[0m\u001b[0m\n\u001b[0m\u001b[1;32m    325\u001b[0m     \u001b[0;32mif\u001b[0m \u001b[0mas_inexact\u001b[0m\u001b[0;34m:\u001b[0m\u001b[0;34m\u001b[0m\u001b[0;34m\u001b[0m\u001b[0m\n\u001b[1;32m    326\u001b[0m         \u001b[0;32mif\u001b[0m \u001b[0;32mnot\u001b[0m \u001b[0mnp\u001b[0m\u001b[0;34m.\u001b[0m\u001b[0missubdtype\u001b[0m\u001b[0;34m(\u001b[0m\u001b[0ma\u001b[0m\u001b[0;34m.\u001b[0m\u001b[0mdtype\u001b[0m\u001b[0;34m,\u001b[0m \u001b[0mnp\u001b[0m\u001b[0;34m.\u001b[0m\u001b[0minexact\u001b[0m\u001b[0;34m)\u001b[0m\u001b[0;34m:\u001b[0m\u001b[0;34m\u001b[0m\u001b[0;34m\u001b[0m\u001b[0m\n",
            "\u001b[0;31mValueError\u001b[0m: object arrays are not supported"
          ]
        }
      ]
    },
    {
      "cell_type": "code",
      "source": [
        "u = Function(W)\n",
        "v = TestFunction(W)\n",
        "bcs = DirichletBC(W, 0, \"on_boundary\")\n",
        "\n",
        "F = inner( grad(v), dot( N, grad(u)) ) * dx\n",
        "\n",
        "solve(F == 0, u, bcs=bcs)"
      ],
      "metadata": {
        "id": "CiGm66pBWy_0"
      },
      "execution_count": null,
      "outputs": []
    }
  ]
}